{
 "cells": [
  {
   "cell_type": "code",
   "execution_count": 19,
   "metadata": {},
   "outputs": [
    {
     "name": "stdout",
     "output_type": "stream",
     "text": [
      "Requirement already satisfied: razdel in ./.venv/lib/python3.9/site-packages (0.5.0)\n",
      "Requirement already satisfied: datasets in ./.venv/lib/python3.9/site-packages (2.14.6)\n",
      "Requirement already satisfied: transformers in ./.venv/lib/python3.9/site-packages (4.34.1)\n",
      "Requirement already satisfied: seqeval in ./.venv/lib/python3.9/site-packages (1.2.2)\n",
      "Requirement already satisfied: accelerate in ./.venv/lib/python3.9/site-packages (0.24.0)\n",
      "Collecting plac\n",
      "  Downloading plac-1.4.1-py2.py3-none-any.whl.metadata (5.3 kB)\n",
      "Requirement already satisfied: numpy>=1.17 in ./.venv/lib/python3.9/site-packages (from datasets) (1.26.1)\n",
      "Requirement already satisfied: pyarrow>=8.0.0 in ./.venv/lib/python3.9/site-packages (from datasets) (13.0.0)\n",
      "Requirement already satisfied: dill<0.3.8,>=0.3.0 in ./.venv/lib/python3.9/site-packages (from datasets) (0.3.7)\n",
      "Requirement already satisfied: pandas in ./.venv/lib/python3.9/site-packages (from datasets) (2.1.2)\n",
      "Requirement already satisfied: requests>=2.19.0 in ./.venv/lib/python3.9/site-packages (from datasets) (2.31.0)\n",
      "Requirement already satisfied: tqdm>=4.62.1 in ./.venv/lib/python3.9/site-packages (from datasets) (4.66.1)\n",
      "Requirement already satisfied: xxhash in ./.venv/lib/python3.9/site-packages (from datasets) (3.4.1)\n",
      "Requirement already satisfied: multiprocess in ./.venv/lib/python3.9/site-packages (from datasets) (0.70.15)\n",
      "Requirement already satisfied: fsspec<=2023.10.0,>=2023.1.0 in ./.venv/lib/python3.9/site-packages (from fsspec[http]<=2023.10.0,>=2023.1.0->datasets) (2023.10.0)\n",
      "Requirement already satisfied: aiohttp in ./.venv/lib/python3.9/site-packages (from datasets) (3.8.6)\n",
      "Requirement already satisfied: huggingface-hub<1.0.0,>=0.14.0 in ./.venv/lib/python3.9/site-packages (from datasets) (0.17.3)\n",
      "Requirement already satisfied: packaging in ./.venv/lib/python3.9/site-packages (from datasets) (23.2)\n",
      "Requirement already satisfied: pyyaml>=5.1 in ./.venv/lib/python3.9/site-packages (from datasets) (6.0.1)\n",
      "Requirement already satisfied: filelock in ./.venv/lib/python3.9/site-packages (from transformers) (3.13.0)\n",
      "Requirement already satisfied: regex!=2019.12.17 in ./.venv/lib/python3.9/site-packages (from transformers) (2023.10.3)\n",
      "Requirement already satisfied: tokenizers<0.15,>=0.14 in ./.venv/lib/python3.9/site-packages (from transformers) (0.14.1)\n",
      "Requirement already satisfied: safetensors>=0.3.1 in ./.venv/lib/python3.9/site-packages (from transformers) (0.4.0)\n",
      "Requirement already satisfied: scikit-learn>=0.21.3 in ./.venv/lib/python3.9/site-packages (from seqeval) (1.3.2)\n",
      "Requirement already satisfied: psutil in ./.venv/lib/python3.9/site-packages (from accelerate) (5.9.6)\n",
      "Requirement already satisfied: torch>=1.10.0 in ./.venv/lib/python3.9/site-packages (from accelerate) (2.1.0)\n",
      "Requirement already satisfied: attrs>=17.3.0 in ./.venv/lib/python3.9/site-packages (from aiohttp->datasets) (23.1.0)\n",
      "Requirement already satisfied: charset-normalizer<4.0,>=2.0 in ./.venv/lib/python3.9/site-packages (from aiohttp->datasets) (3.3.1)\n",
      "Requirement already satisfied: multidict<7.0,>=4.5 in ./.venv/lib/python3.9/site-packages (from aiohttp->datasets) (6.0.4)\n",
      "Requirement already satisfied: async-timeout<5.0,>=4.0.0a3 in ./.venv/lib/python3.9/site-packages (from aiohttp->datasets) (4.0.3)\n",
      "Requirement already satisfied: yarl<2.0,>=1.0 in ./.venv/lib/python3.9/site-packages (from aiohttp->datasets) (1.9.2)\n",
      "Requirement already satisfied: frozenlist>=1.1.1 in ./.venv/lib/python3.9/site-packages (from aiohttp->datasets) (1.4.0)\n",
      "Requirement already satisfied: aiosignal>=1.1.2 in ./.venv/lib/python3.9/site-packages (from aiohttp->datasets) (1.3.1)\n",
      "Requirement already satisfied: typing-extensions>=3.7.4.3 in ./.venv/lib/python3.9/site-packages (from huggingface-hub<1.0.0,>=0.14.0->datasets) (4.8.0)\n",
      "Requirement already satisfied: idna<4,>=2.5 in ./.venv/lib/python3.9/site-packages (from requests>=2.19.0->datasets) (3.4)\n",
      "Requirement already satisfied: urllib3<3,>=1.21.1 in ./.venv/lib/python3.9/site-packages (from requests>=2.19.0->datasets) (2.0.7)\n",
      "Requirement already satisfied: certifi>=2017.4.17 in ./.venv/lib/python3.9/site-packages (from requests>=2.19.0->datasets) (2023.7.22)\n",
      "Requirement already satisfied: scipy>=1.5.0 in ./.venv/lib/python3.9/site-packages (from scikit-learn>=0.21.3->seqeval) (1.11.3)\n",
      "Requirement already satisfied: joblib>=1.1.1 in ./.venv/lib/python3.9/site-packages (from scikit-learn>=0.21.3->seqeval) (1.3.2)\n",
      "Requirement already satisfied: threadpoolctl>=2.0.0 in ./.venv/lib/python3.9/site-packages (from scikit-learn>=0.21.3->seqeval) (3.2.0)\n",
      "Requirement already satisfied: sympy in ./.venv/lib/python3.9/site-packages (from torch>=1.10.0->accelerate) (1.12)\n",
      "Requirement already satisfied: networkx in ./.venv/lib/python3.9/site-packages (from torch>=1.10.0->accelerate) (3.2.1)\n",
      "Requirement already satisfied: jinja2 in ./.venv/lib/python3.9/site-packages (from torch>=1.10.0->accelerate) (3.1.2)\n",
      "Requirement already satisfied: python-dateutil>=2.8.2 in ./.venv/lib/python3.9/site-packages (from pandas->datasets) (2.8.2)\n",
      "Requirement already satisfied: pytz>=2020.1 in ./.venv/lib/python3.9/site-packages (from pandas->datasets) (2023.3.post1)\n",
      "Requirement already satisfied: tzdata>=2022.1 in ./.venv/lib/python3.9/site-packages (from pandas->datasets) (2023.3)\n",
      "Requirement already satisfied: six>=1.5 in ./.venv/lib/python3.9/site-packages (from python-dateutil>=2.8.2->pandas->datasets) (1.16.0)\n",
      "Requirement already satisfied: MarkupSafe>=2.0 in ./.venv/lib/python3.9/site-packages (from jinja2->torch>=1.10.0->accelerate) (2.1.3)\n",
      "Requirement already satisfied: mpmath>=0.19 in ./.venv/lib/python3.9/site-packages (from sympy->torch>=1.10.0->accelerate) (1.3.0)\n",
      "Downloading plac-1.4.1-py2.py3-none-any.whl (22 kB)\n",
      "Installing collected packages: plac\n",
      "Successfully installed plac-1.4.1\n"
     ]
    }
   ],
   "source": [
    "!pip install razdel datasets transformers seqeval accelerate plac"
   ]
  },
  {
   "cell_type": "markdown",
   "metadata": {},
   "source": [
    "Подгружаем данные"
   ]
  },
  {
   "cell_type": "code",
   "execution_count": 4,
   "metadata": {},
   "outputs": [
    {
     "data": {
      "text/html": [
       "<div>\n",
       "<style scoped>\n",
       "    .dataframe tbody tr th:only-of-type {\n",
       "        vertical-align: middle;\n",
       "    }\n",
       "\n",
       "    .dataframe tbody tr th {\n",
       "        vertical-align: top;\n",
       "    }\n",
       "\n",
       "    .dataframe thead th {\n",
       "        text-align: right;\n",
       "    }\n",
       "</style>\n",
       "<table border=\"1\" class=\"dataframe\">\n",
       "  <thead>\n",
       "    <tr style=\"text-align: right;\">\n",
       "      <th></th>\n",
       "      <th>video_info</th>\n",
       "      <th>entities</th>\n",
       "    </tr>\n",
       "  </thead>\n",
       "  <tbody>\n",
       "    <tr>\n",
       "      <th>0</th>\n",
       "      <td>&lt;НАЗВАНИЕ:&gt; Агент 117: Из Африки с любовью — Р...</td>\n",
       "      <td>{\"label\":\"локация\"\\,\"offset\":26\\,\"length\":6\\,\"...</td>\n",
       "    </tr>\n",
       "    <tr>\n",
       "      <th>1</th>\n",
       "      <td>&lt;НАЗВАНИЕ:&gt; Коленвал Инфинити Ку икс 56= 5.6 V...</td>\n",
       "      <td>{\"label\":\"организация\"\\,\"offset\":196\\,\"length\"...</td>\n",
       "    </tr>\n",
       "    <tr>\n",
       "      <th>2</th>\n",
       "      <td>&lt;НАЗВАНИЕ:&gt; ВЫЗОВ ДЕМОНА = Вызвал Серого Челов...</td>\n",
       "      <td>{\"label\":\"название проекта\"\\,\"offset\":12\\,\"len...</td>\n",
       "    </tr>\n",
       "    <tr>\n",
       "      <th>3</th>\n",
       "      <td>&lt;НАЗВАНИЕ:&gt; Довоенная немецкая кирха в Калинин...</td>\n",
       "      <td>{\"label\":\"не найдено\"\\,\"offset\":162\\,\"length\":...</td>\n",
       "    </tr>\n",
       "    <tr>\n",
       "      <th>4</th>\n",
       "      <td>&lt;НАЗВАНИЕ:&gt; \"Спартаку\" помогли судьи? Локомоти...</td>\n",
       "      <td>{\"label\":\"команда\"\\,\"offset\":13\\,\"length\":8\\,\"...</td>\n",
       "    </tr>\n",
       "    <tr>\n",
       "      <th>...</th>\n",
       "      <td>...</td>\n",
       "      <td>...</td>\n",
       "    </tr>\n",
       "    <tr>\n",
       "      <th>6417</th>\n",
       "      <td>&lt;НАЗВАНИЕ:&gt; ЗАПРЕЩЕННЫЙ УДАР! Полный бой Вадим...</td>\n",
       "      <td>{\"label\":\"персона\"\\,\"offset\":41\\,\"length\":12\\,...</td>\n",
       "    </tr>\n",
       "    <tr>\n",
       "      <th>6418</th>\n",
       "      <td>&lt;НАЗВАНИЕ:&gt; Как создаются медали: оптические и...</td>\n",
       "      <td>{\"label\":\"локация\"\\,\"offset\":88\\,\"length\":10\\,...</td>\n",
       "    </tr>\n",
       "    <tr>\n",
       "      <th>6419</th>\n",
       "      <td>&lt;НАЗВАНИЕ:&gt; Ремонт ломовоза камаз, монтаж гидр...</td>\n",
       "      <td>{\"label\":\"бренд\"\\,\"offset\":28\\,\"length\":5\\,\"se...</td>\n",
       "    </tr>\n",
       "    <tr>\n",
       "      <th>6420</th>\n",
       "      <td>&lt;НАЗВАНИЕ:&gt; Голодные игры: Баллада о змеях и п...</td>\n",
       "      <td>{\"label\":\"Дата\"\\,\"offset\":78\\,\"length\":4\\,\"seg...</td>\n",
       "    </tr>\n",
       "    <tr>\n",
       "      <th>6421</th>\n",
       "      <td>&lt;НАЗВАНИЕ:&gt; Экскаватор на Дровах! Часть 15. За...</td>\n",
       "      <td>{\"label\":\"название проекта\"\\,\"offset\":12\\,\"len...</td>\n",
       "    </tr>\n",
       "  </tbody>\n",
       "</table>\n",
       "<p>6422 rows × 2 columns</p>\n",
       "</div>"
      ],
      "text/plain": [
       "                                             video_info  \\\n",
       "0     <НАЗВАНИЕ:> Агент 117: Из Африки с любовью — Р...   \n",
       "1     <НАЗВАНИЕ:> Коленвал Инфинити Ку икс 56= 5.6 V...   \n",
       "2     <НАЗВАНИЕ:> ВЫЗОВ ДЕМОНА = Вызвал Серого Челов...   \n",
       "3     <НАЗВАНИЕ:> Довоенная немецкая кирха в Калинин...   \n",
       "4     <НАЗВАНИЕ:> \"Спартаку\" помогли судьи? Локомоти...   \n",
       "...                                                 ...   \n",
       "6417  <НАЗВАНИЕ:> ЗАПРЕЩЕННЫЙ УДАР! Полный бой Вадим...   \n",
       "6418  <НАЗВАНИЕ:> Как создаются медали: оптические и...   \n",
       "6419  <НАЗВАНИЕ:> Ремонт ломовоза камаз, монтаж гидр...   \n",
       "6420  <НАЗВАНИЕ:> Голодные игры: Баллада о змеях и п...   \n",
       "6421  <НАЗВАНИЕ:> Экскаватор на Дровах! Часть 15. За...   \n",
       "\n",
       "                                               entities  \n",
       "0     {\"label\":\"локация\"\\,\"offset\":26\\,\"length\":6\\,\"...  \n",
       "1     {\"label\":\"организация\"\\,\"offset\":196\\,\"length\"...  \n",
       "2     {\"label\":\"название проекта\"\\,\"offset\":12\\,\"len...  \n",
       "3     {\"label\":\"не найдено\"\\,\"offset\":162\\,\"length\":...  \n",
       "4     {\"label\":\"команда\"\\,\"offset\":13\\,\"length\":8\\,\"...  \n",
       "...                                                 ...  \n",
       "6417  {\"label\":\"персона\"\\,\"offset\":41\\,\"length\":12\\,...  \n",
       "6418  {\"label\":\"локация\"\\,\"offset\":88\\,\"length\":10\\,...  \n",
       "6419  {\"label\":\"бренд\"\\,\"offset\":28\\,\"length\":5\\,\"se...  \n",
       "6420  {\"label\":\"Дата\"\\,\"offset\":78\\,\"length\":4\\,\"seg...  \n",
       "6421  {\"label\":\"название проекта\"\\,\"offset\":12\\,\"len...  \n",
       "\n",
       "[6422 rows x 2 columns]"
      ]
     },
     "execution_count": 4,
     "metadata": {},
     "output_type": "execute_result"
    }
   ],
   "source": [
    "import pandas as pd\n",
    "data = pd.read_csv(\"ner_data_train.csv\")\n",
    "data"
   ]
  },
  {
   "cell_type": "markdown",
   "metadata": {},
   "source": [
    "Предобработка данных"
   ]
  },
  {
   "cell_type": "code",
   "execution_count": 5,
   "metadata": {},
   "outputs": [],
   "source": [
    "import json\n",
    "df = data.copy()\n",
    "df['entities'] = df['entities'].apply(lambda l: l.replace('\\,', ',')if isinstance(l, str) else l)\n",
    "df['entities'] = df['entities'].apply(lambda l: l.replace('\\\\\\\\', '\\\\')if isinstance(l, str) else l)\n",
    "df['entities'] = df['entities'].apply(lambda l: '[' + l + ']'if isinstance(l, str) else l)\n",
    "df['entities'] = df['entities'].apply(lambda l: json.loads(l)if isinstance(l, str) else l)"
   ]
  },
  {
   "cell_type": "code",
   "execution_count": 6,
   "metadata": {},
   "outputs": [],
   "source": [
    "from razdel import tokenize\n",
    "\n",
    "def extract_labels(item):\n",
    "\n",
    "    raw_toks = list(tokenize(item['video_info']))\n",
    "    words = [tok.text for tok in raw_toks]\n",
    "    word_labels = ['O'] * len(raw_toks)\n",
    "    char2word = [None] * len(item['video_info'])\n",
    "    for i, word in enumerate(raw_toks):\n",
    "        char2word[word.start:word.stop] = [i] * len(word.text)\n",
    "\n",
    "    labels = item['entities']\n",
    "    if isinstance(labels, dict):\n",
    "        labels = [labels]\n",
    "    if labels is not None:\n",
    "        for e in labels:\n",
    "            if e['label'] != 'не найдено':\n",
    "                e_words = sorted({idx for idx in char2word[e['offset']:e['offset']+e['length']] if idx is not None})\n",
    "                if e_words:\n",
    "                    word_labels[e_words[0]] = 'B-' + e['label']\n",
    "                    for idx in e_words[1:]:\n",
    "                        word_labels[idx] = 'I-' + e['label']\n",
    "                else:\n",
    "                    continue\n",
    "            else:\n",
    "                continue\n",
    "        return {'tokens': words, 'tags': word_labels}\n",
    "    else: return {'tokens': words, 'tags': word_labels}"
   ]
  },
  {
   "cell_type": "code",
   "execution_count": 7,
   "metadata": {},
   "outputs": [
    {
     "name": "stdout",
     "output_type": "stream",
     "text": [
      "{'tokens': ['<', 'НАЗВАНИЕ', ':', '>', 'Агент', '117', ':', 'Из', 'Африки', 'с', 'любовью', '—', 'Русский', 'тизер', '=', 'трейлер', '(', '2021', ')', '<', 'ОПИСАНИЕ', ':', '>', 'Лучший', 'Telegram', 'канал', 'о', 'кино', '<', 'LINK', '>', 'Сотрудничество', '<', 'LINK', '>', 'Дата', 'выхода', '26', 'августа', '2021', 'Оригинальное', 'название', ':', 'OSS', '117', ':', 'Alerte', 'rouge', 'en', 'Afrique', 'noire', 'Страна', ':', 'Франция', 'Режиссер', ':', 'Николя', 'Бедос', 'Жанр', ':', 'боевик', ',', 'комедия', 'В', 'главных', 'ролях', ':', 'Жан', 'Дюжарден', ',', 'Пьер', 'Нинэ', ',', 'Мелоди', 'Каста', ',', 'Наташа', 'Линдинжер', ',', 'Владимир', 'Иорданов', ',', 'Фату', 'Н', '’', 'Диайе', ',', 'Пол', 'Уайт', 'Мир', 'изменился', '.', 'Он', 'нет', '.', 'Судьба', 'заносит', 'легендарного', 'Агента', '117', 'в', 'Африку', ',', 'где', 'горячее', 'пустыни', 'только', 'женщины', '.', 'Вооруженный', 'неиссякаемой', 'уверенностью', 'в', 'себе', 'и', 'убийственной', 'харизмой', ',', 'он', 'может', 'справиться', 'со', 'всеми', 'врагами', ',', 'кроме', 'самого', 'себя', '.', 'По', 'вопросам', 'авторского', 'права', ',', 'пожалуйста', ',', 'свяжитесь', 'с', 'нами', 'по', 'адресу', ':', '<', 'AT', '>'], 'tags': ['O', 'O', 'O', 'O', 'O', 'O', 'O', 'O', 'B-локация', 'O', 'O', 'O', 'O', 'O', 'O', 'O', 'O', 'O', 'O', 'O', 'O', 'O', 'O', 'O', 'O', 'O', 'O', 'O', 'O', 'O', 'O', 'O', 'O', 'O', 'O', 'O', 'O', 'B-Дата', 'I-Дата', 'I-Дата', 'O', 'O', 'O', 'B-название проекта', 'I-название проекта', 'I-название проекта', 'I-название проекта', 'I-название проекта', 'I-название проекта', 'I-название проекта', 'I-название проекта', 'O', 'O', 'B-локация', 'O', 'O', 'B-персона', 'I-персона', 'O', 'O', 'O', 'O', 'O', 'O', 'O', 'O', 'O', 'B-персона', 'I-персона', 'O', 'B-персона', 'I-персона', 'O', 'B-персона', 'I-персона', 'O', 'B-персона', 'I-персона', 'O', 'B-персона', 'I-персона', 'O', 'B-персона', 'I-персона', 'I-персона', 'I-персона', 'O', 'B-персона', 'I-персона', 'O', 'O', 'O', 'O', 'O', 'O', 'O', 'O', 'O', 'O', 'O', 'O', 'B-локация', 'O', 'O', 'O', 'O', 'O', 'O', 'O', 'O', 'O', 'O', 'O', 'O', 'O', 'O', 'O', 'O', 'O', 'O', 'O', 'O', 'O', 'O', 'O', 'O', 'O', 'O', 'O', 'O', 'O', 'O', 'O', 'O', 'O', 'O', 'O', 'O', 'O', 'O', 'O', 'O', 'O', 'O', 'O']}\n"
     ]
    }
   ],
   "source": [
    "print(extract_labels(df.iloc[0]))"
   ]
  },
  {
   "cell_type": "code",
   "execution_count": 8,
   "metadata": {},
   "outputs": [],
   "source": [
    "from sklearn.model_selection import train_test_split\n",
    "ner_data = [extract_labels(item) for i, item in df.iterrows()]\n",
    "ner_train, ner_test = train_test_split(ner_data, test_size=0.2, random_state=1)"
   ]
  },
  {
   "cell_type": "code",
   "execution_count": 9,
   "metadata": {},
   "outputs": [],
   "source": [
    "import pandas as pd\n",
    "pd.options.display.max_colwidth = 300\n",
    "data = pd.DataFrame(ner_train)"
   ]
  },
  {
   "cell_type": "markdown",
   "metadata": {},
   "source": [
    "Составим датасет (словарик) со всеми словами и классом именованных сущностей"
   ]
  },
  {
   "cell_type": "code",
   "execution_count": null,
   "metadata": {},
   "outputs": [],
   "source": [
    "dataset = {}\n",
    "data_wo = {}\n",
    "for i in range(0, len(data)):\n",
    "    text = data.tokens[i]\n",
    "    tags = data.tags[i]\n",
    "    for j in range(0, len(text)):\n",
    "      try:\n",
    "        if dataset[text[j]]:\n",
    "          pass\n",
    "      except:\n",
    "        if tags[j] != 'O':\n",
    "            data_wo[text[j]] = tags[j]\n",
    "        print(f'Word: {text[j]}, tag: {tags[j]}')\n",
    "        dataset[text[j]] = tags[j]"
   ]
  },
  {
   "cell_type": "code",
   "execution_count": 11,
   "metadata": {},
   "outputs": [
    {
     "data": {
      "text/plain": [
       "{'<': 'O',\n",
       " 'НАЗВАНИЕ': 'O',\n",
       " ':': 'O',\n",
       " '>': 'O',\n",
       " 'ТОП': 'O',\n",
       " '=': 'O',\n",
       " '5': 'O',\n",
       " 'хороших': 'O',\n",
       " 'видеорегистраторов': 'O',\n",
       " 'с': 'O',\n",
       " 'двумя': 'O',\n",
       " 'камерами': 'O',\n",
       " '.': 'O',\n",
       " 'Что': 'O',\n",
       " 'выбрать': 'O',\n",
       " 'в': 'O',\n",
       " '2022': 'B-Дата',\n",
       " '?': 'O',\n",
       " 'ОПИСАНИЕ': 'O',\n",
       " 'Roadgid': 'B-Дата',\n",
       " 'Blick': 'I-Дата',\n",
       " 'GPS': 'I-Дата',\n",
       " 'LINK': 'O',\n",
       " '4': 'O',\n",
       " 'iBOX': 'O',\n",
       " 'iCON': 'O',\n",
       " 'LV': 'O',\n",
       " 'WiFi': 'O',\n",
       " 'Signature': 'O',\n",
       " 'Dual': 'O',\n",
       " '3.': 'O',\n",
       " '70': 'O',\n",
       " 'mai': 'O',\n",
       " 'Dash': 'O',\n",
       " 'Cam': 'O',\n",
       " 'Pro': 'O',\n",
       " 'Plus': 'O',\n",
       " '2': 'O',\n",
       " 'Daocam': 'O',\n",
       " 'Combo': 'O',\n",
       " 'CH': 'O',\n",
       " '1': 'O',\n",
       " 'RoadGid': 'O',\n",
       " 'CityGo': 'O',\n",
       " '3': 'O',\n",
       " 'Мы': 'O',\n",
       " 'Вконтакте': 'O',\n",
       " 'Telegram': 'O',\n",
       " 'Наш': 'O',\n",
       " 'канал': 'O',\n",
       " 'на': 'O',\n",
       " 'Я': 'O',\n",
       " 'Дзен': 'O',\n",
       " 'ТикТок': 'O',\n",
       " '/': 'O',\n",
       " 'AT': 'O',\n",
       " 'Сотрудничество': 'O',\n",
       " 'и': 'O',\n",
       " 'реклама': 'O',\n",
       " 'Прямая': 'O',\n",
       " 'связь': 'O',\n",
       " 'автором': 'O',\n",
       " '✔': 'O',\n",
       " 'Нажми': 'O',\n",
       " 'колокольчик': 'O',\n",
       " '!': 'O',\n",
       " 'Ставь': 'O',\n",
       " 'лайк': 'O',\n",
       " ',': 'O',\n",
       " 'если': 'O',\n",
       " 'нравится': 'O',\n",
       " 'Общайся': 'O',\n",
       " 'комментариях': 'O',\n",
       " 'PRO': 'O',\n",
       " 'АВТО': 'O',\n",
       " '©': 'O',\n",
       " '2017': 'B-модель',\n",
       " 'День': 'O',\n",
       " 'создания': 'O',\n",
       " 'органов': 'O',\n",
       " 'государственного': 'O',\n",
       " 'пожарного': 'O',\n",
       " 'надзора': 'O',\n",
       " 'Огнеборцы': 'O',\n",
       " 'России': 'O',\n",
       " 'отметили': 'O',\n",
       " 'профессиональный': 'O',\n",
       " 'праздник': 'O',\n",
       " '—': 'O',\n",
       " 'В': 'O',\n",
       " 'этом': 'O',\n",
       " 'году': 'O',\n",
       " 'службе': 'O',\n",
       " 'исполнилось': 'B-локация',\n",
       " '96': 'I-локация',\n",
       " 'лет': 'O',\n",
       " 'О': 'O',\n",
       " 'буднях': 'O',\n",
       " 'рабочих': 'O',\n",
       " 'праздниках': 'O',\n",
       " 'поговорили': 'O',\n",
       " 'заместителем': 'O',\n",
       " 'начальника': 'O',\n",
       " 'ГУ': 'O',\n",
       " 'МЧС': 'O',\n",
       " 'по': 'O',\n",
       " 'Северной': 'O',\n",
       " 'Осетии': 'O',\n",
       " 'Павелом': 'O',\n",
       " 'Джанаевым': 'O',\n",
       " 'Китайские': 'O',\n",
       " 'моторы': 'O',\n",
       " 'Haval': 'B-бренд',\n",
       " 'Можно': 'O',\n",
       " 'ли': 'O',\n",
       " 'брать': 'O',\n",
       " 'эти': 'O',\n",
       " 'клоны': 'O',\n",
       " 'VW': 'B-бренд',\n",
       " 'Рассказываю': 'O',\n",
       " 'как': 'O',\n",
       " 'Механик': 'O',\n",
       " 'На': 'O',\n",
       " 'Российском': 'O',\n",
       " 'рынке': 'O',\n",
       " 'стало': 'O',\n",
       " 'продаваться': 'O',\n",
       " 'много': 'O',\n",
       " 'китайских': 'O',\n",
       " 'автомобилей': 'O',\n",
       " 'Многие': 'O',\n",
       " 'присматриваются': 'O',\n",
       " 'к': 'O',\n",
       " 'китайским': 'O',\n",
       " 'брендам': 'O',\n",
       " 'Мне': 'O',\n",
       " 'задают': 'O',\n",
       " 'вопросы': 'O',\n",
       " 'про': 'O',\n",
       " 'вариатор': 'O',\n",
       " 'робот': 'O',\n",
       " 'кузов': 'O',\n",
       " 'но': 'O',\n",
       " 'очень': 'O',\n",
       " 'часто': 'O',\n",
       " 'двигатели': 'O',\n",
       " 'Надежны': 'O',\n",
       " 'какой': 'O',\n",
       " 'ресурс': 'O',\n",
       " 'у': 'O',\n",
       " 'этих': 'O',\n",
       " 'атмосферных': 'O',\n",
       " 'турбированных': 'O',\n",
       " 'агрегатов': 'O',\n",
       " 'Какой': 'O',\n",
       " 'из': 'O',\n",
       " 'них': 'O',\n",
       " 'лучший': 'O',\n",
       " 'ДА': 'O',\n",
       " 'вообще': 'O',\n",
       " 'сделать': 'O',\n",
       " 'бы': 'O',\n",
       " 'рейтинг': 'O',\n",
       " 'Топ': 'O',\n",
       " 'так': 'O',\n",
       " 'сказать': 'O',\n",
       " 'Сегодня': 'O',\n",
       " 'уже': 'O',\n",
       " 'не': 'O',\n",
       " 'первое': 'O',\n",
       " 'видео': 'O',\n",
       " 'конкретно': 'O',\n",
       " 'марке': 'O',\n",
       " 'нашему': 'O',\n",
       " 'Хавейл': 'B-бренд',\n",
       " 'или': 'O',\n",
       " 'Хавал': 'B-бренд',\n",
       " 'А': 'O',\n",
       " 'дальше': 'O',\n",
       " 'перейдем': 'O',\n",
       " 'двигателям': 'O',\n",
       " 'Exeed': 'B-бренд',\n",
       " 'Chery': 'B-бренд',\n",
       " 'Omoda': 'I-бренд',\n",
       " 'другим': 'O',\n",
       " 'Вопросы': 'O',\n",
       " 'запросы': 'O',\n",
       " 'Яндекс': 'B-организация',\n",
       " 'Zen': 'O',\n",
       " 'Для': 'O',\n",
       " 'запросов': 'O',\n",
       " 'вопросов': 'O',\n",
       " 'Все': 'O',\n",
       " 'материалы': 'O',\n",
       " 'являются': 'O',\n",
       " 'собственностью': 'O',\n",
       " 'автора': 'O',\n",
       " 'Ссылка': 'O',\n",
       " 'обязательна': 'O',\n",
       " 'фитосауне': 'O',\n",
       " 'от': 'O',\n",
       " 'производителя': 'O',\n",
       " 'репортаже': 'O',\n",
       " '365': 'O',\n",
       " 'Дней': 'O',\n",
       " 'ТВ': 'O',\n",
       " 'РосКедр': 'O',\n",
       " 'Производство': 'O',\n",
       " 'мини': 'O',\n",
       " 'парных': 'O',\n",
       " '\"': 'O',\n",
       " 'Кедровая': 'O',\n",
       " 'бочка': 'O',\n",
       " 'данном': 'O',\n",
       " 'Вы': 'O',\n",
       " 'можете': 'O',\n",
       " 'увидеть': 'O',\n",
       " 'рекомендации': 'O',\n",
       " 'врача': 'O',\n",
       " 'терапевта': 'O',\n",
       " 'улучшению': 'O',\n",
       " 'эффективности': 'O',\n",
       " 'процедуры': 'O',\n",
       " 'кедровой': 'O',\n",
       " 'бочке': 'O',\n",
       " 'Только': 'O',\n",
       " 'наша': 'O',\n",
       " 'компания': 'O',\n",
       " 'производит': 'O',\n",
       " 'настоящие': 'O',\n",
       " 'лечебные': 'O',\n",
       " 'кедровые': 'O',\n",
       " 'бочки': 'O',\n",
       " 'традиционной': 'O',\n",
       " 'бондарной': 'O',\n",
       " 'технологии': 'O',\n",
       " 'которые': 'O',\n",
       " 'эксплуатируются': 'O',\n",
       " 'санаториях': 'O',\n",
       " 'салонах': 'O',\n",
       " 'личном': 'O',\n",
       " 'пользовании': 'O',\n",
       " 'работаем': 'O',\n",
       " 'напрямую': 'O',\n",
       " 'конечным': 'O',\n",
       " 'потребителем': 'O',\n",
       " 'без': 'O',\n",
       " 'посредников': 'O',\n",
       " 'что': 'O',\n",
       " 'обеспечивает': 'O',\n",
       " 'минимальные': 'O',\n",
       " 'цены': 'O',\n",
       " 'Осуществляя': 'O',\n",
       " 'доставку': 'O',\n",
       " 'фитосауны': 'O',\n",
       " 'непосредственно': 'O',\n",
       " 'руки': 'O',\n",
       " 'покупателю': 'O',\n",
       " 'сроки': 'O',\n",
       " 'мы': 'O',\n",
       " 'узнаем': 'O',\n",
       " 'отзывы': 'O',\n",
       " 'пожелания': 'O',\n",
       " 'наших': 'O',\n",
       " 'клиентов': 'O',\n",
       " 'учитываем': 'O',\n",
       " 'их': 'O',\n",
       " 'при': 'O',\n",
       " 'производстве': 'O',\n",
       " 'наивысшее': 'O',\n",
       " 'качество': 'O',\n",
       " 'изделий': 'O',\n",
       " 'модели': 'O',\n",
       " 'идут': 'O',\n",
       " 'максимальном': 'O',\n",
       " 'комплекте': 'O',\n",
       " 'тел': 'O',\n",
       " '8': 'O',\n",
       " '800': 'O',\n",
       " '555': 'O',\n",
       " '27': 'O',\n",
       " '07': 'O',\n",
       " 'roskedr': 'O',\n",
       " 'ru': 'O',\n",
       " 'Зимний': 'O',\n",
       " 'полёт': 'O',\n",
       " 'дроне': 'O',\n",
       " 'DJI': 'B-бренд',\n",
       " 'AIR': 'I-бренд',\n",
       " 'S': 'I-бренд',\n",
       " 'Деревени': 'B-локация',\n",
       " 'Раковица': 'I-локация',\n",
       " 'Отла': 'I-локация',\n",
       " 'Шошка': 'I-локация',\n",
       " 'Княжпогостский': 'I-локация',\n",
       " 'район': 'I-локация',\n",
       " 'Коми': 'I-локация',\n",
       " 'Невозможно': 'O',\n",
       " 'удержаться': 'O',\n",
       " 'полетать': 'O',\n",
       " 'над': 'O',\n",
       " 'такими': 'O',\n",
       " 'красивыми': 'O',\n",
       " 'зимними': 'O',\n",
       " 'пейзажами': 'O',\n",
       " 'Пролёты': 'O',\n",
       " 'возле': 'O',\n",
       " 'деревнями': 'O',\n",
       " 'Нижняя': 'O',\n",
       " 'Средняя': 'O',\n",
       " 'село': 'O',\n",
       " 'река': 'O',\n",
       " 'Вымь': 'O',\n",
       " 'Дрон': 'O',\n",
       " 'Республика': 'O',\n",
       " '#': 'O',\n",
       " 'djiair': 'O',\n",
       " 's': 'O',\n",
       " 'Княжпогостскийрайон': 'O',\n",
       " 'Емва': 'O',\n",
       " 'РеспубликаКоми': 'O',\n",
       " 'дрон': 'O',\n",
       " 'Московский': 'B-название проекта',\n",
       " 'международный': 'I-название проекта',\n",
       " 'фестиваль': 'I-название проекта',\n",
       " 'мира': 'I-название проекта',\n",
       " '89': 'I-название проекта',\n",
       " 'Стас': 'B-персона',\n",
       " 'Намин': 'I-персона',\n",
       " '«': 'O',\n",
       " 'Главный': 'O',\n",
       " 'день': 'O',\n",
       " '»': 'O',\n",
       " '12': 'O',\n",
       " '13': 'O',\n",
       " 'июня': 'O',\n",
       " '1989': 'O',\n",
       " 'года': 'O',\n",
       " 'Центральном': 'O',\n",
       " 'стадионе': 'O',\n",
       " 'имени': 'O',\n",
       " 'И': 'O',\n",
       " 'Ленина': 'O',\n",
       " 'состоялся': 'O',\n",
       " 'первый': 'O',\n",
       " 'рок': 'O',\n",
       " 'Концерт': 'O',\n",
       " 'собрал': 'O',\n",
       " 'свыше': 'O',\n",
       " '100': 'O',\n",
       " 'тысяч': 'O',\n",
       " 'зрителей': 'O',\n",
       " 'Советская': 'O',\n",
       " 'молодежь': 'O',\n",
       " 'тогда': 'O',\n",
       " 'увидела': 'O',\n",
       " 'услышала': 'O',\n",
       " 'признанных': 'O',\n",
       " 'мировых': 'O',\n",
       " 'кумиров': 'O',\n",
       " 'Scorpions': 'O',\n",
       " 'Bon': 'O',\n",
       " 'Jovi': 'O',\n",
       " 'Ozzy': 'O',\n",
       " 'Osbourne': 'O',\n",
       " 'Cinderella': 'O',\n",
       " 'Motley': 'O',\n",
       " 'Crue': 'O',\n",
       " 'Приезд': 'O',\n",
       " 'западных': 'O',\n",
       " 'звезд': 'O',\n",
       " 'казался': 'O',\n",
       " 'ожившей': 'O',\n",
       " 'фантастикой': 'O',\n",
       " 'Фестиваль': 'O',\n",
       " 'стал': 'O',\n",
       " 'только': 'O',\n",
       " 'музыкальной': 'O',\n",
       " 'важной': 'O',\n",
       " 'политической': 'O',\n",
       " 'акцией': 'O',\n",
       " 'Вся': 'O',\n",
       " 'мировая': 'O',\n",
       " 'пресса': 'O',\n",
       " 'писала': 'O',\n",
       " 'о': 'O',\n",
       " 'том': 'O',\n",
       " 'СССР': 'O',\n",
       " 'США': 'O',\n",
       " 'долгое': 'O',\n",
       " 'время': 'O',\n",
       " 'находившиеся': 'O',\n",
       " 'состоянии': 'O',\n",
       " 'холодной': 'O',\n",
       " 'войны': 'O',\n",
       " 'наконец': 'O',\n",
       " 'то': 'O',\n",
       " 'стали': 'O',\n",
       " 'налаживать': 'O',\n",
       " 'дружественные': 'O',\n",
       " 'отношения': 'O',\n",
       " 'культурном': 'O',\n",
       " 'фронте': 'O',\n",
       " 'музыкантов': 'O',\n",
       " 'разрушил': 'O',\n",
       " 'мифы': 'O',\n",
       " 'стереотипы': 'O',\n",
       " 'Советском': 'O',\n",
       " 'Союзе': 'O',\n",
       " 'суровой': 'O',\n",
       " 'закрытой': 'O',\n",
       " 'стране': 'O',\n",
       " 'Но': 'O',\n",
       " 'осталось': 'O',\n",
       " 'за': 'O',\n",
       " 'кадром': 'O',\n",
       " 'этой': 'O',\n",
       " 'революции': 'O',\n",
       " 'организатор': 'O',\n",
       " 'фестиваля': 'O',\n",
       " 'музыкант': 'O',\n",
       " 'продюсер': 'O',\n",
       " 'а': 'O',\n",
       " 'также': 'O',\n",
       " 'некоторые': 'O',\n",
       " 'участники': 'O',\n",
       " 'согласились': 'O',\n",
       " 'поделиться': 'O',\n",
       " 'своими': 'O',\n",
       " 'личными': 'O',\n",
       " 'воспоминаниями': 'O',\n",
       " 'МЦК': 'B-название проекта',\n",
       " 'Белокаменная': 'I-название проекта',\n",
       " 'Бульвар': 'B-локация',\n",
       " 'Рокоссовского': 'I-локация',\n",
       " 'Локомотив': 'I-локация',\n",
       " 'Измайлово': 'I-локация',\n",
       " 'Соколиная': 'I-локация',\n",
       " 'Гора': 'I-локация',\n",
       " 'Шоссе': 'I-локация',\n",
       " 'Энтузиастов': 'I-локация',\n",
       " 'Спонсорская': 'B-название проекта',\n",
       " 'помощь': 'I-название проекта',\n",
       " 'развитие': 'I-название проекта',\n",
       " 'канала': 'I-название проекта',\n",
       " 'СберБанк': 'O',\n",
       " 'Онлайн': 'O',\n",
       " '89165582144': 'O',\n",
       " 'ноября': 'I-Дата',\n",
       " '2021': 'I-Дата',\n",
       " 'др': 'I-локация',\n",
       " '.!': 'O',\n",
       " 'LEGO': 'B-бренд',\n",
       " 'Мультфильм': 'O',\n",
       " 'Poppy': 'B-название проекта',\n",
       " 'Playtime': 'I-название проекта',\n",
       " 'Тайна': 'I-название проекта',\n",
       " 'Хагги': 'I-название проекта',\n",
       " 'Вагги': 'I-название проекта',\n",
       " 'ЛЕГО': 'B-бренд',\n",
       " 'Stop': 'O',\n",
       " 'Motion': 'O',\n",
       " 'Animation': 'O',\n",
       " '✅': 'O',\n",
       " 'Лего': 'O',\n",
       " 'Раритет': 'O',\n",
       " 'Новогодний': 'O',\n",
       " 'РОЗЫГРЫШ': 'O',\n",
       " 'Промокод': 'O',\n",
       " '10': 'O',\n",
       " '%': 'O',\n",
       " 'скидку': 'O',\n",
       " 'FANTASY': 'O',\n",
       " 'Герой': 'O',\n",
       " 'lego': 'B-бренд',\n",
       " 'анимации': 'O',\n",
       " 'Миша': 'B-персона',\n",
       " 'ведет': 'O',\n",
       " 'свой': 'O',\n",
       " 'YouTube': 'O',\n",
       " 'ходит': 'O',\n",
       " 'заброшкам': 'O',\n",
       " 'находит': 'O',\n",
       " 'статью': 'O',\n",
       " '6': 'O',\n",
       " 'назад': 'O',\n",
       " 'закрылась': 'O',\n",
       " 'фабрика': 'O',\n",
       " 'игрушек': 'O',\n",
       " 'где': 'O',\n",
       " 'были': 'O',\n",
       " 'несчастные': 'O',\n",
       " 'случаи': 'O',\n",
       " 'она': 'O',\n",
       " 'экстренно': 'O',\n",
       " 'заводе': 'O',\n",
       " 'производились': 'O',\n",
       " 'популярные': 'O',\n",
       " 'игрушки': 'O',\n",
       " 'Huggy': 'B-бренд',\n",
       " 'Wuggy': 'I-бренд',\n",
       " 'Поэтому': 'O',\n",
       " 'наш': 'O',\n",
       " 'главный': 'O',\n",
       " 'герой': 'O',\n",
       " 'мультфильма': 'O',\n",
       " 'отправляется': 'O',\n",
       " 'путь': 'O',\n",
       " 'чтобы': 'O',\n",
       " 'отснять': 'O',\n",
       " 'интересный': 'O',\n",
       " 'материал': 'O',\n",
       " 'для': 'O',\n",
       " 'его': 'O',\n",
       " 'ждет': 'O',\n",
       " 'там': 'O',\n",
       " 'самом': 'O',\n",
       " 'деле': 'O',\n",
       " 'Смотрите': 'O',\n",
       " 'новый': 'O',\n",
       " 'Brick': 'O',\n",
       " 'Fantasy': 'O',\n",
       " '✅По': 'O',\n",
       " 'вопросам': 'O',\n",
       " 'рекламы': 'O',\n",
       " 'Почта': 'O',\n",
       " 'соц': 'O',\n",
       " 'сетях': 'O',\n",
       " 'ВКонтакте': 'O',\n",
       " 'Группа': 'O',\n",
       " 'Instagram': 'O',\n",
       " 'трансляция': 'O',\n",
       " '|': 'O',\n",
       " 'Всероссийский': 'O',\n",
       " 'детский': 'O',\n",
       " 'турнир': 'O',\n",
       " 'футболу': 'O',\n",
       " 'Буткап': 'B-название проекта',\n",
       " 'Легенды🏆': 'O',\n",
       " 'Первый': 'O',\n",
       " 'игровой': 'O',\n",
       " 'турнира': 'O',\n",
       " 'среди': 'O',\n",
       " 'юношеских': 'O',\n",
       " 'команд': 'O',\n",
       " '2005': 'O',\n",
       " '2006': 'O',\n",
       " '2010': 'O',\n",
       " 'г': 'O',\n",
       " 'р': 'O',\n",
       " 'актуальная': 'O',\n",
       " 'информация': 'O',\n",
       " 'турнире': 'O',\n",
       " 'Сайт▶️': 'O',\n",
       " 'legendy': 'O',\n",
       " 'Инстаграм▶️': 'O',\n",
       " 'Телеграм▶️': 'O',\n",
       " 'ВК▶️': 'O',\n",
       " 'Убийца': 'B-название проекта',\n",
       " 'Против': 'I-название проекта',\n",
       " 'всех': 'I-название проекта',\n",
       " 'Sicario': 'B-название проекта',\n",
       " 'Soldado': 'I-название проекта',\n",
       " '(': 'O',\n",
       " '2018': 'B-Дата',\n",
       " ')': 'O',\n",
       " 'Дублированный': 'O',\n",
       " 'трейлер': 'O',\n",
       " 'кино': 'O',\n",
       " '28': 'I-Дата',\n",
       " 'Страна': 'O',\n",
       " 'Италия': 'O',\n",
       " 'Жанр': 'O',\n",
       " 'боевик': 'O',\n",
       " 'триллер': 'O',\n",
       " 'драма': 'O',\n",
       " 'криминал': 'O',\n",
       " 'Режиссер': 'O',\n",
       " 'Стефано': 'B-персона',\n",
       " 'Соллима': 'I-персона',\n",
       " 'ролях': 'O',\n",
       " 'Джош': 'B-персона',\n",
       " 'Бролин': 'I-персона',\n",
       " 'Бенисио': 'B-персона',\n",
       " 'Дель': 'I-персона',\n",
       " 'Торо': 'I-персона',\n",
       " 'Мэттью': 'B-персона',\n",
       " 'Модайн': 'I-персона',\n",
       " 'Кэтрин': 'B-персона',\n",
       " 'Кинер': 'I-персона',\n",
       " 'Продолжение': 'O',\n",
       " 'драматического': 'O',\n",
       " 'триллера': 'O',\n",
       " '2015': 'B-Дата',\n",
       " 'будет': 'O',\n",
       " 'раскрыта': 'O',\n",
       " 'история': 'O',\n",
       " 'самого': 'O',\n",
       " 'загадочного': 'O',\n",
       " 'мрачного': 'O',\n",
       " 'персонажа': 'O',\n",
       " '–': 'O',\n",
       " 'мексиканца': 'O',\n",
       " 'Алехандро': 'B-организация',\n",
       " 'Гиллике': 'I-организация',\n",
       " 'шатком': 'O',\n",
       " 'сотрудничестве': 'O',\n",
       " 'агентами': 'O',\n",
       " 'ЦРУ': 'B-локация',\n",
       " 'он': 'O',\n",
       " 'вскрывает': 'O',\n",
       " 'дыры': 'O',\n",
       " 'границе': 'O',\n",
       " 'открывающие': 'O',\n",
       " 'наркотрафика': 'O',\n",
       " 'нелегалов': 'O',\n",
       " 'еще': 'O',\n",
       " 'выясняется': 'O',\n",
       " 'террористов': 'O',\n",
       " 'Открытие': 'O',\n",
       " 'российско': 'O',\n",
       " 'корейской': 'O',\n",
       " 'выставки': 'O',\n",
       " 'История': 'O',\n",
       " 'Дружбы': 'O',\n",
       " 'мая': 'O',\n",
       " '2014': 'O',\n",
       " 'Государственном': 'O',\n",
       " 'центральном': 'O',\n",
       " 'музее': 'O',\n",
       " 'современной': 'O',\n",
       " 'истории': 'O',\n",
       " 'ГЦМСИР': 'O',\n",
       " 'состоялось': 'O',\n",
       " 'открытие': 'O',\n",
       " 'дружбы': 'I-название проекта',\n",
       " 'церемонии': 'O',\n",
       " 'приняли': 'O',\n",
       " 'участие': 'O',\n",
       " 'Чрезвычайный': 'O',\n",
       " 'Полномочный': 'O',\n",
       " 'Посол': 'O',\n",
       " 'КНДР': 'O',\n",
       " 'Ким': 'O',\n",
       " 'Ен': 'O',\n",
       " 'Дже': 'O',\n",
       " 'заместитель': 'O',\n",
       " 'Председателя': 'O',\n",
       " 'ЦК': 'O',\n",
       " 'КПРФ': 'O',\n",
       " 'Д': 'O',\n",
       " 'Г': 'O',\n",
       " 'Новиков': 'O',\n",
       " 'Совета': 'O',\n",
       " 'СКП': 'O',\n",
       " 'КПСС': 'O',\n",
       " 'секретарь': 'O',\n",
       " 'К': 'O',\n",
       " 'Тайсаев': 'B-персона',\n",
       " 'Маг': 'O',\n",
       " 'снова': 'O',\n",
       " 'Экспедиция': 'O',\n",
       " 'пустоши': 'O',\n",
       " 'Герои': 'B-видеоигра',\n",
       " 'денег': 'I-видеоигра',\n",
       " 'ГВД': 'B-видеоигра',\n",
       " 'разведка': 'O',\n",
       " 'сообщает': 'O',\n",
       " 'подозрительной': 'O',\n",
       " 'активности': 'O',\n",
       " 'армий': 'O',\n",
       " 'степной': 'O',\n",
       " 'орды': 'O',\n",
       " 'бандитских': 'O',\n",
       " 'пустошах': 'O',\n",
       " 'Пока': 'O',\n",
       " 'цели': 'O',\n",
       " 'до': 'O',\n",
       " 'конца': 'O',\n",
       " 'ясны': 'O',\n",
       " 'Империя': 'O',\n",
       " 'намерена': 'O',\n",
       " 'закрывать': 'O',\n",
       " 'глаза': 'O',\n",
       " 'возможные': 'O',\n",
       " 'угрозы': 'O',\n",
       " 'со': 'O',\n",
       " 'стороны': 'O',\n",
       " 'давнего': 'O',\n",
       " 'врага': 'O',\n",
       " 'Потому': 'O',\n",
       " 'воевода': 'O',\n",
       " 'Граммит': 'B-персона',\n",
       " 'объявляет': 'O',\n",
       " 'начале': 'O',\n",
       " 'ответной': 'O',\n",
       " 'военной': 'O',\n",
       " 'экспедиции': 'O',\n",
       " 'Готовьте': 'O',\n",
       " 'свои': 'O',\n",
       " 'армии': 'O',\n",
       " 'лучшее': 'O',\n",
       " 'снаряжение': 'O',\n",
       " 'донат': 'O',\n",
       " 'трово': 'O',\n",
       " 'сама': 'O',\n",
       " 'игра': 'O',\n",
       " 'моя': 'O',\n",
       " 'реферальная': 'O',\n",
       " 'ссылка': 'O',\n",
       " 'рутуб': 'O',\n",
       " 'дзен': 'O',\n",
       " 'Приятного': 'O',\n",
       " 'просмотра': 'O',\n",
       " 'Смешные': 'O',\n",
       " 'приколы': 'O',\n",
       " 'животных': 'O',\n",
       " 'ТОПовая': 'O',\n",
       " 'Подборка': 'O',\n",
       " '23': 'O',\n",
       " 'Ещё': 'O',\n",
       " 'больше': 'O',\n",
       " 'приколов': 'O',\n",
       " 'тут': 'O',\n",
       " 'смешные': 'O',\n",
       " 'животные': 'O',\n",
       " 'озвучкой': 'O',\n",
       " 'подборка': 'O',\n",
       " 'топовая': 'O',\n",
       " 'Total': 'B-видеоигра',\n",
       " 'War': 'I-видеоигра',\n",
       " 'Warhammer': 'I-видеоигра',\n",
       " 'II': 'I-видеоигра',\n",
       " 'Сложность': 'O',\n",
       " 'Легендарная': 'O',\n",
       " 'Последователи': 'O',\n",
       " 'Нагаша': 'B-персона',\n",
       " 'Финал': 'O',\n",
       " '..': 'O',\n",
       " 'mp': 'O',\n",
       " '_': 'O',\n",
       " 'ПРАВИЛА': 'O',\n",
       " 'ДЛЯ': 'O',\n",
       " 'ЗРИТЕЛЕЙ': 'O',\n",
       " '●': 'O',\n",
       " 'Не': 'O',\n",
       " 'размещать': 'O',\n",
       " 'ссылки': 'O',\n",
       " 'разрешения': 'O',\n",
       " 'КАПСИТЬ': 'O',\n",
       " 'спойлерить': 'O',\n",
       " 'материться': 'O',\n",
       " 'рекламировать': 'O',\n",
       " 'каналы': 'O',\n",
       " 'Без': 'O',\n",
       " 'негатива': 'O',\n",
       " 'Поддерживая': 'O',\n",
       " 'меня': 'O',\n",
       " 'выражаешь': 'O',\n",
       " 'благодарность': 'O',\n",
       " 'все': 'O',\n",
       " 'канале': 'O',\n",
       " 'целом': 'O',\n",
       " 'Также': 'O',\n",
       " 'вклад': 'O',\n",
       " 'существование': 'O',\n",
       " 'Donation': 'O',\n",
       " 'Alerts': 'O',\n",
       " '...': 'O',\n",
       " 'Деньги': 'O',\n",
       " '410013264747311': 'O',\n",
       " 'TotalWarWarhammer': 'O',\n",
       " 'TotalWar': 'O',\n",
       " 'Fod': 'O',\n",
       " 'Брутальный': 'O',\n",
       " 'вопрос': 'O',\n",
       " 'Назовите': 'O',\n",
       " 'столицу': 'O',\n",
       " 'Проект': 'O',\n",
       " 'BRUTALITY': 'B-название проекта',\n",
       " 'тема': 'O',\n",
       " 'выпуске': 'O',\n",
       " 'рубрики': 'O',\n",
       " 'Пишите': 'O',\n",
       " 'комментарии': 'O',\n",
       " 'следующем': 'O',\n",
       " 'один': 'O',\n",
       " 'попал': 'O',\n",
       " 'футболку': 'O',\n",
       " 'Андрею': 'B-персона',\n",
       " 'Остеру': 'I-персона',\n",
       " ':)': 'O',\n",
       " 'ВК': 'O',\n",
       " 'РАЗБОР': 'O',\n",
       " 'СЕРИАЛА': 'O',\n",
       " 'КОРОЛЬ': 'B-название проекта',\n",
       " 'ШУТ': 'I-название проекта',\n",
       " 'КОНФЛИКТ': 'O',\n",
       " 'СЕКРЕТЫ': 'O',\n",
       " 'ОТСЫЛКИ': 'O',\n",
       " 'часть': 'O',\n",
       " 'корольишутсериал': 'O',\n",
       " 'разборфильма': 'O',\n",
       " 'Тайминг': 'O',\n",
       " '00': 'O',\n",
       " '02': 'O',\n",
       " '11': 'O',\n",
       " 'серия': 'O',\n",
       " '43': 'O',\n",
       " 'Наконец': 'O',\n",
       " 'дошли': 'O',\n",
       " 'разбор': 'O',\n",
       " 'сериала': 'O',\n",
       " 'Король': 'B-название проекта',\n",
       " 'Шут': 'I-название проекта',\n",
       " 'который': 'O',\n",
       " 'взорвал': 'O',\n",
       " 'кинотопы': 'O',\n",
       " 'возродил': 'O',\n",
       " 'новую': 'O',\n",
       " 'волну': 'O',\n",
       " 'популярности': 'O',\n",
       " '♥': 'O',\n",
       " 'ГРУЗОВАЯ': 'O',\n",
       " 'ЛЕГЕНДА': 'O',\n",
       " 'Бамовской': 'O',\n",
       " 'стройки': 'O',\n",
       " 'самосвал': 'O',\n",
       " 'Magirus': 'B-бренд',\n",
       " 'Deutz': 'I-бренд',\n",
       " '290': 'B-модель',\n",
       " '▶': 'O',\n",
       " 'ПОДПИШИСЬ': 'O',\n",
       " 'НАЖМИ': 'O',\n",
       " 'Так': 'O',\n",
       " 'же': 'O',\n",
       " 'подписывайтесь': 'O',\n",
       " 'нашу': 'O',\n",
       " 'группу': 'O',\n",
       " 'контакте': 'O',\n",
       " '▬▬▬▬▬▬▬▬►': 'O',\n",
       " 'Видео': 'O',\n",
       " 'загруженное': 'O',\n",
       " 'создано': 'O',\n",
       " 'основе': 'O',\n",
       " 'принципа': 'O',\n",
       " 'добросовестного': 'O',\n",
       " 'использования': 'O',\n",
       " 'авторские': 'O',\n",
       " 'права': 'O',\n",
       " 'принадлежат': 'O',\n",
       " 'законным': 'O',\n",
       " 'владельцам': 'O',\n",
       " 'Если': 'O',\n",
       " 'вы': 'O',\n",
       " 'являетесь': 'O',\n",
       " 'фрагмента': 'O',\n",
       " 'выпуска': 'O',\n",
       " 'распространение': 'O',\n",
       " 'ущемляет': 'O',\n",
       " 'ВАШИ': 'O',\n",
       " 'Просьба': 'O',\n",
       " 'свяжитесь': 'O',\n",
       " 'мной': 'O',\n",
       " 'Или': 'O',\n",
       " 'почте': 'O',\n",
       " 'Источник': 'O',\n",
       " 'samosval': 'O',\n",
       " 'magirus': 'B-бренд',\n",
       " 'deutz': 'I-бренд',\n",
       " '60': 'O',\n",
       " 'e': 'O',\n",
       " '4671': 'O',\n",
       " 'c': 'O',\n",
       " '468': 'O',\n",
       " 'cc': 'O',\n",
       " '950234': 'O',\n",
       " 'b': 'O',\n",
       " '61': 'O',\n",
       " 'грузовик': 'O',\n",
       " 'бам': 'O',\n",
       " 'ссср': 'O',\n",
       " 'магирус': 'O',\n",
       " 'ХАВЧИК': 'O',\n",
       " 'ЛУЧШИЙ': 'O',\n",
       " 'КЛИП': 'O',\n",
       " 'КАРЬЕРЕ': 'O',\n",
       " 'ТИМАТИ': 'B-персона',\n",
       " 'ПАСХАЛКИ': 'O',\n",
       " 'ДЖИГАН': 'B-персона',\n",
       " 'ДАНЯ': 'B-персона',\n",
       " 'МИЛОХИН': 'I-персона',\n",
       " 'TRAVIS': 'B-персона',\n",
       " 'SCOTT': 'I-персона',\n",
       " 'Делись': 'O',\n",
       " 'музыкой': 'O',\n",
       " 'Music': 'O',\n",
       " 'Bridge': 'O',\n",
       " 'разберём': 'O',\n",
       " 'клип': 'O',\n",
       " 'Тимати': 'B-персона',\n",
       " 'Джигана': 'B-персона',\n",
       " 'Дани': 'B-персона',\n",
       " 'Милохина': 'I-персона',\n",
       " 'под': 'O',\n",
       " 'названием': 'O',\n",
       " 'Хавчик': 'B-название проекта',\n",
       " 'паблик': 'O',\n",
       " 'По': 'O',\n",
       " 'Дима': 'B-персона',\n",
       " 'Толчонов': 'I-персона',\n",
       " 'социальных': 'O',\n",
       " 'Инстаграм': 'O',\n",
       " 'коммерческих': 'O',\n",
       " 'предложений': 'O',\n",
       " 'Открытый': 'O',\n",
       " 'микрофон': 'O',\n",
       " 'Гамлет': 'B-персона',\n",
       " 'первом': 'O',\n",
       " 'сексе': 'O',\n",
       " 'отце': 'O',\n",
       " 'кинологе': 'O',\n",
       " 'своей': 'O',\n",
       " 'восемнадцатилетней': 'O',\n",
       " 'девушке': 'O',\n",
       " 'расскажет': 'O',\n",
       " 'нам': 'O',\n",
       " 'своём': 'O',\n",
       " 'незнакомкой': 'O',\n",
       " 'Ну': 'O',\n",
       " 'почему': 'O',\n",
       " 'нет': 'O',\n",
       " 'Она': 'O',\n",
       " 'была': 'O',\n",
       " 'против': 'O',\n",
       " 'это': 'O',\n",
       " 'важно': 'O',\n",
       " 'отец': 'O',\n",
       " 'комика': 'O',\n",
       " 'разводит': 'O',\n",
       " 'собак': 'O',\n",
       " 'ухаживает': 'O',\n",
       " 'собаками': 'O',\n",
       " 'Гамлит': 'B-персона',\n",
       " 'напоследок': 'O',\n",
       " 'выступления': 'O',\n",
       " 'поделится': 'O',\n",
       " 'наблюдениями': 'O',\n",
       " 'любви': 'O',\n",
       " 'которая': 'O',\n",
       " 'иногда': 'O',\n",
       " 'немного': 'O',\n",
       " 'лагает': 'O',\n",
       " 'Формула': 'B-название проекта',\n",
       " 'Гонять': 'O',\n",
       " 'выживать': 'O',\n",
       " 'Сезон': 'I-сезон',\n",
       " 'смотреть': 'O',\n",
       " 'онлайн': 'O',\n",
       " 'хорошем': 'O',\n",
       " 'качестве': 'O',\n",
       " 'бесплатно': 'O',\n",
       " 'сезон': 'I-сезон',\n",
       " 'серию': 'I-серия',\n",
       " 'Netflix': 'O',\n",
       " 'HD': 'O',\n",
       " '720': 'O',\n",
       " 'p': 'O',\n",
       " 'совершенно': 'O',\n",
       " 'formula': 'O',\n",
       " 'f': 'O',\n",
       " 'формула': 'O',\n",
       " 'formulaone': 'O',\n",
       " 'drivetosurvive': 'O',\n",
       " 'ф': 'O',\n",
       " 'charlesleclerc': 'O',\n",
       " 'гонки': 'O',\n",
       " 'grandprix': 'O',\n",
       " 'lewishamilton': 'O',\n",
       " 'racing': 'O',\n",
       " 'mercedes': 'O',\n",
       " 'redbull': 'O',\n",
       " 'ferrari': 'O',\n",
       " 'фильм': 'O',\n",
       " 'hamilton': 'O',\n",
       " 'maxverstappen': 'O',\n",
       " 'danielricciardo': 'O',\n",
       " '2019': 'O',\n",
       " 'sport': 'O',\n",
       " 'leclerc': 'O',\n",
       " 'фильмы': 'O',\n",
       " '12020': 'O',\n",
       " 'спорт': 'O',\n",
       " 'perez': 'O',\n",
       " 'mclaren': 'O',\n",
       " 'трейлеры': 'O',\n",
       " 'motorracing': 'O',\n",
       " 'gp': 'O',\n",
       " 'albon': 'O',\n",
       " 'автоспорт': 'O',\n",
       " ...}"
      ]
     },
     "execution_count": 11,
     "metadata": {},
     "output_type": "execute_result"
    }
   ],
   "source": [
    "dataset"
   ]
  },
  {
   "cell_type": "markdown",
   "metadata": {},
   "source": [
    "Сделаем классы типом int"
   ]
  },
  {
   "cell_type": "code",
   "execution_count": 12,
   "metadata": {},
   "outputs": [],
   "source": [
    "label_list = [\"O\"] + list(set(data_wo[i] for i in data_wo))\n",
    "label_map = {label: i for i, label in enumerate(label_list)}"
   ]
  },
  {
   "cell_type": "code",
   "execution_count": 13,
   "metadata": {},
   "outputs": [
    {
     "data": {
      "text/plain": [
       "{'O': 0,\n",
       " 'I-модель': 1,\n",
       " 'I-название проекта': 2,\n",
       " 'I-локация': 3,\n",
       " 'B-персона': 4,\n",
       " 'I-персона': 5,\n",
       " 'B-локация': 6,\n",
       " 'I-команда': 7,\n",
       " 'B-серия': 8,\n",
       " 'B-команда': 9,\n",
       " 'B-видеоигра': 10,\n",
       " 'B-сезон': 11,\n",
       " 'I-вид спорта': 12,\n",
       " 'I-сезон': 13,\n",
       " 'B-Дата': 14,\n",
       " 'I-организация': 15,\n",
       " 'B-организация': 16,\n",
       " 'B-модель': 17,\n",
       " 'I-видеоигра': 18,\n",
       " 'B-лига': 19,\n",
       " 'I-лига': 20,\n",
       " 'I-Дата': 21,\n",
       " 'B-бренд': 22,\n",
       " 'B-название проекта': 23,\n",
       " 'B-вид спорта': 24,\n",
       " 'I-серия': 25,\n",
       " 'I-бренд': 26}"
      ]
     },
     "execution_count": 13,
     "metadata": {},
     "output_type": "execute_result"
    }
   ],
   "source": [
    "label_map"
   ]
  },
  {
   "cell_type": "code",
   "execution_count": 16,
   "metadata": {},
   "outputs": [],
   "source": [
    "data = []"
   ]
  },
  {
   "cell_type": "markdown",
   "metadata": {},
   "source": [
    "Преобразуем в нужный нам вид"
   ]
  },
  {
   "cell_type": "code",
   "execution_count": null,
   "metadata": {},
   "outputs": [],
   "source": [
    "for i in range(0, len(dataset)):\n",
    "  data.append(tuple([list(dataset.keys())[i], {\"entities\": list([tuple(list([0, len(list(dataset.keys())[i]), list(dataset.values())[i]]))])}]))"
   ]
  },
  {
   "cell_type": "code",
   "execution_count": 18,
   "metadata": {},
   "outputs": [
    {
     "data": {
      "text/plain": [
       "[('<', {'entities': [(0, 1, 'O')]}),\n",
       " ('НАЗВАНИЕ', {'entities': [(0, 8, 'O')]}),\n",
       " (':', {'entities': [(0, 1, 'O')]}),\n",
       " ('>', {'entities': [(0, 1, 'O')]}),\n",
       " ('ТОП', {'entities': [(0, 3, 'O')]}),\n",
       " ('=', {'entities': [(0, 1, 'O')]}),\n",
       " ('5', {'entities': [(0, 1, 'O')]}),\n",
       " ('хороших', {'entities': [(0, 7, 'O')]}),\n",
       " ('видеорегистраторов', {'entities': [(0, 18, 'O')]}),\n",
       " ('с', {'entities': [(0, 1, 'O')]}),\n",
       " ('двумя', {'entities': [(0, 5, 'O')]}),\n",
       " ('камерами', {'entities': [(0, 8, 'O')]}),\n",
       " ('.', {'entities': [(0, 1, 'O')]}),\n",
       " ('Что', {'entities': [(0, 3, 'O')]}),\n",
       " ('выбрать', {'entities': [(0, 7, 'O')]}),\n",
       " ('в', {'entities': [(0, 1, 'O')]}),\n",
       " ('2022', {'entities': [(0, 4, 'B-Дата')]}),\n",
       " ('?', {'entities': [(0, 1, 'O')]}),\n",
       " ('ОПИСАНИЕ', {'entities': [(0, 8, 'O')]}),\n",
       " ('Roadgid', {'entities': [(0, 7, 'B-Дата')]}),\n",
       " ('Blick', {'entities': [(0, 5, 'I-Дата')]}),\n",
       " ('GPS', {'entities': [(0, 3, 'I-Дата')]}),\n",
       " ('LINK', {'entities': [(0, 4, 'O')]}),\n",
       " ('4', {'entities': [(0, 1, 'O')]}),\n",
       " ('iBOX', {'entities': [(0, 4, 'O')]}),\n",
       " ('iCON', {'entities': [(0, 4, 'O')]}),\n",
       " ('LV', {'entities': [(0, 2, 'O')]}),\n",
       " ('WiFi', {'entities': [(0, 4, 'O')]}),\n",
       " ('Signature', {'entities': [(0, 9, 'O')]}),\n",
       " ('Dual', {'entities': [(0, 4, 'O')]}),\n",
       " ('3.', {'entities': [(0, 2, 'O')]}),\n",
       " ('70', {'entities': [(0, 2, 'O')]}),\n",
       " ('mai', {'entities': [(0, 3, 'O')]}),\n",
       " ('Dash', {'entities': [(0, 4, 'O')]}),\n",
       " ('Cam', {'entities': [(0, 3, 'O')]}),\n",
       " ('Pro', {'entities': [(0, 3, 'O')]}),\n",
       " ('Plus', {'entities': [(0, 4, 'O')]}),\n",
       " ('2', {'entities': [(0, 1, 'O')]}),\n",
       " ('Daocam', {'entities': [(0, 6, 'O')]}),\n",
       " ('Combo', {'entities': [(0, 5, 'O')]}),\n",
       " ('CH', {'entities': [(0, 2, 'O')]}),\n",
       " ('1', {'entities': [(0, 1, 'O')]}),\n",
       " ('RoadGid', {'entities': [(0, 7, 'O')]}),\n",
       " ('CityGo', {'entities': [(0, 6, 'O')]}),\n",
       " ('3', {'entities': [(0, 1, 'O')]}),\n",
       " ('Мы', {'entities': [(0, 2, 'O')]}),\n",
       " ('Вконтакте', {'entities': [(0, 9, 'O')]}),\n",
       " ('Telegram', {'entities': [(0, 8, 'O')]}),\n",
       " ('Наш', {'entities': [(0, 3, 'O')]}),\n",
       " ('канал', {'entities': [(0, 5, 'O')]}),\n",
       " ('на', {'entities': [(0, 2, 'O')]}),\n",
       " ('Я', {'entities': [(0, 1, 'O')]}),\n",
       " ('Дзен', {'entities': [(0, 4, 'O')]}),\n",
       " ('ТикТок', {'entities': [(0, 6, 'O')]}),\n",
       " ('/', {'entities': [(0, 1, 'O')]}),\n",
       " ('AT', {'entities': [(0, 2, 'O')]}),\n",
       " ('Сотрудничество', {'entities': [(0, 14, 'O')]}),\n",
       " ('и', {'entities': [(0, 1, 'O')]}),\n",
       " ('реклама', {'entities': [(0, 7, 'O')]}),\n",
       " ('Прямая', {'entities': [(0, 6, 'O')]}),\n",
       " ('связь', {'entities': [(0, 5, 'O')]}),\n",
       " ('автором', {'entities': [(0, 7, 'O')]}),\n",
       " ('✔', {'entities': [(0, 1, 'O')]}),\n",
       " ('Нажми', {'entities': [(0, 5, 'O')]}),\n",
       " ('колокольчик', {'entities': [(0, 11, 'O')]}),\n",
       " ('!', {'entities': [(0, 1, 'O')]}),\n",
       " ('Ставь', {'entities': [(0, 5, 'O')]}),\n",
       " ('лайк', {'entities': [(0, 4, 'O')]}),\n",
       " (',', {'entities': [(0, 1, 'O')]}),\n",
       " ('если', {'entities': [(0, 4, 'O')]}),\n",
       " ('нравится', {'entities': [(0, 8, 'O')]}),\n",
       " ('Общайся', {'entities': [(0, 7, 'O')]}),\n",
       " ('комментариях', {'entities': [(0, 12, 'O')]}),\n",
       " ('PRO', {'entities': [(0, 3, 'O')]}),\n",
       " ('АВТО', {'entities': [(0, 4, 'O')]}),\n",
       " ('©', {'entities': [(0, 1, 'O')]}),\n",
       " ('2017', {'entities': [(0, 4, 'B-модель')]}),\n",
       " ('День', {'entities': [(0, 4, 'O')]}),\n",
       " ('создания', {'entities': [(0, 8, 'O')]}),\n",
       " ('органов', {'entities': [(0, 7, 'O')]}),\n",
       " ('государственного', {'entities': [(0, 16, 'O')]}),\n",
       " ('пожарного', {'entities': [(0, 9, 'O')]}),\n",
       " ('надзора', {'entities': [(0, 7, 'O')]}),\n",
       " ('Огнеборцы', {'entities': [(0, 9, 'O')]}),\n",
       " ('России', {'entities': [(0, 6, 'O')]}),\n",
       " ('отметили', {'entities': [(0, 8, 'O')]}),\n",
       " ('профессиональный', {'entities': [(0, 16, 'O')]}),\n",
       " ('праздник', {'entities': [(0, 8, 'O')]}),\n",
       " ('—', {'entities': [(0, 1, 'O')]}),\n",
       " ('В', {'entities': [(0, 1, 'O')]}),\n",
       " ('этом', {'entities': [(0, 4, 'O')]}),\n",
       " ('году', {'entities': [(0, 4, 'O')]}),\n",
       " ('службе', {'entities': [(0, 6, 'O')]}),\n",
       " ('исполнилось', {'entities': [(0, 11, 'B-локация')]}),\n",
       " ('96', {'entities': [(0, 2, 'I-локация')]}),\n",
       " ('лет', {'entities': [(0, 3, 'O')]}),\n",
       " ('О', {'entities': [(0, 1, 'O')]}),\n",
       " ('буднях', {'entities': [(0, 6, 'O')]}),\n",
       " ('рабочих', {'entities': [(0, 7, 'O')]}),\n",
       " ('праздниках', {'entities': [(0, 10, 'O')]}),\n",
       " ('поговорили', {'entities': [(0, 10, 'O')]}),\n",
       " ('заместителем', {'entities': [(0, 12, 'O')]}),\n",
       " ('начальника', {'entities': [(0, 10, 'O')]}),\n",
       " ('ГУ', {'entities': [(0, 2, 'O')]}),\n",
       " ('МЧС', {'entities': [(0, 3, 'O')]}),\n",
       " ('по', {'entities': [(0, 2, 'O')]}),\n",
       " ('Северной', {'entities': [(0, 8, 'O')]}),\n",
       " ('Осетии', {'entities': [(0, 6, 'O')]}),\n",
       " ('Павелом', {'entities': [(0, 7, 'O')]}),\n",
       " ('Джанаевым', {'entities': [(0, 9, 'O')]}),\n",
       " ('Китайские', {'entities': [(0, 10, 'O')]}),\n",
       " ('моторы', {'entities': [(0, 6, 'O')]}),\n",
       " ('Haval', {'entities': [(0, 5, 'B-бренд')]}),\n",
       " ('Можно', {'entities': [(0, 5, 'O')]}),\n",
       " ('ли', {'entities': [(0, 2, 'O')]}),\n",
       " ('брать', {'entities': [(0, 5, 'O')]}),\n",
       " ('эти', {'entities': [(0, 3, 'O')]}),\n",
       " ('клоны', {'entities': [(0, 5, 'O')]}),\n",
       " ('VW', {'entities': [(0, 2, 'B-бренд')]}),\n",
       " ('Рассказываю', {'entities': [(0, 11, 'O')]}),\n",
       " ('как', {'entities': [(0, 3, 'O')]}),\n",
       " ('Механик', {'entities': [(0, 7, 'O')]}),\n",
       " ('На', {'entities': [(0, 2, 'O')]}),\n",
       " ('Российском', {'entities': [(0, 10, 'O')]}),\n",
       " ('рынке', {'entities': [(0, 5, 'O')]}),\n",
       " ('стало', {'entities': [(0, 5, 'O')]}),\n",
       " ('продаваться', {'entities': [(0, 11, 'O')]}),\n",
       " ('много', {'entities': [(0, 5, 'O')]}),\n",
       " ('китайских', {'entities': [(0, 9, 'O')]}),\n",
       " ('автомобилей', {'entities': [(0, 11, 'O')]}),\n",
       " ('Многие', {'entities': [(0, 6, 'O')]}),\n",
       " ('присматриваются', {'entities': [(0, 15, 'O')]}),\n",
       " ('к', {'entities': [(0, 1, 'O')]}),\n",
       " ('китайским', {'entities': [(0, 9, 'O')]}),\n",
       " ('брендам', {'entities': [(0, 7, 'O')]}),\n",
       " ('Мне', {'entities': [(0, 3, 'O')]}),\n",
       " ('задают', {'entities': [(0, 6, 'O')]}),\n",
       " ('вопросы', {'entities': [(0, 7, 'O')]}),\n",
       " ('про', {'entities': [(0, 3, 'O')]}),\n",
       " ('вариатор', {'entities': [(0, 8, 'O')]}),\n",
       " ('робот', {'entities': [(0, 5, 'O')]}),\n",
       " ('кузов', {'entities': [(0, 5, 'O')]}),\n",
       " ('но', {'entities': [(0, 2, 'O')]}),\n",
       " ('очень', {'entities': [(0, 5, 'O')]}),\n",
       " ('часто', {'entities': [(0, 5, 'O')]}),\n",
       " ('двигатели', {'entities': [(0, 9, 'O')]}),\n",
       " ('Надежны', {'entities': [(0, 7, 'O')]}),\n",
       " ('какой', {'entities': [(0, 5, 'O')]}),\n",
       " ('ресурс', {'entities': [(0, 6, 'O')]}),\n",
       " ('у', {'entities': [(0, 1, 'O')]}),\n",
       " ('этих', {'entities': [(0, 4, 'O')]}),\n",
       " ('атмосферных', {'entities': [(0, 11, 'O')]}),\n",
       " ('турбированных', {'entities': [(0, 13, 'O')]}),\n",
       " ('агрегатов', {'entities': [(0, 9, 'O')]}),\n",
       " ('Какой', {'entities': [(0, 5, 'O')]}),\n",
       " ('из', {'entities': [(0, 2, 'O')]}),\n",
       " ('них', {'entities': [(0, 3, 'O')]}),\n",
       " ('лучший', {'entities': [(0, 6, 'O')]}),\n",
       " ('ДА', {'entities': [(0, 2, 'O')]}),\n",
       " ('вообще', {'entities': [(0, 6, 'O')]}),\n",
       " ('сделать', {'entities': [(0, 7, 'O')]}),\n",
       " ('бы', {'entities': [(0, 2, 'O')]}),\n",
       " ('рейтинг', {'entities': [(0, 7, 'O')]}),\n",
       " ('Топ', {'entities': [(0, 3, 'O')]}),\n",
       " ('так', {'entities': [(0, 3, 'O')]}),\n",
       " ('сказать', {'entities': [(0, 7, 'O')]}),\n",
       " ('Сегодня', {'entities': [(0, 7, 'O')]}),\n",
       " ('уже', {'entities': [(0, 3, 'O')]}),\n",
       " ('не', {'entities': [(0, 2, 'O')]}),\n",
       " ('первое', {'entities': [(0, 6, 'O')]}),\n",
       " ('видео', {'entities': [(0, 5, 'O')]}),\n",
       " ('конкретно', {'entities': [(0, 9, 'O')]}),\n",
       " ('марке', {'entities': [(0, 5, 'O')]}),\n",
       " ('нашему', {'entities': [(0, 6, 'O')]}),\n",
       " ('Хавейл', {'entities': [(0, 6, 'B-бренд')]}),\n",
       " ('или', {'entities': [(0, 3, 'O')]}),\n",
       " ('Хавал', {'entities': [(0, 5, 'B-бренд')]}),\n",
       " ('А', {'entities': [(0, 1, 'O')]}),\n",
       " ('дальше', {'entities': [(0, 6, 'O')]}),\n",
       " ('перейдем', {'entities': [(0, 8, 'O')]}),\n",
       " ('двигателям', {'entities': [(0, 10, 'O')]}),\n",
       " ('Exeed', {'entities': [(0, 5, 'B-бренд')]}),\n",
       " ('Chery', {'entities': [(0, 5, 'B-бренд')]}),\n",
       " ('Omoda', {'entities': [(0, 5, 'I-бренд')]}),\n",
       " ('другим', {'entities': [(0, 6, 'O')]}),\n",
       " ('Вопросы', {'entities': [(0, 7, 'O')]}),\n",
       " ('запросы', {'entities': [(0, 7, 'O')]}),\n",
       " ('Яндекс', {'entities': [(0, 6, 'B-организация')]}),\n",
       " ('Zen', {'entities': [(0, 3, 'O')]}),\n",
       " ('Для', {'entities': [(0, 3, 'O')]}),\n",
       " ('запросов', {'entities': [(0, 8, 'O')]}),\n",
       " ('вопросов', {'entities': [(0, 8, 'O')]}),\n",
       " ('Все', {'entities': [(0, 3, 'O')]}),\n",
       " ('материалы', {'entities': [(0, 9, 'O')]}),\n",
       " ('являются', {'entities': [(0, 8, 'O')]}),\n",
       " ('собственностью', {'entities': [(0, 14, 'O')]}),\n",
       " ('автора', {'entities': [(0, 6, 'O')]}),\n",
       " ('Ссылка', {'entities': [(0, 6, 'O')]}),\n",
       " ('обязательна', {'entities': [(0, 11, 'O')]}),\n",
       " ('фитосауне', {'entities': [(0, 9, 'O')]}),\n",
       " ('от', {'entities': [(0, 2, 'O')]}),\n",
       " ('производителя', {'entities': [(0, 13, 'O')]}),\n",
       " ('репортаже', {'entities': [(0, 9, 'O')]}),\n",
       " ('365', {'entities': [(0, 3, 'O')]}),\n",
       " ('Дней', {'entities': [(0, 4, 'O')]}),\n",
       " ('ТВ', {'entities': [(0, 2, 'O')]}),\n",
       " ('РосКедр', {'entities': [(0, 7, 'O')]}),\n",
       " ('Производство', {'entities': [(0, 12, 'O')]}),\n",
       " ('мини', {'entities': [(0, 4, 'O')]}),\n",
       " ('парных', {'entities': [(0, 6, 'O')]}),\n",
       " ('\"', {'entities': [(0, 1, 'O')]}),\n",
       " ('Кедровая', {'entities': [(0, 8, 'O')]}),\n",
       " ('бочка', {'entities': [(0, 5, 'O')]}),\n",
       " ('данном', {'entities': [(0, 6, 'O')]}),\n",
       " ('Вы', {'entities': [(0, 2, 'O')]}),\n",
       " ('можете', {'entities': [(0, 6, 'O')]}),\n",
       " ('увидеть', {'entities': [(0, 7, 'O')]}),\n",
       " ('рекомендации', {'entities': [(0, 12, 'O')]}),\n",
       " ('врача', {'entities': [(0, 5, 'O')]}),\n",
       " ('терапевта', {'entities': [(0, 9, 'O')]}),\n",
       " ('улучшению', {'entities': [(0, 9, 'O')]}),\n",
       " ('эффективности', {'entities': [(0, 13, 'O')]}),\n",
       " ('процедуры', {'entities': [(0, 9, 'O')]}),\n",
       " ('кедровой', {'entities': [(0, 8, 'O')]}),\n",
       " ('бочке', {'entities': [(0, 5, 'O')]}),\n",
       " ('Только', {'entities': [(0, 6, 'O')]}),\n",
       " ('наша', {'entities': [(0, 4, 'O')]}),\n",
       " ('компания', {'entities': [(0, 8, 'O')]}),\n",
       " ('производит', {'entities': [(0, 10, 'O')]}),\n",
       " ('настоящие', {'entities': [(0, 9, 'O')]}),\n",
       " ('лечебные', {'entities': [(0, 8, 'O')]}),\n",
       " ('кедровые', {'entities': [(0, 8, 'O')]}),\n",
       " ('бочки', {'entities': [(0, 5, 'O')]}),\n",
       " ('традиционной', {'entities': [(0, 12, 'O')]}),\n",
       " ('бондарной', {'entities': [(0, 9, 'O')]}),\n",
       " ('технологии', {'entities': [(0, 10, 'O')]}),\n",
       " ('которые', {'entities': [(0, 7, 'O')]}),\n",
       " ('эксплуатируются', {'entities': [(0, 15, 'O')]}),\n",
       " ('санаториях', {'entities': [(0, 10, 'O')]}),\n",
       " ('салонах', {'entities': [(0, 7, 'O')]}),\n",
       " ('личном', {'entities': [(0, 6, 'O')]}),\n",
       " ('пользовании', {'entities': [(0, 11, 'O')]}),\n",
       " ('работаем', {'entities': [(0, 8, 'O')]}),\n",
       " ('напрямую', {'entities': [(0, 8, 'O')]}),\n",
       " ('конечным', {'entities': [(0, 8, 'O')]}),\n",
       " ('потребителем', {'entities': [(0, 12, 'O')]}),\n",
       " ('без', {'entities': [(0, 3, 'O')]}),\n",
       " ('посредников', {'entities': [(0, 11, 'O')]}),\n",
       " ('что', {'entities': [(0, 3, 'O')]}),\n",
       " ('обеспечивает', {'entities': [(0, 12, 'O')]}),\n",
       " ('минимальные', {'entities': [(0, 11, 'O')]}),\n",
       " ('цены', {'entities': [(0, 4, 'O')]}),\n",
       " ('Осуществляя', {'entities': [(0, 11, 'O')]}),\n",
       " ('доставку', {'entities': [(0, 8, 'O')]}),\n",
       " ('фитосауны', {'entities': [(0, 9, 'O')]}),\n",
       " ('непосредственно', {'entities': [(0, 15, 'O')]}),\n",
       " ('руки', {'entities': [(0, 4, 'O')]}),\n",
       " ('покупателю', {'entities': [(0, 10, 'O')]}),\n",
       " ('сроки', {'entities': [(0, 5, 'O')]}),\n",
       " ('мы', {'entities': [(0, 2, 'O')]}),\n",
       " ('узнаем', {'entities': [(0, 6, 'O')]}),\n",
       " ('отзывы', {'entities': [(0, 6, 'O')]}),\n",
       " ('пожелания', {'entities': [(0, 9, 'O')]}),\n",
       " ('наших', {'entities': [(0, 5, 'O')]}),\n",
       " ('клиентов', {'entities': [(0, 8, 'O')]}),\n",
       " ('учитываем', {'entities': [(0, 9, 'O')]}),\n",
       " ('их', {'entities': [(0, 2, 'O')]}),\n",
       " ('при', {'entities': [(0, 3, 'O')]}),\n",
       " ('производстве', {'entities': [(0, 12, 'O')]}),\n",
       " ('наивысшее', {'entities': [(0, 9, 'O')]}),\n",
       " ('качество', {'entities': [(0, 8, 'O')]}),\n",
       " ('изделий', {'entities': [(0, 7, 'O')]}),\n",
       " ('модели', {'entities': [(0, 6, 'O')]}),\n",
       " ('идут', {'entities': [(0, 4, 'O')]}),\n",
       " ('максимальном', {'entities': [(0, 12, 'O')]}),\n",
       " ('комплекте', {'entities': [(0, 9, 'O')]}),\n",
       " ('тел', {'entities': [(0, 3, 'O')]}),\n",
       " ('8', {'entities': [(0, 1, 'O')]}),\n",
       " ('800', {'entities': [(0, 3, 'O')]}),\n",
       " ('555', {'entities': [(0, 3, 'O')]}),\n",
       " ('27', {'entities': [(0, 2, 'O')]}),\n",
       " ('07', {'entities': [(0, 2, 'O')]}),\n",
       " ('roskedr', {'entities': [(0, 7, 'O')]}),\n",
       " ('ru', {'entities': [(0, 2, 'O')]}),\n",
       " ('Зимний', {'entities': [(0, 6, 'O')]}),\n",
       " ('полёт', {'entities': [(0, 5, 'O')]}),\n",
       " ('дроне', {'entities': [(0, 5, 'O')]}),\n",
       " ('DJI', {'entities': [(0, 3, 'B-бренд')]}),\n",
       " ('AIR', {'entities': [(0, 3, 'I-бренд')]}),\n",
       " ('S', {'entities': [(0, 1, 'I-бренд')]}),\n",
       " ('Деревени', {'entities': [(0, 8, 'B-локация')]}),\n",
       " ('Раковица', {'entities': [(0, 8, 'I-локация')]}),\n",
       " ('Отла', {'entities': [(0, 4, 'I-локация')]}),\n",
       " ('Шошка', {'entities': [(0, 5, 'I-локация')]}),\n",
       " ('Княжпогостский', {'entities': [(0, 14, 'I-локация')]}),\n",
       " ('район', {'entities': [(0, 5, 'I-локация')]}),\n",
       " ('Коми', {'entities': [(0, 4, 'I-локация')]}),\n",
       " ('Невозможно', {'entities': [(0, 10, 'O')]}),\n",
       " ('удержаться', {'entities': [(0, 10, 'O')]}),\n",
       " ('полетать', {'entities': [(0, 8, 'O')]}),\n",
       " ('над', {'entities': [(0, 3, 'O')]}),\n",
       " ('такими', {'entities': [(0, 6, 'O')]}),\n",
       " ('красивыми', {'entities': [(0, 9, 'O')]}),\n",
       " ('зимними', {'entities': [(0, 7, 'O')]}),\n",
       " ('пейзажами', {'entities': [(0, 9, 'O')]}),\n",
       " ('Пролёты', {'entities': [(0, 7, 'O')]}),\n",
       " ('возле', {'entities': [(0, 5, 'O')]}),\n",
       " ('деревнями', {'entities': [(0, 9, 'O')]}),\n",
       " ('Нижняя', {'entities': [(0, 6, 'O')]}),\n",
       " ('Средняя', {'entities': [(0, 7, 'O')]}),\n",
       " ('село', {'entities': [(0, 4, 'O')]}),\n",
       " ('река', {'entities': [(0, 4, 'O')]}),\n",
       " ('Вымь', {'entities': [(0, 4, 'O')]}),\n",
       " ('Дрон', {'entities': [(0, 4, 'O')]}),\n",
       " ('Республика', {'entities': [(0, 10, 'O')]}),\n",
       " ('#', {'entities': [(0, 1, 'O')]}),\n",
       " ('djiair', {'entities': [(0, 6, 'O')]}),\n",
       " ('s', {'entities': [(0, 1, 'O')]}),\n",
       " ('Княжпогостскийрайон', {'entities': [(0, 19, 'O')]}),\n",
       " ('Емва', {'entities': [(0, 4, 'O')]}),\n",
       " ('РеспубликаКоми', {'entities': [(0, 14, 'O')]}),\n",
       " ('дрон', {'entities': [(0, 4, 'O')]}),\n",
       " ('Московский', {'entities': [(0, 10, 'B-название проекта')]}),\n",
       " ('международный', {'entities': [(0, 13, 'I-название проекта')]}),\n",
       " ('фестиваль', {'entities': [(0, 9, 'I-название проекта')]}),\n",
       " ('мира', {'entities': [(0, 4, 'I-название проекта')]}),\n",
       " ('89', {'entities': [(0, 2, 'I-название проекта')]}),\n",
       " ('Стас', {'entities': [(0, 4, 'B-персона')]}),\n",
       " ('Намин', {'entities': [(0, 5, 'I-персона')]}),\n",
       " ('«', {'entities': [(0, 1, 'O')]}),\n",
       " ('Главный', {'entities': [(0, 7, 'O')]}),\n",
       " ('день', {'entities': [(0, 4, 'O')]}),\n",
       " ('»', {'entities': [(0, 1, 'O')]}),\n",
       " ('12', {'entities': [(0, 2, 'O')]}),\n",
       " ('13', {'entities': [(0, 2, 'O')]}),\n",
       " ('июня', {'entities': [(0, 4, 'O')]}),\n",
       " ('1989', {'entities': [(0, 4, 'O')]}),\n",
       " ('года', {'entities': [(0, 4, 'O')]}),\n",
       " ('Центральном', {'entities': [(0, 11, 'O')]}),\n",
       " ('стадионе', {'entities': [(0, 8, 'O')]}),\n",
       " ('имени', {'entities': [(0, 5, 'O')]}),\n",
       " ('И', {'entities': [(0, 1, 'O')]}),\n",
       " ('Ленина', {'entities': [(0, 6, 'O')]}),\n",
       " ('состоялся', {'entities': [(0, 9, 'O')]}),\n",
       " ('первый', {'entities': [(0, 6, 'O')]}),\n",
       " ('рок', {'entities': [(0, 3, 'O')]}),\n",
       " ('Концерт', {'entities': [(0, 7, 'O')]}),\n",
       " ('собрал', {'entities': [(0, 6, 'O')]}),\n",
       " ('свыше', {'entities': [(0, 5, 'O')]}),\n",
       " ('100', {'entities': [(0, 3, 'O')]}),\n",
       " ('тысяч', {'entities': [(0, 5, 'O')]}),\n",
       " ('зрителей', {'entities': [(0, 8, 'O')]}),\n",
       " ('Советская', {'entities': [(0, 9, 'O')]}),\n",
       " ('молодежь', {'entities': [(0, 8, 'O')]}),\n",
       " ('тогда', {'entities': [(0, 5, 'O')]}),\n",
       " ('увидела', {'entities': [(0, 7, 'O')]}),\n",
       " ('услышала', {'entities': [(0, 8, 'O')]}),\n",
       " ('признанных', {'entities': [(0, 10, 'O')]}),\n",
       " ('мировых', {'entities': [(0, 7, 'O')]}),\n",
       " ('кумиров', {'entities': [(0, 7, 'O')]}),\n",
       " ('Scorpions', {'entities': [(0, 9, 'O')]}),\n",
       " ('Bon', {'entities': [(0, 3, 'O')]}),\n",
       " ('Jovi', {'entities': [(0, 4, 'O')]}),\n",
       " ('Ozzy', {'entities': [(0, 4, 'O')]}),\n",
       " ('Osbourne', {'entities': [(0, 8, 'O')]}),\n",
       " ('Cinderella', {'entities': [(0, 10, 'O')]}),\n",
       " ('Motley', {'entities': [(0, 6, 'O')]}),\n",
       " ('Crue', {'entities': [(0, 4, 'O')]}),\n",
       " ('Приезд', {'entities': [(0, 6, 'O')]}),\n",
       " ('западных', {'entities': [(0, 8, 'O')]}),\n",
       " ('звезд', {'entities': [(0, 5, 'O')]}),\n",
       " ('казался', {'entities': [(0, 7, 'O')]}),\n",
       " ('ожившей', {'entities': [(0, 7, 'O')]}),\n",
       " ('фантастикой', {'entities': [(0, 11, 'O')]}),\n",
       " ('Фестиваль', {'entities': [(0, 9, 'O')]}),\n",
       " ('стал', {'entities': [(0, 4, 'O')]}),\n",
       " ('только', {'entities': [(0, 6, 'O')]}),\n",
       " ('музыкальной', {'entities': [(0, 11, 'O')]}),\n",
       " ('важной', {'entities': [(0, 6, 'O')]}),\n",
       " ('политической', {'entities': [(0, 12, 'O')]}),\n",
       " ('акцией', {'entities': [(0, 6, 'O')]}),\n",
       " ('Вся', {'entities': [(0, 3, 'O')]}),\n",
       " ('мировая', {'entities': [(0, 7, 'O')]}),\n",
       " ('пресса', {'entities': [(0, 6, 'O')]}),\n",
       " ('писала', {'entities': [(0, 6, 'O')]}),\n",
       " ('о', {'entities': [(0, 1, 'O')]}),\n",
       " ('том', {'entities': [(0, 3, 'O')]}),\n",
       " ('СССР', {'entities': [(0, 4, 'O')]}),\n",
       " ('США', {'entities': [(0, 3, 'O')]}),\n",
       " ('долгое', {'entities': [(0, 6, 'O')]}),\n",
       " ('время', {'entities': [(0, 5, 'O')]}),\n",
       " ('находившиеся', {'entities': [(0, 12, 'O')]}),\n",
       " ('состоянии', {'entities': [(0, 9, 'O')]}),\n",
       " ('холодной', {'entities': [(0, 8, 'O')]}),\n",
       " ('войны', {'entities': [(0, 5, 'O')]}),\n",
       " ('наконец', {'entities': [(0, 7, 'O')]}),\n",
       " ('то', {'entities': [(0, 2, 'O')]}),\n",
       " ('стали', {'entities': [(0, 5, 'O')]}),\n",
       " ('налаживать', {'entities': [(0, 10, 'O')]}),\n",
       " ('дружественные', {'entities': [(0, 13, 'O')]}),\n",
       " ('отношения', {'entities': [(0, 9, 'O')]}),\n",
       " ('культурном', {'entities': [(0, 10, 'O')]}),\n",
       " ('фронте', {'entities': [(0, 6, 'O')]}),\n",
       " ('музыкантов', {'entities': [(0, 10, 'O')]}),\n",
       " ('разрушил', {'entities': [(0, 8, 'O')]}),\n",
       " ('мифы', {'entities': [(0, 4, 'O')]}),\n",
       " ('стереотипы', {'entities': [(0, 10, 'O')]}),\n",
       " ('Советском', {'entities': [(0, 9, 'O')]}),\n",
       " ('Союзе', {'entities': [(0, 5, 'O')]}),\n",
       " ('суровой', {'entities': [(0, 7, 'O')]}),\n",
       " ('закрытой', {'entities': [(0, 8, 'O')]}),\n",
       " ('стране', {'entities': [(0, 6, 'O')]}),\n",
       " ('Но', {'entities': [(0, 2, 'O')]}),\n",
       " ('осталось', {'entities': [(0, 8, 'O')]}),\n",
       " ('за', {'entities': [(0, 2, 'O')]}),\n",
       " ('кадром', {'entities': [(0, 6, 'O')]}),\n",
       " ('этой', {'entities': [(0, 4, 'O')]}),\n",
       " ('революции', {'entities': [(0, 9, 'O')]}),\n",
       " ('организатор', {'entities': [(0, 11, 'O')]}),\n",
       " ('фестиваля', {'entities': [(0, 9, 'O')]}),\n",
       " ('музыкант', {'entities': [(0, 8, 'O')]}),\n",
       " ('продюсер', {'entities': [(0, 8, 'O')]}),\n",
       " ('а', {'entities': [(0, 1, 'O')]}),\n",
       " ('также', {'entities': [(0, 5, 'O')]}),\n",
       " ('некоторые', {'entities': [(0, 9, 'O')]}),\n",
       " ('участники', {'entities': [(0, 9, 'O')]}),\n",
       " ('согласились', {'entities': [(0, 11, 'O')]}),\n",
       " ('поделиться', {'entities': [(0, 10, 'O')]}),\n",
       " ('своими', {'entities': [(0, 6, 'O')]}),\n",
       " ('личными', {'entities': [(0, 7, 'O')]}),\n",
       " ('воспоминаниями', {'entities': [(0, 14, 'O')]}),\n",
       " ('МЦК', {'entities': [(0, 3, 'B-название проекта')]}),\n",
       " ('Белокаменная', {'entities': [(0, 12, 'I-название проекта')]}),\n",
       " ('Бульвар', {'entities': [(0, 7, 'B-локация')]}),\n",
       " ('Рокоссовского', {'entities': [(0, 13, 'I-локация')]}),\n",
       " ('Локомотив', {'entities': [(0, 9, 'I-локация')]}),\n",
       " ('Измайлово', {'entities': [(0, 9, 'I-локация')]}),\n",
       " ('Соколиная', {'entities': [(0, 9, 'I-локация')]}),\n",
       " ('Гора', {'entities': [(0, 4, 'I-локация')]}),\n",
       " ('Шоссе', {'entities': [(0, 5, 'I-локация')]}),\n",
       " ('Энтузиастов', {'entities': [(0, 11, 'I-локация')]}),\n",
       " ('Спонсорская', {'entities': [(0, 11, 'B-название проекта')]}),\n",
       " ('помощь', {'entities': [(0, 6, 'I-название проекта')]}),\n",
       " ('развитие', {'entities': [(0, 8, 'I-название проекта')]}),\n",
       " ('канала', {'entities': [(0, 6, 'I-название проекта')]}),\n",
       " ('СберБанк', {'entities': [(0, 8, 'O')]}),\n",
       " ('Онлайн', {'entities': [(0, 6, 'O')]}),\n",
       " ('89165582144', {'entities': [(0, 11, 'O')]}),\n",
       " ('ноября', {'entities': [(0, 6, 'I-Дата')]}),\n",
       " ('2021', {'entities': [(0, 4, 'I-Дата')]}),\n",
       " ('др', {'entities': [(0, 2, 'I-локация')]}),\n",
       " ('.!', {'entities': [(0, 2, 'O')]}),\n",
       " ('LEGO', {'entities': [(0, 4, 'B-бренд')]}),\n",
       " ('Мультфильм', {'entities': [(0, 10, 'O')]}),\n",
       " ('Poppy', {'entities': [(0, 5, 'B-название проекта')]}),\n",
       " ('Playtime', {'entities': [(0, 8, 'I-название проекта')]}),\n",
       " ('Тайна', {'entities': [(0, 5, 'I-название проекта')]}),\n",
       " ('Хагги', {'entities': [(0, 5, 'I-название проекта')]}),\n",
       " ('Вагги', {'entities': [(0, 5, 'I-название проекта')]}),\n",
       " ('ЛЕГО', {'entities': [(0, 4, 'B-бренд')]}),\n",
       " ('Stop', {'entities': [(0, 4, 'O')]}),\n",
       " ('Motion', {'entities': [(0, 6, 'O')]}),\n",
       " ('Animation', {'entities': [(0, 9, 'O')]}),\n",
       " ('✅', {'entities': [(0, 1, 'O')]}),\n",
       " ('Лего', {'entities': [(0, 4, 'O')]}),\n",
       " ('Раритет', {'entities': [(0, 7, 'O')]}),\n",
       " ('Новогодний', {'entities': [(0, 10, 'O')]}),\n",
       " ('РОЗЫГРЫШ', {'entities': [(0, 8, 'O')]}),\n",
       " ('Промокод', {'entities': [(0, 8, 'O')]}),\n",
       " ('10', {'entities': [(0, 2, 'O')]}),\n",
       " ('%', {'entities': [(0, 1, 'O')]}),\n",
       " ('скидку', {'entities': [(0, 6, 'O')]}),\n",
       " ('FANTASY', {'entities': [(0, 7, 'O')]}),\n",
       " ('Герой', {'entities': [(0, 5, 'O')]}),\n",
       " ('lego', {'entities': [(0, 4, 'B-бренд')]}),\n",
       " ('анимации', {'entities': [(0, 8, 'O')]}),\n",
       " ('Миша', {'entities': [(0, 4, 'B-персона')]}),\n",
       " ('ведет', {'entities': [(0, 5, 'O')]}),\n",
       " ('свой', {'entities': [(0, 4, 'O')]}),\n",
       " ('YouTube', {'entities': [(0, 7, 'O')]}),\n",
       " ('ходит', {'entities': [(0, 5, 'O')]}),\n",
       " ('заброшкам', {'entities': [(0, 9, 'O')]}),\n",
       " ('находит', {'entities': [(0, 7, 'O')]}),\n",
       " ('статью', {'entities': [(0, 6, 'O')]}),\n",
       " ('6', {'entities': [(0, 1, 'O')]}),\n",
       " ('назад', {'entities': [(0, 5, 'O')]}),\n",
       " ('закрылась', {'entities': [(0, 9, 'O')]}),\n",
       " ('фабрика', {'entities': [(0, 7, 'O')]}),\n",
       " ('игрушек', {'entities': [(0, 7, 'O')]}),\n",
       " ('где', {'entities': [(0, 3, 'O')]}),\n",
       " ('были', {'entities': [(0, 4, 'O')]}),\n",
       " ('несчастные', {'entities': [(0, 10, 'O')]}),\n",
       " ('случаи', {'entities': [(0, 6, 'O')]}),\n",
       " ('она', {'entities': [(0, 3, 'O')]}),\n",
       " ('экстренно', {'entities': [(0, 9, 'O')]}),\n",
       " ('заводе', {'entities': [(0, 6, 'O')]}),\n",
       " ('производились', {'entities': [(0, 13, 'O')]}),\n",
       " ('популярные', {'entities': [(0, 10, 'O')]}),\n",
       " ('игрушки', {'entities': [(0, 7, 'O')]}),\n",
       " ('Huggy', {'entities': [(0, 5, 'B-бренд')]}),\n",
       " ('Wuggy', {'entities': [(0, 5, 'I-бренд')]}),\n",
       " ('Поэтому', {'entities': [(0, 7, 'O')]}),\n",
       " ('наш', {'entities': [(0, 3, 'O')]}),\n",
       " ('главный', {'entities': [(0, 7, 'O')]}),\n",
       " ('герой', {'entities': [(0, 5, 'O')]}),\n",
       " ('мультфильма', {'entities': [(0, 11, 'O')]}),\n",
       " ('отправляется', {'entities': [(0, 12, 'O')]}),\n",
       " ('путь', {'entities': [(0, 4, 'O')]}),\n",
       " ('чтобы', {'entities': [(0, 5, 'O')]}),\n",
       " ('отснять', {'entities': [(0, 7, 'O')]}),\n",
       " ('интересный', {'entities': [(0, 10, 'O')]}),\n",
       " ('материал', {'entities': [(0, 8, 'O')]}),\n",
       " ('для', {'entities': [(0, 3, 'O')]}),\n",
       " ('его', {'entities': [(0, 3, 'O')]}),\n",
       " ('ждет', {'entities': [(0, 4, 'O')]}),\n",
       " ('там', {'entities': [(0, 3, 'O')]}),\n",
       " ('самом', {'entities': [(0, 5, 'O')]}),\n",
       " ('деле', {'entities': [(0, 4, 'O')]}),\n",
       " ('Смотрите', {'entities': [(0, 8, 'O')]}),\n",
       " ('новый', {'entities': [(0, 5, 'O')]}),\n",
       " ('Brick', {'entities': [(0, 5, 'O')]}),\n",
       " ('Fantasy', {'entities': [(0, 7, 'O')]}),\n",
       " ('✅По', {'entities': [(0, 3, 'O')]}),\n",
       " ('вопросам', {'entities': [(0, 8, 'O')]}),\n",
       " ('рекламы', {'entities': [(0, 7, 'O')]}),\n",
       " ('Почта', {'entities': [(0, 5, 'O')]}),\n",
       " ('соц', {'entities': [(0, 3, 'O')]}),\n",
       " ('сетях', {'entities': [(0, 5, 'O')]}),\n",
       " ('ВКонтакте', {'entities': [(0, 9, 'O')]}),\n",
       " ('Группа', {'entities': [(0, 6, 'O')]}),\n",
       " ('Instagram', {'entities': [(0, 9, 'O')]}),\n",
       " ('трансляция', {'entities': [(0, 10, 'O')]}),\n",
       " ('|', {'entities': [(0, 1, 'O')]}),\n",
       " ('Всероссийский', {'entities': [(0, 13, 'O')]}),\n",
       " ('детский', {'entities': [(0, 7, 'O')]}),\n",
       " ('турнир', {'entities': [(0, 6, 'O')]}),\n",
       " ('футболу', {'entities': [(0, 7, 'O')]}),\n",
       " ('Буткап', {'entities': [(0, 6, 'B-название проекта')]}),\n",
       " ('Легенды🏆', {'entities': [(0, 8, 'O')]}),\n",
       " ('Первый', {'entities': [(0, 6, 'O')]}),\n",
       " ('игровой', {'entities': [(0, 7, 'O')]}),\n",
       " ('турнира', {'entities': [(0, 7, 'O')]}),\n",
       " ('среди', {'entities': [(0, 5, 'O')]}),\n",
       " ('юношеских', {'entities': [(0, 9, 'O')]}),\n",
       " ('команд', {'entities': [(0, 6, 'O')]}),\n",
       " ('2005', {'entities': [(0, 4, 'O')]}),\n",
       " ('2006', {'entities': [(0, 4, 'O')]}),\n",
       " ('2010', {'entities': [(0, 4, 'O')]}),\n",
       " ('г', {'entities': [(0, 1, 'O')]}),\n",
       " ('р', {'entities': [(0, 1, 'O')]}),\n",
       " ('актуальная', {'entities': [(0, 10, 'O')]}),\n",
       " ('информация', {'entities': [(0, 10, 'O')]}),\n",
       " ('турнире', {'entities': [(0, 7, 'O')]}),\n",
       " ('Сайт▶️', {'entities': [(0, 6, 'O')]}),\n",
       " ('legendy', {'entities': [(0, 7, 'O')]}),\n",
       " ('Инстаграм▶️', {'entities': [(0, 11, 'O')]}),\n",
       " ('Телеграм▶️', {'entities': [(0, 10, 'O')]}),\n",
       " ('ВК▶️', {'entities': [(0, 4, 'O')]}),\n",
       " ('Убийца', {'entities': [(0, 6, 'B-название проекта')]}),\n",
       " ('Против', {'entities': [(0, 6, 'I-название проекта')]}),\n",
       " ('всех', {'entities': [(0, 4, 'I-название проекта')]}),\n",
       " ('Sicario', {'entities': [(0, 7, 'B-название проекта')]}),\n",
       " ('Soldado', {'entities': [(0, 7, 'I-название проекта')]}),\n",
       " ('(', {'entities': [(0, 1, 'O')]}),\n",
       " ('2018', {'entities': [(0, 4, 'B-Дата')]}),\n",
       " (')', {'entities': [(0, 1, 'O')]}),\n",
       " ('Дублированный', {'entities': [(0, 13, 'O')]}),\n",
       " ('трейлер', {'entities': [(0, 7, 'O')]}),\n",
       " ('кино', {'entities': [(0, 4, 'O')]}),\n",
       " ('28', {'entities': [(0, 2, 'I-Дата')]}),\n",
       " ('Страна', {'entities': [(0, 6, 'O')]}),\n",
       " ('Италия', {'entities': [(0, 6, 'O')]}),\n",
       " ('Жанр', {'entities': [(0, 4, 'O')]}),\n",
       " ('боевик', {'entities': [(0, 6, 'O')]}),\n",
       " ('триллер', {'entities': [(0, 7, 'O')]}),\n",
       " ('драма', {'entities': [(0, 5, 'O')]}),\n",
       " ('криминал', {'entities': [(0, 8, 'O')]}),\n",
       " ('Режиссер', {'entities': [(0, 8, 'O')]}),\n",
       " ('Стефано', {'entities': [(0, 7, 'B-персона')]}),\n",
       " ('Соллима', {'entities': [(0, 7, 'I-персона')]}),\n",
       " ('ролях', {'entities': [(0, 5, 'O')]}),\n",
       " ('Джош', {'entities': [(0, 4, 'B-персона')]}),\n",
       " ('Бролин', {'entities': [(0, 6, 'I-персона')]}),\n",
       " ('Бенисио', {'entities': [(0, 7, 'B-персона')]}),\n",
       " ('Дель', {'entities': [(0, 4, 'I-персона')]}),\n",
       " ('Торо', {'entities': [(0, 4, 'I-персона')]}),\n",
       " ('Мэттью', {'entities': [(0, 6, 'B-персона')]}),\n",
       " ('Модайн', {'entities': [(0, 6, 'I-персона')]}),\n",
       " ('Кэтрин', {'entities': [(0, 6, 'B-персона')]}),\n",
       " ('Кинер', {'entities': [(0, 5, 'I-персона')]}),\n",
       " ('Продолжение', {'entities': [(0, 11, 'O')]}),\n",
       " ('драматического', {'entities': [(0, 14, 'O')]}),\n",
       " ('триллера', {'entities': [(0, 8, 'O')]}),\n",
       " ('2015', {'entities': [(0, 4, 'B-Дата')]}),\n",
       " ('будет', {'entities': [(0, 5, 'O')]}),\n",
       " ('раскрыта', {'entities': [(0, 8, 'O')]}),\n",
       " ('история', {'entities': [(0, 7, 'O')]}),\n",
       " ('самого', {'entities': [(0, 6, 'O')]}),\n",
       " ('загадочного', {'entities': [(0, 11, 'O')]}),\n",
       " ('мрачного', {'entities': [(0, 8, 'O')]}),\n",
       " ('персонажа', {'entities': [(0, 9, 'O')]}),\n",
       " ('–', {'entities': [(0, 1, 'O')]}),\n",
       " ('мексиканца', {'entities': [(0, 10, 'O')]}),\n",
       " ('Алехандро', {'entities': [(0, 9, 'B-организация')]}),\n",
       " ('Гиллике', {'entities': [(0, 7, 'I-организация')]}),\n",
       " ('шатком', {'entities': [(0, 6, 'O')]}),\n",
       " ('сотрудничестве', {'entities': [(0, 14, 'O')]}),\n",
       " ('агентами', {'entities': [(0, 8, 'O')]}),\n",
       " ('ЦРУ', {'entities': [(0, 3, 'B-локация')]}),\n",
       " ('он', {'entities': [(0, 2, 'O')]}),\n",
       " ('вскрывает', {'entities': [(0, 9, 'O')]}),\n",
       " ('дыры', {'entities': [(0, 4, 'O')]}),\n",
       " ('границе', {'entities': [(0, 7, 'O')]}),\n",
       " ('открывающие', {'entities': [(0, 11, 'O')]}),\n",
       " ('наркотрафика', {'entities': [(0, 12, 'O')]}),\n",
       " ('нелегалов', {'entities': [(0, 9, 'O')]}),\n",
       " ('еще', {'entities': [(0, 3, 'O')]}),\n",
       " ('выясняется', {'entities': [(0, 10, 'O')]}),\n",
       " ('террористов', {'entities': [(0, 11, 'O')]}),\n",
       " ('Открытие', {'entities': [(0, 8, 'O')]}),\n",
       " ('российско', {'entities': [(0, 9, 'O')]}),\n",
       " ('корейской', {'entities': [(0, 9, 'O')]}),\n",
       " ('выставки', {'entities': [(0, 8, 'O')]}),\n",
       " ('История', {'entities': [(0, 7, 'O')]}),\n",
       " ('Дружбы', {'entities': [(0, 6, 'O')]}),\n",
       " ('мая', {'entities': [(0, 3, 'O')]}),\n",
       " ('2014', {'entities': [(0, 4, 'O')]}),\n",
       " ('Государственном', {'entities': [(0, 15, 'O')]}),\n",
       " ('центральном', {'entities': [(0, 11, 'O')]}),\n",
       " ('музее', {'entities': [(0, 5, 'O')]}),\n",
       " ('современной', {'entities': [(0, 11, 'O')]}),\n",
       " ('истории', {'entities': [(0, 7, 'O')]}),\n",
       " ('ГЦМСИР', {'entities': [(0, 6, 'O')]}),\n",
       " ('состоялось', {'entities': [(0, 10, 'O')]}),\n",
       " ('открытие', {'entities': [(0, 8, 'O')]}),\n",
       " ('дружбы', {'entities': [(0, 6, 'I-название проекта')]}),\n",
       " ('церемонии', {'entities': [(0, 9, 'O')]}),\n",
       " ('приняли', {'entities': [(0, 7, 'O')]}),\n",
       " ('участие', {'entities': [(0, 7, 'O')]}),\n",
       " ('Чрезвычайный', {'entities': [(0, 12, 'O')]}),\n",
       " ('Полномочный', {'entities': [(0, 11, 'O')]}),\n",
       " ('Посол', {'entities': [(0, 5, 'O')]}),\n",
       " ('КНДР', {'entities': [(0, 4, 'O')]}),\n",
       " ('Ким', {'entities': [(0, 3, 'O')]}),\n",
       " ('Ен', {'entities': [(0, 2, 'O')]}),\n",
       " ('Дже', {'entities': [(0, 3, 'O')]}),\n",
       " ('заместитель', {'entities': [(0, 11, 'O')]}),\n",
       " ('Председателя', {'entities': [(0, 12, 'O')]}),\n",
       " ('ЦК', {'entities': [(0, 2, 'O')]}),\n",
       " ('КПРФ', {'entities': [(0, 4, 'O')]}),\n",
       " ('Д', {'entities': [(0, 1, 'O')]}),\n",
       " ('Г', {'entities': [(0, 1, 'O')]}),\n",
       " ('Новиков', {'entities': [(0, 7, 'O')]}),\n",
       " ('Совета', {'entities': [(0, 6, 'O')]}),\n",
       " ('СКП', {'entities': [(0, 3, 'O')]}),\n",
       " ('КПСС', {'entities': [(0, 4, 'O')]}),\n",
       " ('секретарь', {'entities': [(0, 9, 'O')]}),\n",
       " ('К', {'entities': [(0, 1, 'O')]}),\n",
       " ('Тайсаев', {'entities': [(0, 7, 'B-персона')]}),\n",
       " ('Маг', {'entities': [(0, 3, 'O')]}),\n",
       " ('снова', {'entities': [(0, 5, 'O')]}),\n",
       " ('Экспедиция', {'entities': [(0, 10, 'O')]}),\n",
       " ('пустоши', {'entities': [(0, 7, 'O')]}),\n",
       " ('Герои', {'entities': [(0, 5, 'B-видеоигра')]}),\n",
       " ('денег', {'entities': [(0, 5, 'I-видеоигра')]}),\n",
       " ('ГВД', {'entities': [(0, 3, 'B-видеоигра')]}),\n",
       " ('разведка', {'entities': [(0, 8, 'O')]}),\n",
       " ('сообщает', {'entities': [(0, 8, 'O')]}),\n",
       " ('подозрительной', {'entities': [(0, 14, 'O')]}),\n",
       " ('активности', {'entities': [(0, 10, 'O')]}),\n",
       " ('армий', {'entities': [(0, 5, 'O')]}),\n",
       " ('степной', {'entities': [(0, 7, 'O')]}),\n",
       " ('орды', {'entities': [(0, 4, 'O')]}),\n",
       " ('бандитских', {'entities': [(0, 10, 'O')]}),\n",
       " ('пустошах', {'entities': [(0, 8, 'O')]}),\n",
       " ('Пока', {'entities': [(0, 4, 'O')]}),\n",
       " ('цели', {'entities': [(0, 4, 'O')]}),\n",
       " ('до', {'entities': [(0, 2, 'O')]}),\n",
       " ('конца', {'entities': [(0, 5, 'O')]}),\n",
       " ('ясны', {'entities': [(0, 4, 'O')]}),\n",
       " ('Империя', {'entities': [(0, 7, 'O')]}),\n",
       " ('намерена', {'entities': [(0, 8, 'O')]}),\n",
       " ('закрывать', {'entities': [(0, 9, 'O')]}),\n",
       " ('глаза', {'entities': [(0, 5, 'O')]}),\n",
       " ('возможные', {'entities': [(0, 9, 'O')]}),\n",
       " ('угрозы', {'entities': [(0, 6, 'O')]}),\n",
       " ('со', {'entities': [(0, 2, 'O')]}),\n",
       " ('стороны', {'entities': [(0, 7, 'O')]}),\n",
       " ('давнего', {'entities': [(0, 7, 'O')]}),\n",
       " ('врага', {'entities': [(0, 5, 'O')]}),\n",
       " ('Потому', {'entities': [(0, 6, 'O')]}),\n",
       " ('воевода', {'entities': [(0, 7, 'O')]}),\n",
       " ('Граммит', {'entities': [(0, 7, 'B-персона')]}),\n",
       " ('объявляет', {'entities': [(0, 9, 'O')]}),\n",
       " ('начале', {'entities': [(0, 6, 'O')]}),\n",
       " ('ответной', {'entities': [(0, 8, 'O')]}),\n",
       " ('военной', {'entities': [(0, 7, 'O')]}),\n",
       " ('экспедиции', {'entities': [(0, 10, 'O')]}),\n",
       " ('Готовьте', {'entities': [(0, 8, 'O')]}),\n",
       " ('свои', {'entities': [(0, 4, 'O')]}),\n",
       " ('армии', {'entities': [(0, 5, 'O')]}),\n",
       " ('лучшее', {'entities': [(0, 6, 'O')]}),\n",
       " ('снаряжение', {'entities': [(0, 10, 'O')]}),\n",
       " ('донат', {'entities': [(0, 5, 'O')]}),\n",
       " ('трово', {'entities': [(0, 5, 'O')]}),\n",
       " ('сама', {'entities': [(0, 4, 'O')]}),\n",
       " ('игра', {'entities': [(0, 4, 'O')]}),\n",
       " ('моя', {'entities': [(0, 3, 'O')]}),\n",
       " ('реферальная', {'entities': [(0, 11, 'O')]}),\n",
       " ('ссылка', {'entities': [(0, 6, 'O')]}),\n",
       " ('рутуб', {'entities': [(0, 5, 'O')]}),\n",
       " ('дзен', {'entities': [(0, 4, 'O')]}),\n",
       " ('Приятного', {'entities': [(0, 9, 'O')]}),\n",
       " ('просмотра', {'entities': [(0, 9, 'O')]}),\n",
       " ('Смешные', {'entities': [(0, 7, 'O')]}),\n",
       " ('приколы', {'entities': [(0, 7, 'O')]}),\n",
       " ('животных', {'entities': [(0, 8, 'O')]}),\n",
       " ('ТОПовая', {'entities': [(0, 7, 'O')]}),\n",
       " ('Подборка', {'entities': [(0, 8, 'O')]}),\n",
       " ('23', {'entities': [(0, 2, 'O')]}),\n",
       " ('Ещё', {'entities': [(0, 3, 'O')]}),\n",
       " ('больше', {'entities': [(0, 6, 'O')]}),\n",
       " ('приколов', {'entities': [(0, 8, 'O')]}),\n",
       " ('тут', {'entities': [(0, 3, 'O')]}),\n",
       " ('смешные', {'entities': [(0, 7, 'O')]}),\n",
       " ('животные', {'entities': [(0, 8, 'O')]}),\n",
       " ('озвучкой', {'entities': [(0, 8, 'O')]}),\n",
       " ('подборка', {'entities': [(0, 8, 'O')]}),\n",
       " ('топовая', {'entities': [(0, 7, 'O')]}),\n",
       " ('Total', {'entities': [(0, 5, 'B-видеоигра')]}),\n",
       " ('War', {'entities': [(0, 3, 'I-видеоигра')]}),\n",
       " ('Warhammer', {'entities': [(0, 9, 'I-видеоигра')]}),\n",
       " ('II', {'entities': [(0, 2, 'I-видеоигра')]}),\n",
       " ('Сложность', {'entities': [(0, 9, 'O')]}),\n",
       " ('Легендарная', {'entities': [(0, 11, 'O')]}),\n",
       " ('Последователи', {'entities': [(0, 13, 'O')]}),\n",
       " ('Нагаша', {'entities': [(0, 6, 'B-персона')]}),\n",
       " ('Финал', {'entities': [(0, 5, 'O')]}),\n",
       " ('..', {'entities': [(0, 2, 'O')]}),\n",
       " ('mp', {'entities': [(0, 2, 'O')]}),\n",
       " ('_', {'entities': [(0, 1, 'O')]}),\n",
       " ('ПРАВИЛА', {'entities': [(0, 7, 'O')]}),\n",
       " ('ДЛЯ', {'entities': [(0, 3, 'O')]}),\n",
       " ('ЗРИТЕЛЕЙ', {'entities': [(0, 8, 'O')]}),\n",
       " ('●', {'entities': [(0, 1, 'O')]}),\n",
       " ('Не', {'entities': [(0, 2, 'O')]}),\n",
       " ('размещать', {'entities': [(0, 9, 'O')]}),\n",
       " ('ссылки', {'entities': [(0, 6, 'O')]}),\n",
       " ('разрешения', {'entities': [(0, 10, 'O')]}),\n",
       " ('КАПСИТЬ', {'entities': [(0, 7, 'O')]}),\n",
       " ('спойлерить', {'entities': [(0, 10, 'O')]}),\n",
       " ('материться', {'entities': [(0, 10, 'O')]}),\n",
       " ('рекламировать', {'entities': [(0, 13, 'O')]}),\n",
       " ('каналы', {'entities': [(0, 6, 'O')]}),\n",
       " ('Без', {'entities': [(0, 3, 'O')]}),\n",
       " ('негатива', {'entities': [(0, 8, 'O')]}),\n",
       " ('Поддерживая', {'entities': [(0, 11, 'O')]}),\n",
       " ('меня', {'entities': [(0, 4, 'O')]}),\n",
       " ('выражаешь', {'entities': [(0, 9, 'O')]}),\n",
       " ('благодарность', {'entities': [(0, 13, 'O')]}),\n",
       " ('все', {'entities': [(0, 3, 'O')]}),\n",
       " ('канале', {'entities': [(0, 6, 'O')]}),\n",
       " ('целом', {'entities': [(0, 5, 'O')]}),\n",
       " ('Также', {'entities': [(0, 5, 'O')]}),\n",
       " ('вклад', {'entities': [(0, 5, 'O')]}),\n",
       " ('существование', {'entities': [(0, 13, 'O')]}),\n",
       " ('Donation', {'entities': [(0, 8, 'O')]}),\n",
       " ('Alerts', {'entities': [(0, 6, 'O')]}),\n",
       " ('...', {'entities': [(0, 3, 'O')]}),\n",
       " ('Деньги', {'entities': [(0, 6, 'O')]}),\n",
       " ('410013264747311', {'entities': [(0, 15, 'O')]}),\n",
       " ('TotalWarWarhammer', {'entities': [(0, 17, 'O')]}),\n",
       " ('TotalWar', {'entities': [(0, 8, 'O')]}),\n",
       " ('Fod', {'entities': [(0, 3, 'O')]}),\n",
       " ('Брутальный', {'entities': [(0, 10, 'O')]}),\n",
       " ('вопрос', {'entities': [(0, 6, 'O')]}),\n",
       " ('Назовите', {'entities': [(0, 8, 'O')]}),\n",
       " ('столицу', {'entities': [(0, 7, 'O')]}),\n",
       " ('Проект', {'entities': [(0, 6, 'O')]}),\n",
       " ('BRUTALITY', {'entities': [(0, 9, 'B-название проекта')]}),\n",
       " ('тема', {'entities': [(0, 4, 'O')]}),\n",
       " ('выпуске', {'entities': [(0, 7, 'O')]}),\n",
       " ('рубрики', {'entities': [(0, 7, 'O')]}),\n",
       " ('Пишите', {'entities': [(0, 6, 'O')]}),\n",
       " ('комментарии', {'entities': [(0, 11, 'O')]}),\n",
       " ('следующем', {'entities': [(0, 9, 'O')]}),\n",
       " ('один', {'entities': [(0, 4, 'O')]}),\n",
       " ('попал', {'entities': [(0, 5, 'O')]}),\n",
       " ('футболку', {'entities': [(0, 8, 'O')]}),\n",
       " ('Андрею', {'entities': [(0, 6, 'B-персона')]}),\n",
       " ('Остеру', {'entities': [(0, 6, 'I-персона')]}),\n",
       " (':)', {'entities': [(0, 2, 'O')]}),\n",
       " ('ВК', {'entities': [(0, 2, 'O')]}),\n",
       " ('РАЗБОР', {'entities': [(0, 6, 'O')]}),\n",
       " ('СЕРИАЛА', {'entities': [(0, 7, 'O')]}),\n",
       " ('КОРОЛЬ', {'entities': [(0, 6, 'B-название проекта')]}),\n",
       " ('ШУТ', {'entities': [(0, 3, 'I-название проекта')]}),\n",
       " ('КОНФЛИКТ', {'entities': [(0, 8, 'O')]}),\n",
       " ('СЕКРЕТЫ', {'entities': [(0, 7, 'O')]}),\n",
       " ('ОТСЫЛКИ', {'entities': [(0, 7, 'O')]}),\n",
       " ('часть', {'entities': [(0, 5, 'O')]}),\n",
       " ('корольишутсериал', {'entities': [(0, 16, 'O')]}),\n",
       " ('разборфильма', {'entities': [(0, 12, 'O')]}),\n",
       " ('Тайминг', {'entities': [(0, 7, 'O')]}),\n",
       " ('00', {'entities': [(0, 2, 'O')]}),\n",
       " ('02', {'entities': [(0, 2, 'O')]}),\n",
       " ('11', {'entities': [(0, 2, 'O')]}),\n",
       " ('серия', {'entities': [(0, 5, 'O')]}),\n",
       " ('43', {'entities': [(0, 2, 'O')]}),\n",
       " ('Наконец', {'entities': [(0, 7, 'O')]}),\n",
       " ('дошли', {'entities': [(0, 5, 'O')]}),\n",
       " ('разбор', {'entities': [(0, 6, 'O')]}),\n",
       " ('сериала', {'entities': [(0, 7, 'O')]}),\n",
       " ('Король', {'entities': [(0, 6, 'B-название проекта')]}),\n",
       " ('Шут', {'entities': [(0, 3, 'I-название проекта')]}),\n",
       " ('который', {'entities': [(0, 7, 'O')]}),\n",
       " ('взорвал', {'entities': [(0, 7, 'O')]}),\n",
       " ('кинотопы', {'entities': [(0, 8, 'O')]}),\n",
       " ('возродил', {'entities': [(0, 8, 'O')]}),\n",
       " ('новую', {'entities': [(0, 5, 'O')]}),\n",
       " ('волну', {'entities': [(0, 5, 'O')]}),\n",
       " ('популярности', {'entities': [(0, 12, 'O')]}),\n",
       " ('♥', {'entities': [(0, 1, 'O')]}),\n",
       " ('ГРУЗОВАЯ', {'entities': [(0, 8, 'O')]}),\n",
       " ('ЛЕГЕНДА', {'entities': [(0, 7, 'O')]}),\n",
       " ('Бамовской', {'entities': [(0, 9, 'O')]}),\n",
       " ('стройки', {'entities': [(0, 7, 'O')]}),\n",
       " ('самосвал', {'entities': [(0, 8, 'O')]}),\n",
       " ('Magirus', {'entities': [(0, 7, 'B-бренд')]}),\n",
       " ('Deutz', {'entities': [(0, 5, 'I-бренд')]}),\n",
       " ('290', {'entities': [(0, 3, 'B-модель')]}),\n",
       " ('▶', {'entities': [(0, 1, 'O')]}),\n",
       " ('ПОДПИШИСЬ', {'entities': [(0, 9, 'O')]}),\n",
       " ('НАЖМИ', {'entities': [(0, 5, 'O')]}),\n",
       " ('Так', {'entities': [(0, 3, 'O')]}),\n",
       " ('же', {'entities': [(0, 2, 'O')]}),\n",
       " ('подписывайтесь', {'entities': [(0, 14, 'O')]}),\n",
       " ('нашу', {'entities': [(0, 4, 'O')]}),\n",
       " ('группу', {'entities': [(0, 6, 'O')]}),\n",
       " ('контакте', {'entities': [(0, 8, 'O')]}),\n",
       " ('▬▬▬▬▬▬▬▬►', {'entities': [(0, 9, 'O')]}),\n",
       " ('Видео', {'entities': [(0, 5, 'O')]}),\n",
       " ('загруженное', {'entities': [(0, 11, 'O')]}),\n",
       " ('создано', {'entities': [(0, 7, 'O')]}),\n",
       " ('основе', {'entities': [(0, 6, 'O')]}),\n",
       " ('принципа', {'entities': [(0, 8, 'O')]}),\n",
       " ('добросовестного', {'entities': [(0, 15, 'O')]}),\n",
       " ('использования', {'entities': [(0, 13, 'O')]}),\n",
       " ('авторские', {'entities': [(0, 9, 'O')]}),\n",
       " ('права', {'entities': [(0, 5, 'O')]}),\n",
       " ('принадлежат', {'entities': [(0, 11, 'O')]}),\n",
       " ('законным', {'entities': [(0, 8, 'O')]}),\n",
       " ('владельцам', {'entities': [(0, 10, 'O')]}),\n",
       " ('Если', {'entities': [(0, 4, 'O')]}),\n",
       " ('вы', {'entities': [(0, 2, 'O')]}),\n",
       " ('являетесь', {'entities': [(0, 9, 'O')]}),\n",
       " ('фрагмента', {'entities': [(0, 9, 'O')]}),\n",
       " ('выпуска', {'entities': [(0, 7, 'O')]}),\n",
       " ('распространение', {'entities': [(0, 15, 'O')]}),\n",
       " ('ущемляет', {'entities': [(0, 8, 'O')]}),\n",
       " ('ВАШИ', {'entities': [(0, 4, 'O')]}),\n",
       " ('Просьба', {'entities': [(0, 7, 'O')]}),\n",
       " ('свяжитесь', {'entities': [(0, 9, 'O')]}),\n",
       " ('мной', {'entities': [(0, 4, 'O')]}),\n",
       " ('Или', {'entities': [(0, 3, 'O')]}),\n",
       " ('почте', {'entities': [(0, 5, 'O')]}),\n",
       " ('Источник', {'entities': [(0, 8, 'O')]}),\n",
       " ('samosval', {'entities': [(0, 8, 'O')]}),\n",
       " ('magirus', {'entities': [(0, 7, 'B-бренд')]}),\n",
       " ('deutz', {'entities': [(0, 5, 'I-бренд')]}),\n",
       " ('60', {'entities': [(0, 2, 'O')]}),\n",
       " ('e', {'entities': [(0, 1, 'O')]}),\n",
       " ('4671', {'entities': [(0, 4, 'O')]}),\n",
       " ('c', {'entities': [(0, 1, 'O')]}),\n",
       " ('468', {'entities': [(0, 3, 'O')]}),\n",
       " ('cc', {'entities': [(0, 2, 'O')]}),\n",
       " ('950234', {'entities': [(0, 6, 'O')]}),\n",
       " ('b', {'entities': [(0, 1, 'O')]}),\n",
       " ('61', {'entities': [(0, 2, 'O')]}),\n",
       " ('грузовик', {'entities': [(0, 8, 'O')]}),\n",
       " ('бам', {'entities': [(0, 3, 'O')]}),\n",
       " ('ссср', {'entities': [(0, 4, 'O')]}),\n",
       " ('магирус', {'entities': [(0, 7, 'O')]}),\n",
       " ('ХАВЧИК', {'entities': [(0, 6, 'O')]}),\n",
       " ('ЛУЧШИЙ', {'entities': [(0, 6, 'O')]}),\n",
       " ('КЛИП', {'entities': [(0, 4, 'O')]}),\n",
       " ('КАРЬЕРЕ', {'entities': [(0, 7, 'O')]}),\n",
       " ('ТИМАТИ', {'entities': [(0, 6, 'B-персона')]}),\n",
       " ('ПАСХАЛКИ', {'entities': [(0, 8, 'O')]}),\n",
       " ('ДЖИГАН', {'entities': [(0, 6, 'B-персона')]}),\n",
       " ('ДАНЯ', {'entities': [(0, 4, 'B-персона')]}),\n",
       " ('МИЛОХИН', {'entities': [(0, 7, 'I-персона')]}),\n",
       " ('TRAVIS', {'entities': [(0, 6, 'B-персона')]}),\n",
       " ('SCOTT', {'entities': [(0, 5, 'I-персона')]}),\n",
       " ('Делись', {'entities': [(0, 6, 'O')]}),\n",
       " ('музыкой', {'entities': [(0, 7, 'O')]}),\n",
       " ('Music', {'entities': [(0, 5, 'O')]}),\n",
       " ('Bridge', {'entities': [(0, 6, 'O')]}),\n",
       " ('разберём', {'entities': [(0, 8, 'O')]}),\n",
       " ('клип', {'entities': [(0, 4, 'O')]}),\n",
       " ('Тимати', {'entities': [(0, 6, 'B-персона')]}),\n",
       " ('Джигана', {'entities': [(0, 7, 'B-персона')]}),\n",
       " ('Дани', {'entities': [(0, 4, 'B-персона')]}),\n",
       " ('Милохина', {'entities': [(0, 8, 'I-персона')]}),\n",
       " ('под', {'entities': [(0, 3, 'O')]}),\n",
       " ('названием', {'entities': [(0, 9, 'O')]}),\n",
       " ('Хавчик', {'entities': [(0, 6, 'B-название проекта')]}),\n",
       " ('паблик', {'entities': [(0, 6, 'O')]}),\n",
       " ('По', {'entities': [(0, 2, 'O')]}),\n",
       " ('Дима', {'entities': [(0, 4, 'B-персона')]}),\n",
       " ('Толчонов', {'entities': [(0, 8, 'I-персона')]}),\n",
       " ('социальных', {'entities': [(0, 10, 'O')]}),\n",
       " ('Инстаграм', {'entities': [(0, 9, 'O')]}),\n",
       " ('коммерческих', {'entities': [(0, 12, 'O')]}),\n",
       " ('предложений', {'entities': [(0, 11, 'O')]}),\n",
       " ('Открытый', {'entities': [(0, 8, 'O')]}),\n",
       " ('микрофон', {'entities': [(0, 8, 'O')]}),\n",
       " ('Гамлет', {'entities': [(0, 6, 'B-персона')]}),\n",
       " ('первом', {'entities': [(0, 6, 'O')]}),\n",
       " ('сексе', {'entities': [(0, 5, 'O')]}),\n",
       " ('отце', {'entities': [(0, 4, 'O')]}),\n",
       " ('кинологе', {'entities': [(0, 8, 'O')]}),\n",
       " ('своей', {'entities': [(0, 5, 'O')]}),\n",
       " ('восемнадцатилетней', {'entities': [(0, 18, 'O')]}),\n",
       " ('девушке', {'entities': [(0, 7, 'O')]}),\n",
       " ('расскажет', {'entities': [(0, 9, 'O')]}),\n",
       " ('нам', {'entities': [(0, 3, 'O')]}),\n",
       " ('своём', {'entities': [(0, 5, 'O')]}),\n",
       " ('незнакомкой', {'entities': [(0, 11, 'O')]}),\n",
       " ('Ну', {'entities': [(0, 2, 'O')]}),\n",
       " ('почему', {'entities': [(0, 6, 'O')]}),\n",
       " ('нет', {'entities': [(0, 3, 'O')]}),\n",
       " ('Она', {'entities': [(0, 3, 'O')]}),\n",
       " ('была', {'entities': [(0, 4, 'O')]}),\n",
       " ('против', {'entities': [(0, 6, 'O')]}),\n",
       " ('это', {'entities': [(0, 3, 'O')]}),\n",
       " ('важно', {'entities': [(0, 5, 'O')]}),\n",
       " ('отец', {'entities': [(0, 4, 'O')]}),\n",
       " ('комика', {'entities': [(0, 6, 'O')]}),\n",
       " ('разводит', {'entities': [(0, 8, 'O')]}),\n",
       " ('собак', {'entities': [(0, 5, 'O')]}),\n",
       " ('ухаживает', {'entities': [(0, 9, 'O')]}),\n",
       " ('собаками', {'entities': [(0, 8, 'O')]}),\n",
       " ('Гамлит', {'entities': [(0, 6, 'B-персона')]}),\n",
       " ('напоследок', {'entities': [(0, 10, 'O')]}),\n",
       " ('выступления', {'entities': [(0, 11, 'O')]}),\n",
       " ('поделится', {'entities': [(0, 9, 'O')]}),\n",
       " ('наблюдениями', {'entities': [(0, 12, 'O')]}),\n",
       " ('любви', {'entities': [(0, 5, 'O')]}),\n",
       " ('которая', {'entities': [(0, 7, 'O')]}),\n",
       " ('иногда', {'entities': [(0, 6, 'O')]}),\n",
       " ('немного', {'entities': [(0, 7, 'O')]}),\n",
       " ('лагает', {'entities': [(0, 6, 'O')]}),\n",
       " ('Формула', {'entities': [(0, 7, 'B-название проекта')]}),\n",
       " ('Гонять', {'entities': [(0, 6, 'O')]}),\n",
       " ('выживать', {'entities': [(0, 8, 'O')]}),\n",
       " ('Сезон', {'entities': [(0, 5, 'I-сезон')]}),\n",
       " ('смотреть', {'entities': [(0, 8, 'O')]}),\n",
       " ('онлайн', {'entities': [(0, 6, 'O')]}),\n",
       " ('хорошем', {'entities': [(0, 7, 'O')]}),\n",
       " ('качестве', {'entities': [(0, 8, 'O')]}),\n",
       " ('бесплатно', {'entities': [(0, 9, 'O')]}),\n",
       " ('сезон', {'entities': [(0, 5, 'I-сезон')]}),\n",
       " ('серию', {'entities': [(0, 5, 'I-серия')]}),\n",
       " ('Netflix', {'entities': [(0, 7, 'O')]}),\n",
       " ('HD', {'entities': [(0, 2, 'O')]}),\n",
       " ('720', {'entities': [(0, 3, 'O')]}),\n",
       " ('p', {'entities': [(0, 1, 'O')]}),\n",
       " ('совершенно', {'entities': [(0, 10, 'O')]}),\n",
       " ('formula', {'entities': [(0, 7, 'O')]}),\n",
       " ('f', {'entities': [(0, 1, 'O')]}),\n",
       " ('формула', {'entities': [(0, 7, 'O')]}),\n",
       " ('formulaone', {'entities': [(0, 10, 'O')]}),\n",
       " ('drivetosurvive', {'entities': [(0, 14, 'O')]}),\n",
       " ('ф', {'entities': [(0, 1, 'O')]}),\n",
       " ('charlesleclerc', {'entities': [(0, 14, 'O')]}),\n",
       " ('гонки', {'entities': [(0, 5, 'O')]}),\n",
       " ('grandprix', {'entities': [(0, 9, 'O')]}),\n",
       " ('lewishamilton', {'entities': [(0, 13, 'O')]}),\n",
       " ('racing', {'entities': [(0, 6, 'O')]}),\n",
       " ('mercedes', {'entities': [(0, 8, 'O')]}),\n",
       " ('redbull', {'entities': [(0, 7, 'O')]}),\n",
       " ('ferrari', {'entities': [(0, 7, 'O')]}),\n",
       " ('фильм', {'entities': [(0, 5, 'O')]}),\n",
       " ('hamilton', {'entities': [(0, 8, 'O')]}),\n",
       " ('maxverstappen', {'entities': [(0, 13, 'O')]}),\n",
       " ('danielricciardo', {'entities': [(0, 15, 'O')]}),\n",
       " ('2019', {'entities': [(0, 4, 'O')]}),\n",
       " ('sport', {'entities': [(0, 5, 'O')]}),\n",
       " ('leclerc', {'entities': [(0, 7, 'O')]}),\n",
       " ('фильмы', {'entities': [(0, 6, 'O')]}),\n",
       " ('12020', {'entities': [(0, 5, 'O')]}),\n",
       " ('спорт', {'entities': [(0, 5, 'O')]}),\n",
       " ('perez', {'entities': [(0, 5, 'O')]}),\n",
       " ('mclaren', {'entities': [(0, 7, 'O')]}),\n",
       " ('трейлеры', {'entities': [(0, 8, 'O')]}),\n",
       " ('motorracing', {'entities': [(0, 11, 'O')]}),\n",
       " ('gp', {'entities': [(0, 2, 'O')]}),\n",
       " ('albon', {'entities': [(0, 5, 'O')]}),\n",
       " ('автоспорт', {'entities': [(0, 9, 'O')]}),\n",
       " ...]"
      ]
     },
     "execution_count": 18,
     "metadata": {},
     "output_type": "execute_result"
    }
   ],
   "source": [
    "data"
   ]
  },
  {
   "cell_type": "markdown",
   "metadata": {},
   "source": [
    "Начинаем обучать"
   ]
  },
  {
   "cell_type": "code",
   "execution_count": 20,
   "metadata": {},
   "outputs": [],
   "source": [
    "from __future__ import unicode_literals, print_function\n",
    "import plac\n",
    "import random\n",
    "from pathlib import Path\n",
    "import spacy\n",
    "from tqdm import tqdm"
   ]
  },
  {
   "cell_type": "code",
   "execution_count": 21,
   "metadata": {},
   "outputs": [],
   "source": [
    "model = None\n",
    "output_dir=Path(\"output\")\n",
    "n_iter=1"
   ]
  },
  {
   "cell_type": "code",
   "execution_count": 22,
   "metadata": {},
   "outputs": [
    {
     "name": "stdout",
     "output_type": "stream",
     "text": [
      "Created blank 'ru' model\n"
     ]
    }
   ],
   "source": [
    "if model is not None:\n",
    "    nlp = spacy.load(model)  \n",
    "    print(\"Loaded model '%s'\" % model)\n",
    "else:\n",
    "    nlp = spacy.blank('ru')  \n",
    "    print(\"Created blank 'ru' model\")\n",
    "\n",
    "\n",
    "if 'ner' not in nlp.pipe_names:\n",
    "    ner = nlp.create_pipe('ner')\n",
    "    nlp.add_pipe('ner', last=True)\n",
    "else:\n",
    "    ner = nlp.get_pipe('ner')"
   ]
  },
  {
   "cell_type": "code",
   "execution_count": 23,
   "metadata": {},
   "outputs": [
    {
     "name": "stderr",
     "output_type": "stream",
     "text": [
      "100%|██████████| 1/1 [00:00<00:00, 60.39it/s]\n"
     ]
    },
    {
     "name": "stdout",
     "output_type": "stream",
     "text": [
      "{'ner': 0.8333333134651184}\n"
     ]
    },
    {
     "name": "stderr",
     "output_type": "stream",
     "text": [
      "100%|██████████| 2/2 [00:00<00:00, 146.14it/s]\n"
     ]
    },
    {
     "name": "stdout",
     "output_type": "stream",
     "text": [
      "{'ner': 1.640995442867279}\n"
     ]
    },
    {
     "name": "stderr",
     "output_type": "stream",
     "text": [
      "100%|██████████| 3/3 [00:00<00:00, 163.84it/s]\n"
     ]
    },
    {
     "name": "stdout",
     "output_type": "stream",
     "text": [
      "{'ner': 2.412974536418915}\n"
     ]
    },
    {
     "name": "stderr",
     "output_type": "stream",
     "text": [
      "100%|██████████| 4/4 [00:00<00:00, 154.82it/s]\n"
     ]
    },
    {
     "name": "stdout",
     "output_type": "stream",
     "text": [
      "{'ner': 3.1884878277778625}\n"
     ]
    },
    {
     "name": "stderr",
     "output_type": "stream",
     "text": [
      "100%|██████████| 5/5 [00:00<00:00, 161.43it/s]\n"
     ]
    },
    {
     "name": "stdout",
     "output_type": "stream",
     "text": [
      "{'ner': 3.941418707370758}\n"
     ]
    },
    {
     "name": "stderr",
     "output_type": "stream",
     "text": [
      "100%|██████████| 6/6 [00:00<00:00, 139.93it/s]\n"
     ]
    },
    {
     "name": "stdout",
     "output_type": "stream",
     "text": [
      "{'ner': 4.589160263538361}\n"
     ]
    },
    {
     "name": "stderr",
     "output_type": "stream",
     "text": [
      "100%|██████████| 7/7 [00:00<00:00, 141.64it/s]\n"
     ]
    },
    {
     "name": "stdout",
     "output_type": "stream",
     "text": [
      "{'ner': 5.169770359992981}\n"
     ]
    },
    {
     "name": "stderr",
     "output_type": "stream",
     "text": [
      "100%|██████████| 8/8 [00:00<00:00, 140.87it/s]\n"
     ]
    },
    {
     "name": "stdout",
     "output_type": "stream",
     "text": [
      "{'ner': 6.026689887046814}\n"
     ]
    },
    {
     "name": "stderr",
     "output_type": "stream",
     "text": [
      "100%|██████████| 9/9 [00:00<00:00, 155.63it/s]\n"
     ]
    },
    {
     "name": "stdout",
     "output_type": "stream",
     "text": [
      "{'ner': 6.091100096702576}\n"
     ]
    },
    {
     "name": "stderr",
     "output_type": "stream",
     "text": [
      "100%|██████████| 10/10 [00:00<00:00, 145.11it/s]\n"
     ]
    },
    {
     "name": "stdout",
     "output_type": "stream",
     "text": [
      "{'ner': 6.858655035495758}\n"
     ]
    },
    {
     "name": "stderr",
     "output_type": "stream",
     "text": [
      "100%|██████████| 11/11 [00:00<00:00, 134.45it/s]\n"
     ]
    },
    {
     "name": "stdout",
     "output_type": "stream",
     "text": [
      "{'ner': 7.562196493148804}\n"
     ]
    },
    {
     "name": "stderr",
     "output_type": "stream",
     "text": [
      "100%|██████████| 12/12 [00:00<00:00, 150.83it/s]\n"
     ]
    },
    {
     "name": "stdout",
     "output_type": "stream",
     "text": [
      "{'ner': 8.052034199237823}\n"
     ]
    },
    {
     "name": "stderr",
     "output_type": "stream",
     "text": [
      "100%|██████████| 13/13 [00:00<00:00, 156.61it/s]\n"
     ]
    },
    {
     "name": "stdout",
     "output_type": "stream",
     "text": [
      "{'ner': 8.514808535575867}\n"
     ]
    },
    {
     "name": "stderr",
     "output_type": "stream",
     "text": [
      "100%|██████████| 14/14 [00:00<00:00, 169.19it/s]\n"
     ]
    },
    {
     "name": "stdout",
     "output_type": "stream",
     "text": [
      "{'ner': 8.998404622077942}\n"
     ]
    },
    {
     "name": "stderr",
     "output_type": "stream",
     "text": [
      "100%|██████████| 15/15 [00:00<00:00, 159.56it/s]\n"
     ]
    },
    {
     "name": "stdout",
     "output_type": "stream",
     "text": [
      "{'ner': 9.05120387673378}\n"
     ]
    },
    {
     "name": "stderr",
     "output_type": "stream",
     "text": [
      "100%|██████████| 16/16 [00:00<00:00, 140.80it/s]\n"
     ]
    },
    {
     "name": "stdout",
     "output_type": "stream",
     "text": [
      "{'ner': 9.091911345720291}\n"
     ]
    },
    {
     "name": "stderr",
     "output_type": "stream",
     "text": [
      "100%|██████████| 17/17 [00:00<00:00, 125.48it/s]\n"
     ]
    },
    {
     "name": "stdout",
     "output_type": "stream",
     "text": [
      "{'ner': 12.604894697666168}\n"
     ]
    },
    {
     "name": "stderr",
     "output_type": "stream",
     "text": [
      "100%|██████████| 18/18 [00:00<00:00, 139.30it/s]\n"
     ]
    },
    {
     "name": "stdout",
     "output_type": "stream",
     "text": [
      "{'ner': 12.178140372037888}\n"
     ]
    },
    {
     "name": "stderr",
     "output_type": "stream",
     "text": [
      "100%|██████████| 19/19 [00:00<00:00, 152.14it/s]\n"
     ]
    },
    {
     "name": "stdout",
     "output_type": "stream",
     "text": [
      "{'ner': 12.230746820569038}\n"
     ]
    },
    {
     "name": "stderr",
     "output_type": "stream",
     "text": [
      "100%|██████████| 20/20 [00:00<00:00, 158.32it/s]\n"
     ]
    },
    {
     "name": "stdout",
     "output_type": "stream",
     "text": [
      "{'ner': 13.663614273071289}\n"
     ]
    },
    {
     "name": "stderr",
     "output_type": "stream",
     "text": [
      "100%|██████████| 21/21 [00:00<00:00, 163.85it/s]\n"
     ]
    },
    {
     "name": "stdout",
     "output_type": "stream",
     "text": [
      "{'ner': 15.092028886079788}\n"
     ]
    },
    {
     "name": "stderr",
     "output_type": "stream",
     "text": [
      "100%|██████████| 22/22 [00:00<00:00, 158.35it/s]\n"
     ]
    },
    {
     "name": "stdout",
     "output_type": "stream",
     "text": [
      "{'ner': 15.497700162231922}\n"
     ]
    },
    {
     "name": "stderr",
     "output_type": "stream",
     "text": [
      "100%|██████████| 23/23 [00:00<00:00, 169.47it/s]\n"
     ]
    },
    {
     "name": "stdout",
     "output_type": "stream",
     "text": [
      "{'ner': 16.314202412962914}\n"
     ]
    },
    {
     "name": "stderr",
     "output_type": "stream",
     "text": [
      "100%|██████████| 24/24 [00:00<00:00, 154.80it/s]\n"
     ]
    },
    {
     "name": "stdout",
     "output_type": "stream",
     "text": [
      "{'ner': 17.223503820598125}\n"
     ]
    },
    {
     "name": "stderr",
     "output_type": "stream",
     "text": [
      "100%|██████████| 25/25 [00:00<00:00, 169.98it/s]\n"
     ]
    },
    {
     "name": "stdout",
     "output_type": "stream",
     "text": [
      "{'ner': 15.574425257742405}\n"
     ]
    },
    {
     "name": "stderr",
     "output_type": "stream",
     "text": [
      "100%|██████████| 26/26 [00:00<00:00, 168.52it/s]\n"
     ]
    },
    {
     "name": "stdout",
     "output_type": "stream",
     "text": [
      "{'ner': 16.592106457799673}\n"
     ]
    },
    {
     "name": "stderr",
     "output_type": "stream",
     "text": [
      "100%|██████████| 27/27 [00:00<00:00, 121.34it/s]\n"
     ]
    },
    {
     "name": "stdout",
     "output_type": "stream",
     "text": [
      "{'ner': 16.659145012497902}\n"
     ]
    },
    {
     "name": "stderr",
     "output_type": "stream",
     "text": [
      "100%|██████████| 28/28 [00:00<00:00, 125.05it/s]\n"
     ]
    },
    {
     "name": "stdout",
     "output_type": "stream",
     "text": [
      "{'ner': 16.568895472213626}\n"
     ]
    },
    {
     "name": "stderr",
     "output_type": "stream",
     "text": [
      "100%|██████████| 29/29 [00:00<00:00, 113.17it/s]\n"
     ]
    },
    {
     "name": "stdout",
     "output_type": "stream",
     "text": [
      "{'ner': 16.25406458042562}\n"
     ]
    },
    {
     "name": "stderr",
     "output_type": "stream",
     "text": [
      "100%|██████████| 30/30 [00:00<00:00, 149.82it/s]\n"
     ]
    },
    {
     "name": "stdout",
     "output_type": "stream",
     "text": [
      "{'ner': 16.045395437045954}\n"
     ]
    },
    {
     "name": "stderr",
     "output_type": "stream",
     "text": [
      "100%|██████████| 31/31 [00:00<00:00, 160.18it/s]\n"
     ]
    },
    {
     "name": "stdout",
     "output_type": "stream",
     "text": [
      "{'ner': 18.572927280329168}\n"
     ]
    },
    {
     "name": "stderr",
     "output_type": "stream",
     "text": [
      "100%|██████████| 32/32 [00:00<00:00, 168.26it/s]\n"
     ]
    },
    {
     "name": "stdout",
     "output_type": "stream",
     "text": [
      "{'ner': 19.329643009463325}\n"
     ]
    },
    {
     "name": "stderr",
     "output_type": "stream",
     "text": [
      "100%|██████████| 33/33 [00:00<00:00, 158.79it/s]\n"
     ]
    },
    {
     "name": "stdout",
     "output_type": "stream",
     "text": [
      "{'ner': 17.1899696833716}\n"
     ]
    },
    {
     "name": "stderr",
     "output_type": "stream",
     "text": [
      "100%|██████████| 34/34 [00:00<00:00, 146.33it/s]\n"
     ]
    },
    {
     "name": "stdout",
     "output_type": "stream",
     "text": [
      "{'ner': 19.44492926444218}\n"
     ]
    },
    {
     "name": "stderr",
     "output_type": "stream",
     "text": [
      "100%|██████████| 35/35 [00:00<00:00, 150.61it/s]\n"
     ]
    },
    {
     "name": "stdout",
     "output_type": "stream",
     "text": [
      "{'ner': 18.75258153132995}\n"
     ]
    },
    {
     "name": "stderr",
     "output_type": "stream",
     "text": [
      "100%|██████████| 36/36 [00:00<00:00, 140.32it/s]\n"
     ]
    },
    {
     "name": "stdout",
     "output_type": "stream",
     "text": [
      "{'ner': 18.395368342908114}\n"
     ]
    },
    {
     "name": "stderr",
     "output_type": "stream",
     "text": [
      "100%|██████████| 37/37 [00:00<00:00, 103.56it/s]\n"
     ]
    },
    {
     "name": "stdout",
     "output_type": "stream",
     "text": [
      "{'ner': 17.62067760374339}\n"
     ]
    },
    {
     "name": "stderr",
     "output_type": "stream",
     "text": [
      "100%|██████████| 38/38 [00:00<00:00, 102.97it/s]\n"
     ]
    },
    {
     "name": "stdout",
     "output_type": "stream",
     "text": [
      "{'ner': 17.355977566490765}\n"
     ]
    },
    {
     "name": "stderr",
     "output_type": "stream",
     "text": [
      "100%|██████████| 39/39 [00:00<00:00, 119.60it/s]\n"
     ]
    },
    {
     "name": "stdout",
     "output_type": "stream",
     "text": [
      "{'ner': 18.932540538759156}\n"
     ]
    },
    {
     "name": "stderr",
     "output_type": "stream",
     "text": [
      "100%|██████████| 40/40 [00:00<00:00, 118.80it/s]\n"
     ]
    },
    {
     "name": "stdout",
     "output_type": "stream",
     "text": [
      "{'ner': 17.160063961286582}\n"
     ]
    },
    {
     "name": "stderr",
     "output_type": "stream",
     "text": [
      "100%|██████████| 41/41 [00:00<00:00, 104.55it/s]\n"
     ]
    },
    {
     "name": "stdout",
     "output_type": "stream",
     "text": [
      "{'ner': 16.580564983980366}\n"
     ]
    },
    {
     "name": "stderr",
     "output_type": "stream",
     "text": [
      "100%|██████████| 42/42 [00:00<00:00, 104.86it/s]\n"
     ]
    },
    {
     "name": "stdout",
     "output_type": "stream",
     "text": [
      "{'ner': 18.57154008455808}\n"
     ]
    },
    {
     "name": "stderr",
     "output_type": "stream",
     "text": [
      "100%|██████████| 43/43 [00:00<00:00, 108.57it/s]\n"
     ]
    },
    {
     "name": "stdout",
     "output_type": "stream",
     "text": [
      "{'ner': 19.127626327775346}\n"
     ]
    },
    {
     "name": "stderr",
     "output_type": "stream",
     "text": [
      "100%|██████████| 44/44 [00:00<00:00, 107.96it/s]\n"
     ]
    },
    {
     "name": "stdout",
     "output_type": "stream",
     "text": [
      "{'ner': 19.01636521158926}\n"
     ]
    },
    {
     "name": "stderr",
     "output_type": "stream",
     "text": [
      "100%|██████████| 45/45 [00:00<00:00, 48.65it/s]\n"
     ]
    },
    {
     "name": "stdout",
     "output_type": "stream",
     "text": [
      "{'ner': 20.169202004654352}\n"
     ]
    },
    {
     "name": "stderr",
     "output_type": "stream",
     "text": [
      "100%|██████████| 46/46 [00:00<00:00, 122.98it/s]\n"
     ]
    },
    {
     "name": "stdout",
     "output_type": "stream",
     "text": [
      "{'ner': 17.200384343224577}\n"
     ]
    },
    {
     "name": "stderr",
     "output_type": "stream",
     "text": [
      "100%|██████████| 47/47 [00:00<00:00, 159.61it/s]\n"
     ]
    },
    {
     "name": "stdout",
     "output_type": "stream",
     "text": [
      "{'ner': 17.290047979544454}\n"
     ]
    },
    {
     "name": "stderr",
     "output_type": "stream",
     "text": [
      "100%|██████████| 48/48 [00:00<00:00, 135.67it/s]\n"
     ]
    },
    {
     "name": "stdout",
     "output_type": "stream",
     "text": [
      "{'ner': 18.070131388474156}\n"
     ]
    },
    {
     "name": "stderr",
     "output_type": "stream",
     "text": [
      "100%|██████████| 49/49 [00:00<00:00, 159.96it/s]\n"
     ]
    },
    {
     "name": "stdout",
     "output_type": "stream",
     "text": [
      "{'ner': 18.742885991548075}\n"
     ]
    },
    {
     "name": "stderr",
     "output_type": "stream",
     "text": [
      "100%|██████████| 50/50 [00:00<00:00, 157.59it/s]\n"
     ]
    },
    {
     "name": "stdout",
     "output_type": "stream",
     "text": [
      "{'ner': 18.196110747075622}\n"
     ]
    },
    {
     "name": "stderr",
     "output_type": "stream",
     "text": [
      "100%|██████████| 51/51 [00:00<00:00, 168.99it/s]\n"
     ]
    },
    {
     "name": "stdout",
     "output_type": "stream",
     "text": [
      "{'ner': 17.335570167664294}\n"
     ]
    },
    {
     "name": "stderr",
     "output_type": "stream",
     "text": [
      "100%|██████████| 52/52 [00:00<00:00, 151.39it/s]\n"
     ]
    },
    {
     "name": "stdout",
     "output_type": "stream",
     "text": [
      "{'ner': 18.238916909300393}\n"
     ]
    },
    {
     "name": "stderr",
     "output_type": "stream",
     "text": [
      "100%|██████████| 53/53 [00:00<00:00, 158.72it/s]\n"
     ]
    },
    {
     "name": "stdout",
     "output_type": "stream",
     "text": [
      "{'ner': 16.776310140002384}\n"
     ]
    },
    {
     "name": "stderr",
     "output_type": "stream",
     "text": [
      "100%|██████████| 54/54 [00:00<00:00, 158.69it/s]\n"
     ]
    },
    {
     "name": "stdout",
     "output_type": "stream",
     "text": [
      "{'ner': 19.445273820104703}\n"
     ]
    },
    {
     "name": "stderr",
     "output_type": "stream",
     "text": [
      "100%|██████████| 55/55 [00:00<00:00, 151.24it/s]\n"
     ]
    },
    {
     "name": "stdout",
     "output_type": "stream",
     "text": [
      "{'ner': 15.07940548137393}\n"
     ]
    },
    {
     "name": "stderr",
     "output_type": "stream",
     "text": [
      "100%|██████████| 56/56 [00:00<00:00, 155.77it/s]\n"
     ]
    },
    {
     "name": "stdout",
     "output_type": "stream",
     "text": [
      "{'ner': 16.338335248316994}\n"
     ]
    },
    {
     "name": "stderr",
     "output_type": "stream",
     "text": [
      "100%|██████████| 57/57 [00:00<00:00, 153.49it/s]\n"
     ]
    },
    {
     "name": "stdout",
     "output_type": "stream",
     "text": [
      "{'ner': 16.565380101420548}\n"
     ]
    },
    {
     "name": "stderr",
     "output_type": "stream",
     "text": [
      "100%|██████████| 58/58 [00:00<00:00, 161.81it/s]\n"
     ]
    },
    {
     "name": "stdout",
     "output_type": "stream",
     "text": [
      "{'ner': 17.439143627675236}\n"
     ]
    },
    {
     "name": "stderr",
     "output_type": "stream",
     "text": [
      "100%|██████████| 59/59 [00:00<00:00, 149.04it/s]\n"
     ]
    },
    {
     "name": "stdout",
     "output_type": "stream",
     "text": [
      "{'ner': 16.680589334520562}\n"
     ]
    },
    {
     "name": "stderr",
     "output_type": "stream",
     "text": [
      "100%|██████████| 60/60 [00:00<00:00, 163.11it/s]\n"
     ]
    },
    {
     "name": "stdout",
     "output_type": "stream",
     "text": [
      "{'ner': 17.803071410513528}\n"
     ]
    },
    {
     "name": "stderr",
     "output_type": "stream",
     "text": [
      "100%|██████████| 61/61 [00:00<00:00, 157.44it/s]\n"
     ]
    },
    {
     "name": "stdout",
     "output_type": "stream",
     "text": [
      "{'ner': 16.879245882485026}\n"
     ]
    },
    {
     "name": "stderr",
     "output_type": "stream",
     "text": [
      "100%|██████████| 62/62 [00:00<00:00, 150.55it/s]\n"
     ]
    },
    {
     "name": "stdout",
     "output_type": "stream",
     "text": [
      "{'ner': 15.872477744603273}\n"
     ]
    },
    {
     "name": "stderr",
     "output_type": "stream",
     "text": [
      "100%|██████████| 63/63 [00:00<00:00, 157.99it/s]\n"
     ]
    },
    {
     "name": "stdout",
     "output_type": "stream",
     "text": [
      "{'ner': 17.74595696487723}\n"
     ]
    },
    {
     "name": "stderr",
     "output_type": "stream",
     "text": [
      "100%|██████████| 64/64 [00:00<00:00, 160.98it/s]\n"
     ]
    },
    {
     "name": "stdout",
     "output_type": "stream",
     "text": [
      "{'ner': 15.485157435153077}\n"
     ]
    },
    {
     "name": "stderr",
     "output_type": "stream",
     "text": [
      "100%|██████████| 65/65 [00:00<00:00, 162.17it/s]\n"
     ]
    },
    {
     "name": "stdout",
     "output_type": "stream",
     "text": [
      "{'ner': 16.86288878973035}\n"
     ]
    },
    {
     "name": "stderr",
     "output_type": "stream",
     "text": [
      "100%|██████████| 66/66 [00:00<00:00, 157.18it/s]\n"
     ]
    },
    {
     "name": "stdout",
     "output_type": "stream",
     "text": [
      "{'ner': 16.198115309846425}\n"
     ]
    },
    {
     "name": "stderr",
     "output_type": "stream",
     "text": [
      "100%|██████████| 67/67 [00:00<00:00, 149.65it/s]\n"
     ]
    },
    {
     "name": "stdout",
     "output_type": "stream",
     "text": [
      "{'ner': 16.29488069742746}\n"
     ]
    },
    {
     "name": "stderr",
     "output_type": "stream",
     "text": [
      "100%|██████████| 68/68 [00:00<00:00, 166.75it/s]\n"
     ]
    },
    {
     "name": "stdout",
     "output_type": "stream",
     "text": [
      "{'ner': 15.578206295428627}\n"
     ]
    },
    {
     "name": "stderr",
     "output_type": "stream",
     "text": [
      "100%|██████████| 69/69 [00:00<00:00, 157.34it/s]\n"
     ]
    },
    {
     "name": "stdout",
     "output_type": "stream",
     "text": [
      "{'ner': 17.90833526475401}\n"
     ]
    },
    {
     "name": "stderr",
     "output_type": "stream",
     "text": [
      "100%|██████████| 70/70 [00:00<00:00, 167.53it/s]\n"
     ]
    },
    {
     "name": "stdout",
     "output_type": "stream",
     "text": [
      "{'ner': 17.57981854592351}\n"
     ]
    },
    {
     "name": "stderr",
     "output_type": "stream",
     "text": [
      "100%|██████████| 71/71 [00:00<00:00, 162.88it/s]\n"
     ]
    },
    {
     "name": "stdout",
     "output_type": "stream",
     "text": [
      "{'ner': 16.745032656715992}\n"
     ]
    },
    {
     "name": "stderr",
     "output_type": "stream",
     "text": [
      "100%|██████████| 72/72 [00:00<00:00, 156.32it/s]\n"
     ]
    },
    {
     "name": "stdout",
     "output_type": "stream",
     "text": [
      "{'ner': 16.27923716096049}\n"
     ]
    },
    {
     "name": "stderr",
     "output_type": "stream",
     "text": [
      "100%|██████████| 73/73 [00:00<00:00, 169.94it/s]\n"
     ]
    },
    {
     "name": "stdout",
     "output_type": "stream",
     "text": [
      "{'ner': 17.063095541760475}\n"
     ]
    },
    {
     "name": "stderr",
     "output_type": "stream",
     "text": [
      "100%|██████████| 74/74 [00:00<00:00, 161.87it/s]\n"
     ]
    },
    {
     "name": "stdout",
     "output_type": "stream",
     "text": [
      "{'ner': 17.20735950150944}\n"
     ]
    },
    {
     "name": "stderr",
     "output_type": "stream",
     "text": [
      "100%|██████████| 75/75 [00:00<00:00, 156.02it/s]\n"
     ]
    },
    {
     "name": "stdout",
     "output_type": "stream",
     "text": [
      "{'ner': 17.978567164538955}\n"
     ]
    },
    {
     "name": "stderr",
     "output_type": "stream",
     "text": [
      "100%|██████████| 76/76 [00:00<00:00, 167.06it/s]\n"
     ]
    },
    {
     "name": "stdout",
     "output_type": "stream",
     "text": [
      "{'ner': 16.711954298587763}\n"
     ]
    },
    {
     "name": "stderr",
     "output_type": "stream",
     "text": [
      "100%|██████████| 77/77 [00:00<00:00, 164.83it/s]\n"
     ]
    },
    {
     "name": "stdout",
     "output_type": "stream",
     "text": [
      "{'ner': 19.602109205345116}\n"
     ]
    },
    {
     "name": "stderr",
     "output_type": "stream",
     "text": [
      "100%|██████████| 78/78 [00:00<00:00, 164.35it/s]\n"
     ]
    },
    {
     "name": "stdout",
     "output_type": "stream",
     "text": [
      "{'ner': 20.04092060591165}\n"
     ]
    },
    {
     "name": "stderr",
     "output_type": "stream",
     "text": [
      "100%|██████████| 79/79 [00:00<00:00, 164.92it/s]\n"
     ]
    },
    {
     "name": "stdout",
     "output_type": "stream",
     "text": [
      "{'ner': 19.17695102964595}\n"
     ]
    },
    {
     "name": "stderr",
     "output_type": "stream",
     "text": [
      "100%|██████████| 80/80 [00:00<00:00, 166.93it/s]\n"
     ]
    },
    {
     "name": "stdout",
     "output_type": "stream",
     "text": [
      "{'ner': 18.82075174801022}\n"
     ]
    },
    {
     "name": "stderr",
     "output_type": "stream",
     "text": [
      "100%|██████████| 81/81 [00:00<00:00, 162.25it/s]\n"
     ]
    },
    {
     "name": "stdout",
     "output_type": "stream",
     "text": [
      "{'ner': 16.05108090335459}\n"
     ]
    },
    {
     "name": "stderr",
     "output_type": "stream",
     "text": [
      "100%|██████████| 82/82 [00:00<00:00, 164.69it/s]\n"
     ]
    },
    {
     "name": "stdout",
     "output_type": "stream",
     "text": [
      "{'ner': 18.604480512233895}\n"
     ]
    },
    {
     "name": "stderr",
     "output_type": "stream",
     "text": [
      "100%|██████████| 83/83 [00:00<00:00, 161.53it/s]\n"
     ]
    },
    {
     "name": "stdout",
     "output_type": "stream",
     "text": [
      "{'ner': 20.175728004579746}\n"
     ]
    },
    {
     "name": "stderr",
     "output_type": "stream",
     "text": [
      "100%|██████████| 84/84 [00:00<00:00, 158.82it/s]\n"
     ]
    },
    {
     "name": "stdout",
     "output_type": "stream",
     "text": [
      "{'ner': 19.947190353519325}\n"
     ]
    },
    {
     "name": "stderr",
     "output_type": "stream",
     "text": [
      "100%|██████████| 85/85 [00:00<00:00, 139.23it/s]\n"
     ]
    },
    {
     "name": "stdout",
     "output_type": "stream",
     "text": [
      "{'ner': 17.932739006573666}\n"
     ]
    },
    {
     "name": "stderr",
     "output_type": "stream",
     "text": [
      "100%|██████████| 86/86 [00:00<00:00, 154.21it/s]\n"
     ]
    },
    {
     "name": "stdout",
     "output_type": "stream",
     "text": [
      "{'ner': 20.28751795221427}\n"
     ]
    },
    {
     "name": "stderr",
     "output_type": "stream",
     "text": [
      "100%|██████████| 87/87 [00:00<00:00, 158.45it/s]\n"
     ]
    },
    {
     "name": "stdout",
     "output_type": "stream",
     "text": [
      "{'ner': 16.994170343459988}\n"
     ]
    },
    {
     "name": "stderr",
     "output_type": "stream",
     "text": [
      "100%|██████████| 88/88 [00:00<00:00, 150.83it/s]\n"
     ]
    },
    {
     "name": "stdout",
     "output_type": "stream",
     "text": [
      "{'ner': 17.615741997724808}\n"
     ]
    },
    {
     "name": "stderr",
     "output_type": "stream",
     "text": [
      "100%|██████████| 89/89 [00:00<00:00, 148.00it/s]\n"
     ]
    },
    {
     "name": "stdout",
     "output_type": "stream",
     "text": [
      "{'ner': 19.044262091148163}\n"
     ]
    },
    {
     "name": "stderr",
     "output_type": "stream",
     "text": [
      "100%|██████████| 90/90 [00:00<00:00, 156.82it/s]\n"
     ]
    },
    {
     "name": "stdout",
     "output_type": "stream",
     "text": [
      "{'ner': 19.54718359644135}\n"
     ]
    },
    {
     "name": "stderr",
     "output_type": "stream",
     "text": [
      "100%|██████████| 91/91 [00:00<00:00, 148.69it/s]\n"
     ]
    },
    {
     "name": "stdout",
     "output_type": "stream",
     "text": [
      "{'ner': 20.252340993210435}\n"
     ]
    },
    {
     "name": "stderr",
     "output_type": "stream",
     "text": [
      "100%|██████████| 92/92 [00:00<00:00, 156.77it/s]\n"
     ]
    },
    {
     "name": "stdout",
     "output_type": "stream",
     "text": [
      "{'ner': 20.091684317220682}\n"
     ]
    },
    {
     "name": "stderr",
     "output_type": "stream",
     "text": [
      "100%|██████████| 93/93 [00:00<00:00, 156.81it/s]\n"
     ]
    },
    {
     "name": "stdout",
     "output_type": "stream",
     "text": [
      "{'ner': 20.05368399008221}\n"
     ]
    },
    {
     "name": "stderr",
     "output_type": "stream",
     "text": [
      "100%|██████████| 94/94 [00:00<00:00, 148.86it/s]\n"
     ]
    },
    {
     "name": "stdout",
     "output_type": "stream",
     "text": [
      "{'ner': 20.404219722748856}\n"
     ]
    },
    {
     "name": "stderr",
     "output_type": "stream",
     "text": [
      "100%|██████████| 95/95 [00:00<00:00, 136.65it/s]\n"
     ]
    },
    {
     "name": "stdout",
     "output_type": "stream",
     "text": [
      "{'ner': 23.753611139030205}\n"
     ]
    },
    {
     "name": "stderr",
     "output_type": "stream",
     "text": [
      "100%|██████████| 96/96 [00:00<00:00, 157.85it/s]\n"
     ]
    },
    {
     "name": "stdout",
     "output_type": "stream",
     "text": [
      "{'ner': 21.576683314772122}\n"
     ]
    },
    {
     "name": "stderr",
     "output_type": "stream",
     "text": [
      "100%|██████████| 97/97 [00:00<00:00, 165.88it/s]\n"
     ]
    },
    {
     "name": "stdout",
     "output_type": "stream",
     "text": [
      "{'ner': 21.896105186098016}\n"
     ]
    },
    {
     "name": "stderr",
     "output_type": "stream",
     "text": [
      "100%|██████████| 98/98 [00:00<00:00, 161.76it/s]\n"
     ]
    },
    {
     "name": "stdout",
     "output_type": "stream",
     "text": [
      "{'ner': 21.8930828232494}\n"
     ]
    },
    {
     "name": "stderr",
     "output_type": "stream",
     "text": [
      "100%|██████████| 99/99 [00:00<00:00, 144.31it/s]\n"
     ]
    },
    {
     "name": "stdout",
     "output_type": "stream",
     "text": [
      "{'ner': 24.752824586514144}\n"
     ]
    },
    {
     "name": "stderr",
     "output_type": "stream",
     "text": [
      "100%|██████████| 100/100 [00:00<00:00, 160.98it/s]\n"
     ]
    },
    {
     "name": "stdout",
     "output_type": "stream",
     "text": [
      "{'ner': 24.734581068796178}\n"
     ]
    },
    {
     "name": "stderr",
     "output_type": "stream",
     "text": [
      "100%|██████████| 101/101 [00:00<00:00, 163.53it/s]\n"
     ]
    },
    {
     "name": "stdout",
     "output_type": "stream",
     "text": [
      "{'ner': 23.484540441255998}\n"
     ]
    },
    {
     "name": "stderr",
     "output_type": "stream",
     "text": [
      "100%|██████████| 102/102 [00:00<00:00, 167.96it/s]\n"
     ]
    },
    {
     "name": "stdout",
     "output_type": "stream",
     "text": [
      "{'ner': 24.214376102292064}\n"
     ]
    },
    {
     "name": "stderr",
     "output_type": "stream",
     "text": [
      "100%|██████████| 103/103 [00:00<00:00, 150.99it/s]\n"
     ]
    },
    {
     "name": "stdout",
     "output_type": "stream",
     "text": [
      "{'ner': 24.02718877267904}\n"
     ]
    },
    {
     "name": "stderr",
     "output_type": "stream",
     "text": [
      "100%|██████████| 104/104 [00:00<00:00, 149.12it/s]\n"
     ]
    },
    {
     "name": "stdout",
     "output_type": "stream",
     "text": [
      "{'ner': 24.517519010631915}\n"
     ]
    },
    {
     "name": "stderr",
     "output_type": "stream",
     "text": [
      "100%|██████████| 105/105 [00:00<00:00, 146.21it/s]\n"
     ]
    },
    {
     "name": "stdout",
     "output_type": "stream",
     "text": [
      "{'ner': 24.81244675691113}\n"
     ]
    },
    {
     "name": "stderr",
     "output_type": "stream",
     "text": [
      "100%|██████████| 106/106 [00:00<00:00, 143.41it/s]\n"
     ]
    },
    {
     "name": "stdout",
     "output_type": "stream",
     "text": [
      "{'ner': 24.949987653643742}\n"
     ]
    },
    {
     "name": "stderr",
     "output_type": "stream",
     "text": [
      "100%|██████████| 107/107 [00:00<00:00, 162.96it/s]\n"
     ]
    },
    {
     "name": "stdout",
     "output_type": "stream",
     "text": [
      "{'ner': 24.02326136023174}\n"
     ]
    },
    {
     "name": "stderr",
     "output_type": "stream",
     "text": [
      "100%|██████████| 108/108 [00:00<00:00, 157.44it/s]\n"
     ]
    },
    {
     "name": "stdout",
     "output_type": "stream",
     "text": [
      "{'ner': 24.3835102986993}\n"
     ]
    },
    {
     "name": "stderr",
     "output_type": "stream",
     "text": [
      "100%|██████████| 109/109 [00:00<00:00, 158.35it/s]\n"
     ]
    },
    {
     "name": "stdout",
     "output_type": "stream",
     "text": [
      "{'ner': 23.758856630941487}\n"
     ]
    },
    {
     "name": "stderr",
     "output_type": "stream",
     "text": [
      "100%|██████████| 110/110 [00:00<00:00, 126.33it/s]\n"
     ]
    },
    {
     "name": "stdout",
     "output_type": "stream",
     "text": [
      "{'ner': 24.418442987229447}\n"
     ]
    },
    {
     "name": "stderr",
     "output_type": "stream",
     "text": [
      "100%|██████████| 111/111 [00:00<00:00, 151.00it/s]\n"
     ]
    },
    {
     "name": "stdout",
     "output_type": "stream",
     "text": [
      "{'ner': 22.43183590402379}\n"
     ]
    },
    {
     "name": "stderr",
     "output_type": "stream",
     "text": [
      "100%|██████████| 112/112 [00:00<00:00, 161.45it/s]\n"
     ]
    },
    {
     "name": "stdout",
     "output_type": "stream",
     "text": [
      "{'ner': 23.70952522000909}\n"
     ]
    },
    {
     "name": "stderr",
     "output_type": "stream",
     "text": [
      "100%|██████████| 113/113 [00:00<00:00, 154.60it/s]\n"
     ]
    },
    {
     "name": "stdout",
     "output_type": "stream",
     "text": [
      "{'ner': 26.728087690709582}\n"
     ]
    },
    {
     "name": "stderr",
     "output_type": "stream",
     "text": [
      "100%|██████████| 114/114 [00:00<00:00, 161.47it/s]\n"
     ]
    },
    {
     "name": "stdout",
     "output_type": "stream",
     "text": [
      "{'ner': 26.866805990379962}\n"
     ]
    },
    {
     "name": "stderr",
     "output_type": "stream",
     "text": [
      "100%|██████████| 115/115 [00:00<00:00, 159.38it/s]\n"
     ]
    },
    {
     "name": "stdout",
     "output_type": "stream",
     "text": [
      "{'ner': 26.729688224119162}\n"
     ]
    },
    {
     "name": "stderr",
     "output_type": "stream",
     "text": [
      "100%|██████████| 116/116 [00:00<00:00, 151.02it/s]\n"
     ]
    },
    {
     "name": "stdout",
     "output_type": "stream",
     "text": [
      "{'ner': 25.308650903196174}\n"
     ]
    },
    {
     "name": "stderr",
     "output_type": "stream",
     "text": [
      "100%|██████████| 117/117 [00:00<00:00, 128.67it/s]\n"
     ]
    },
    {
     "name": "stdout",
     "output_type": "stream",
     "text": [
      "{'ner': 27.030326841121894}\n"
     ]
    },
    {
     "name": "stderr",
     "output_type": "stream",
     "text": [
      "100%|██████████| 118/118 [00:00<00:00, 172.89it/s]\n"
     ]
    },
    {
     "name": "stdout",
     "output_type": "stream",
     "text": [
      "{'ner': 26.981644799611505}\n"
     ]
    },
    {
     "name": "stderr",
     "output_type": "stream",
     "text": [
      "100%|██████████| 119/119 [00:00<00:00, 155.89it/s]\n"
     ]
    },
    {
     "name": "stdout",
     "output_type": "stream",
     "text": [
      "{'ner': 28.198077968661952}\n"
     ]
    },
    {
     "name": "stderr",
     "output_type": "stream",
     "text": [
      "100%|██████████| 120/120 [00:00<00:00, 160.21it/s]\n"
     ]
    },
    {
     "name": "stdout",
     "output_type": "stream",
     "text": [
      "{'ner': 27.25431806527518}\n"
     ]
    },
    {
     "name": "stderr",
     "output_type": "stream",
     "text": [
      "100%|██████████| 121/121 [00:00<00:00, 158.62it/s]\n"
     ]
    },
    {
     "name": "stdout",
     "output_type": "stream",
     "text": [
      "{'ner': 28.86339056850676}\n"
     ]
    },
    {
     "name": "stderr",
     "output_type": "stream",
     "text": [
      "100%|██████████| 122/122 [00:00<00:00, 160.47it/s]\n"
     ]
    },
    {
     "name": "stdout",
     "output_type": "stream",
     "text": [
      "{'ner': 25.947717542045975}\n"
     ]
    },
    {
     "name": "stderr",
     "output_type": "stream",
     "text": [
      "100%|██████████| 123/123 [00:00<00:00, 175.72it/s]\n"
     ]
    },
    {
     "name": "stdout",
     "output_type": "stream",
     "text": [
      "{'ner': 27.815897494981183}\n"
     ]
    },
    {
     "name": "stderr",
     "output_type": "stream",
     "text": [
      "100%|██████████| 124/124 [00:00<00:00, 172.56it/s]\n"
     ]
    },
    {
     "name": "stdout",
     "output_type": "stream",
     "text": [
      "{'ner': 29.292149399555516}\n"
     ]
    },
    {
     "name": "stderr",
     "output_type": "stream",
     "text": [
      "100%|██████████| 125/125 [00:00<00:00, 167.34it/s]\n"
     ]
    },
    {
     "name": "stdout",
     "output_type": "stream",
     "text": [
      "{'ner': 29.718948351781712}\n"
     ]
    },
    {
     "name": "stderr",
     "output_type": "stream",
     "text": [
      "100%|██████████| 126/126 [00:00<00:00, 159.27it/s]\n"
     ]
    },
    {
     "name": "stdout",
     "output_type": "stream",
     "text": [
      "{'ner': 28.891835015710637}\n"
     ]
    },
    {
     "name": "stderr",
     "output_type": "stream",
     "text": [
      "100%|██████████| 127/127 [00:00<00:00, 168.68it/s]\n"
     ]
    },
    {
     "name": "stdout",
     "output_type": "stream",
     "text": [
      "{'ner': 25.681517144260162}\n"
     ]
    },
    {
     "name": "stderr",
     "output_type": "stream",
     "text": [
      "100%|██████████| 128/128 [00:00<00:00, 166.38it/s]\n"
     ]
    },
    {
     "name": "stdout",
     "output_type": "stream",
     "text": [
      "{'ner': 24.993843149392752}\n"
     ]
    },
    {
     "name": "stderr",
     "output_type": "stream",
     "text": [
      "100%|██████████| 129/129 [00:00<00:00, 172.59it/s]\n"
     ]
    },
    {
     "name": "stdout",
     "output_type": "stream",
     "text": [
      "{'ner': 29.646750994428746}\n"
     ]
    },
    {
     "name": "stderr",
     "output_type": "stream",
     "text": [
      "100%|██████████| 130/130 [00:00<00:00, 170.81it/s]\n"
     ]
    },
    {
     "name": "stdout",
     "output_type": "stream",
     "text": [
      "{'ner': 30.39197822386558}\n"
     ]
    },
    {
     "name": "stderr",
     "output_type": "stream",
     "text": [
      "100%|██████████| 131/131 [00:00<00:00, 171.01it/s]\n"
     ]
    },
    {
     "name": "stdout",
     "output_type": "stream",
     "text": [
      "{'ner': 28.937461952448047}\n"
     ]
    },
    {
     "name": "stderr",
     "output_type": "stream",
     "text": [
      "100%|██████████| 132/132 [00:00<00:00, 162.18it/s]\n"
     ]
    },
    {
     "name": "stdout",
     "output_type": "stream",
     "text": [
      "{'ner': 30.5337194477386}\n"
     ]
    },
    {
     "name": "stderr",
     "output_type": "stream",
     "text": [
      "100%|██████████| 133/133 [00:00<00:00, 174.71it/s]\n"
     ]
    },
    {
     "name": "stdout",
     "output_type": "stream",
     "text": [
      "{'ner': 28.41402179332081}\n"
     ]
    },
    {
     "name": "stderr",
     "output_type": "stream",
     "text": [
      "100%|██████████| 134/134 [00:00<00:00, 164.98it/s]\n"
     ]
    },
    {
     "name": "stdout",
     "output_type": "stream",
     "text": [
      "{'ner': 28.26978736924044}\n"
     ]
    },
    {
     "name": "stderr",
     "output_type": "stream",
     "text": [
      "100%|██████████| 135/135 [00:00<00:00, 174.42it/s]\n"
     ]
    },
    {
     "name": "stdout",
     "output_type": "stream",
     "text": [
      "{'ner': 28.156715642464853}\n"
     ]
    },
    {
     "name": "stderr",
     "output_type": "stream",
     "text": [
      "100%|██████████| 136/136 [00:00<00:00, 170.40it/s]\n"
     ]
    },
    {
     "name": "stdout",
     "output_type": "stream",
     "text": [
      "{'ner': 29.649606374271723}\n"
     ]
    },
    {
     "name": "stderr",
     "output_type": "stream",
     "text": [
      "100%|██████████| 137/137 [00:00<00:00, 172.17it/s]\n"
     ]
    },
    {
     "name": "stdout",
     "output_type": "stream",
     "text": [
      "{'ner': 28.07971475943088}\n"
     ]
    },
    {
     "name": "stderr",
     "output_type": "stream",
     "text": [
      "100%|██████████| 138/138 [00:00<00:00, 173.59it/s]\n"
     ]
    },
    {
     "name": "stdout",
     "output_type": "stream",
     "text": [
      "{'ner': 30.87083119524855}\n"
     ]
    },
    {
     "name": "stderr",
     "output_type": "stream",
     "text": [
      "100%|██████████| 139/139 [00:00<00:00, 170.17it/s]\n"
     ]
    },
    {
     "name": "stdout",
     "output_type": "stream",
     "text": [
      "{'ner': 28.74915472282217}\n"
     ]
    },
    {
     "name": "stderr",
     "output_type": "stream",
     "text": [
      "100%|██████████| 140/140 [00:00<00:00, 176.88it/s]\n"
     ]
    },
    {
     "name": "stdout",
     "output_type": "stream",
     "text": [
      "{'ner': 30.710255453127644}\n"
     ]
    },
    {
     "name": "stderr",
     "output_type": "stream",
     "text": [
      "100%|██████████| 141/141 [00:00<00:00, 168.76it/s]\n"
     ]
    },
    {
     "name": "stdout",
     "output_type": "stream",
     "text": [
      "{'ner': 27.50782788033824}\n"
     ]
    },
    {
     "name": "stderr",
     "output_type": "stream",
     "text": [
      "100%|██████████| 142/142 [00:00<00:00, 167.65it/s]\n"
     ]
    },
    {
     "name": "stdout",
     "output_type": "stream",
     "text": [
      "{'ner': 25.856739813551723}\n"
     ]
    },
    {
     "name": "stderr",
     "output_type": "stream",
     "text": [
      "100%|██████████| 143/143 [00:00<00:00, 169.53it/s]\n"
     ]
    },
    {
     "name": "stdout",
     "output_type": "stream",
     "text": [
      "{'ner': 31.29102326020391}\n"
     ]
    },
    {
     "name": "stderr",
     "output_type": "stream",
     "text": [
      "100%|██████████| 144/144 [00:00<00:00, 164.14it/s]\n"
     ]
    },
    {
     "name": "stdout",
     "output_type": "stream",
     "text": [
      "{'ner': 29.447589741309667}\n"
     ]
    },
    {
     "name": "stderr",
     "output_type": "stream",
     "text": [
      "100%|██████████| 145/145 [00:00<00:00, 148.75it/s]\n"
     ]
    },
    {
     "name": "stdout",
     "output_type": "stream",
     "text": [
      "{'ner': 30.14311047821543}\n"
     ]
    },
    {
     "name": "stderr",
     "output_type": "stream",
     "text": [
      "100%|██████████| 146/146 [00:00<00:00, 161.25it/s]\n"
     ]
    },
    {
     "name": "stdout",
     "output_type": "stream",
     "text": [
      "{'ner': 30.37963908641258}\n"
     ]
    },
    {
     "name": "stderr",
     "output_type": "stream",
     "text": [
      "100%|██████████| 147/147 [00:00<00:00, 167.37it/s]\n"
     ]
    },
    {
     "name": "stdout",
     "output_type": "stream",
     "text": [
      "{'ner': 29.048751540136745}\n"
     ]
    },
    {
     "name": "stderr",
     "output_type": "stream",
     "text": [
      "100%|██████████| 148/148 [00:01<00:00, 146.77it/s]\n"
     ]
    },
    {
     "name": "stdout",
     "output_type": "stream",
     "text": [
      "{'ner': 30.38935427394227}\n"
     ]
    },
    {
     "name": "stderr",
     "output_type": "stream",
     "text": [
      "100%|██████████| 149/149 [00:00<00:00, 173.16it/s]\n"
     ]
    },
    {
     "name": "stdout",
     "output_type": "stream",
     "text": [
      "{'ner': 29.516874826370344}\n"
     ]
    },
    {
     "name": "stderr",
     "output_type": "stream",
     "text": [
      "100%|██████████| 150/150 [00:00<00:00, 165.42it/s]\n"
     ]
    },
    {
     "name": "stdout",
     "output_type": "stream",
     "text": [
      "{'ner': 29.610585471067175}\n"
     ]
    },
    {
     "name": "stderr",
     "output_type": "stream",
     "text": [
      "100%|██████████| 151/151 [00:00<00:00, 169.09it/s]\n"
     ]
    },
    {
     "name": "stdout",
     "output_type": "stream",
     "text": [
      "{'ner': 29.24947834255538}\n"
     ]
    },
    {
     "name": "stderr",
     "output_type": "stream",
     "text": [
      "100%|██████████| 152/152 [00:00<00:00, 161.60it/s]\n"
     ]
    },
    {
     "name": "stdout",
     "output_type": "stream",
     "text": [
      "{'ner': 30.500441134636468}\n"
     ]
    },
    {
     "name": "stderr",
     "output_type": "stream",
     "text": [
      "100%|██████████| 153/153 [00:00<00:00, 173.33it/s]\n"
     ]
    },
    {
     "name": "stdout",
     "output_type": "stream",
     "text": [
      "{'ner': 28.99345203030279}\n"
     ]
    },
    {
     "name": "stderr",
     "output_type": "stream",
     "text": [
      "100%|██████████| 154/154 [00:00<00:00, 167.14it/s]\n"
     ]
    },
    {
     "name": "stdout",
     "output_type": "stream",
     "text": [
      "{'ner': 26.744132720097635}\n"
     ]
    },
    {
     "name": "stderr",
     "output_type": "stream",
     "text": [
      "100%|██████████| 155/155 [00:00<00:00, 175.57it/s]\n"
     ]
    },
    {
     "name": "stdout",
     "output_type": "stream",
     "text": [
      "{'ner': 31.006861365220047}\n"
     ]
    },
    {
     "name": "stderr",
     "output_type": "stream",
     "text": [
      "100%|██████████| 156/156 [00:00<00:00, 173.38it/s]\n"
     ]
    },
    {
     "name": "stdout",
     "output_type": "stream",
     "text": [
      "{'ner': 31.164586998905428}\n"
     ]
    },
    {
     "name": "stderr",
     "output_type": "stream",
     "text": [
      "100%|██████████| 157/157 [00:00<00:00, 170.95it/s]\n"
     ]
    },
    {
     "name": "stdout",
     "output_type": "stream",
     "text": [
      "{'ner': 28.937603027380124}\n"
     ]
    },
    {
     "name": "stderr",
     "output_type": "stream",
     "text": [
      "100%|██████████| 158/158 [00:00<00:00, 170.83it/s]\n"
     ]
    },
    {
     "name": "stdout",
     "output_type": "stream",
     "text": [
      "{'ner': 27.49826163798687}\n"
     ]
    },
    {
     "name": "stderr",
     "output_type": "stream",
     "text": [
      "100%|██████████| 159/159 [00:00<00:00, 171.76it/s]\n"
     ]
    },
    {
     "name": "stdout",
     "output_type": "stream",
     "text": [
      "{'ner': 28.55189639959157}\n"
     ]
    },
    {
     "name": "stderr",
     "output_type": "stream",
     "text": [
      "100%|██████████| 160/160 [00:00<00:00, 175.79it/s]\n"
     ]
    },
    {
     "name": "stdout",
     "output_type": "stream",
     "text": [
      "{'ner': 30.970473376344447}\n"
     ]
    },
    {
     "name": "stderr",
     "output_type": "stream",
     "text": [
      "100%|██████████| 161/161 [00:01<00:00, 152.10it/s]\n"
     ]
    },
    {
     "name": "stdout",
     "output_type": "stream",
     "text": [
      "{'ner': 31.525488773631423}\n"
     ]
    },
    {
     "name": "stderr",
     "output_type": "stream",
     "text": [
      "100%|██████████| 162/162 [00:00<00:00, 175.16it/s]\n"
     ]
    },
    {
     "name": "stdout",
     "output_type": "stream",
     "text": [
      "{'ner': 31.809671985701527}\n"
     ]
    },
    {
     "name": "stderr",
     "output_type": "stream",
     "text": [
      "100%|██████████| 163/163 [00:00<00:00, 173.75it/s]\n"
     ]
    },
    {
     "name": "stdout",
     "output_type": "stream",
     "text": [
      "{'ner': 31.735887248310817}\n"
     ]
    },
    {
     "name": "stderr",
     "output_type": "stream",
     "text": [
      "100%|██████████| 164/164 [00:00<00:00, 168.78it/s]\n"
     ]
    },
    {
     "name": "stdout",
     "output_type": "stream",
     "text": [
      "{'ner': 29.969733385077287}\n"
     ]
    },
    {
     "name": "stderr",
     "output_type": "stream",
     "text": [
      "100%|██████████| 165/165 [00:00<00:00, 174.34it/s]\n"
     ]
    },
    {
     "name": "stdout",
     "output_type": "stream",
     "text": [
      "{'ner': 31.98838176874093}\n"
     ]
    },
    {
     "name": "stderr",
     "output_type": "stream",
     "text": [
      "100%|██████████| 166/166 [00:00<00:00, 166.25it/s]\n"
     ]
    },
    {
     "name": "stdout",
     "output_type": "stream",
     "text": [
      "{'ner': 32.175079844973126}\n"
     ]
    },
    {
     "name": "stderr",
     "output_type": "stream",
     "text": [
      "100%|██████████| 167/167 [00:01<00:00, 163.85it/s]\n"
     ]
    },
    {
     "name": "stdout",
     "output_type": "stream",
     "text": [
      "{'ner': 29.384182902202053}\n"
     ]
    },
    {
     "name": "stderr",
     "output_type": "stream",
     "text": [
      "100%|██████████| 168/168 [00:01<00:00, 165.48it/s]\n"
     ]
    },
    {
     "name": "stdout",
     "output_type": "stream",
     "text": [
      "{'ner': 31.836939592919542}\n"
     ]
    },
    {
     "name": "stderr",
     "output_type": "stream",
     "text": [
      "100%|██████████| 169/169 [00:01<00:00, 160.87it/s]\n"
     ]
    },
    {
     "name": "stdout",
     "output_type": "stream",
     "text": [
      "{'ner': 32.22874164488648}\n"
     ]
    },
    {
     "name": "stderr",
     "output_type": "stream",
     "text": [
      "100%|██████████| 170/170 [00:01<00:00, 166.92it/s]\n"
     ]
    },
    {
     "name": "stdout",
     "output_type": "stream",
     "text": [
      "{'ner': 30.960486883385407}\n"
     ]
    },
    {
     "name": "stderr",
     "output_type": "stream",
     "text": [
      "100%|██████████| 171/171 [00:01<00:00, 163.13it/s]\n"
     ]
    },
    {
     "name": "stdout",
     "output_type": "stream",
     "text": [
      "{'ner': 32.873672630893836}\n"
     ]
    },
    {
     "name": "stderr",
     "output_type": "stream",
     "text": [
      "100%|██████████| 172/172 [00:01<00:00, 168.61it/s]\n"
     ]
    },
    {
     "name": "stdout",
     "output_type": "stream",
     "text": [
      "{'ner': 31.116882099368663}\n"
     ]
    },
    {
     "name": "stderr",
     "output_type": "stream",
     "text": [
      "100%|██████████| 173/173 [00:01<00:00, 158.03it/s]\n"
     ]
    },
    {
     "name": "stdout",
     "output_type": "stream",
     "text": [
      "{'ner': 28.40609311472761}\n"
     ]
    },
    {
     "name": "stderr",
     "output_type": "stream",
     "text": [
      "100%|██████████| 174/174 [00:01<00:00, 164.87it/s]\n"
     ]
    },
    {
     "name": "stdout",
     "output_type": "stream",
     "text": [
      "{'ner': 30.437483002875375}\n"
     ]
    },
    {
     "name": "stderr",
     "output_type": "stream",
     "text": [
      "100%|██████████| 175/175 [00:01<00:00, 167.31it/s]\n"
     ]
    },
    {
     "name": "stdout",
     "output_type": "stream",
     "text": [
      "{'ner': 35.36727474298088}\n"
     ]
    },
    {
     "name": "stderr",
     "output_type": "stream",
     "text": [
      "100%|██████████| 176/176 [00:01<00:00, 172.07it/s]\n"
     ]
    },
    {
     "name": "stdout",
     "output_type": "stream",
     "text": [
      "{'ner': 32.436798812062854}\n"
     ]
    },
    {
     "name": "stderr",
     "output_type": "stream",
     "text": [
      "100%|██████████| 177/177 [00:01<00:00, 138.47it/s]\n"
     ]
    },
    {
     "name": "stdout",
     "output_type": "stream",
     "text": [
      "{'ner': 37.363258402923435}\n"
     ]
    },
    {
     "name": "stderr",
     "output_type": "stream",
     "text": [
      "100%|██████████| 178/178 [00:01<00:00, 168.01it/s]\n"
     ]
    },
    {
     "name": "stdout",
     "output_type": "stream",
     "text": [
      "{'ner': 32.41260924039575}\n"
     ]
    },
    {
     "name": "stderr",
     "output_type": "stream",
     "text": [
      "100%|██████████| 179/179 [00:01<00:00, 171.47it/s]\n"
     ]
    },
    {
     "name": "stdout",
     "output_type": "stream",
     "text": [
      "{'ner': 36.18663694195574}\n"
     ]
    },
    {
     "name": "stderr",
     "output_type": "stream",
     "text": [
      "100%|██████████| 180/180 [00:01<00:00, 155.21it/s]\n"
     ]
    },
    {
     "name": "stdout",
     "output_type": "stream",
     "text": [
      "{'ner': 36.40861889940551}\n"
     ]
    },
    {
     "name": "stderr",
     "output_type": "stream",
     "text": [
      "100%|██████████| 181/181 [00:01<00:00, 169.52it/s]\n"
     ]
    },
    {
     "name": "stdout",
     "output_type": "stream",
     "text": [
      "{'ner': 33.139791974029244}\n"
     ]
    },
    {
     "name": "stderr",
     "output_type": "stream",
     "text": [
      "100%|██████████| 182/182 [00:01<00:00, 172.84it/s]\n"
     ]
    },
    {
     "name": "stdout",
     "output_type": "stream",
     "text": [
      "{'ner': 33.89728294631448}\n"
     ]
    },
    {
     "name": "stderr",
     "output_type": "stream",
     "text": [
      "100%|██████████| 183/183 [00:01<00:00, 168.70it/s]\n"
     ]
    },
    {
     "name": "stdout",
     "output_type": "stream",
     "text": [
      "{'ner': 39.52578634067372}\n"
     ]
    },
    {
     "name": "stderr",
     "output_type": "stream",
     "text": [
      "100%|██████████| 184/184 [00:01<00:00, 166.26it/s]\n"
     ]
    },
    {
     "name": "stdout",
     "output_type": "stream",
     "text": [
      "{'ner': 39.97788502502386}\n"
     ]
    },
    {
     "name": "stderr",
     "output_type": "stream",
     "text": [
      "100%|██████████| 185/185 [00:01<00:00, 156.31it/s]\n"
     ]
    },
    {
     "name": "stdout",
     "output_type": "stream",
     "text": [
      "{'ner': 41.165867714163596}\n"
     ]
    },
    {
     "name": "stderr",
     "output_type": "stream",
     "text": [
      "100%|██████████| 186/186 [00:01<00:00, 162.89it/s]\n"
     ]
    },
    {
     "name": "stdout",
     "output_type": "stream",
     "text": [
      "{'ner': 41.80152821228599}\n"
     ]
    },
    {
     "name": "stderr",
     "output_type": "stream",
     "text": [
      "100%|██████████| 187/187 [00:01<00:00, 174.24it/s]\n"
     ]
    },
    {
     "name": "stdout",
     "output_type": "stream",
     "text": [
      "{'ner': 40.985160416727}\n"
     ]
    },
    {
     "name": "stderr",
     "output_type": "stream",
     "text": [
      "100%|██████████| 188/188 [00:01<00:00, 171.29it/s]\n"
     ]
    },
    {
     "name": "stdout",
     "output_type": "stream",
     "text": [
      "{'ner': 42.1229098023142}\n"
     ]
    },
    {
     "name": "stderr",
     "output_type": "stream",
     "text": [
      "100%|██████████| 189/189 [00:01<00:00, 166.63it/s]\n"
     ]
    },
    {
     "name": "stdout",
     "output_type": "stream",
     "text": [
      "{'ner': 44.39139624210534}\n"
     ]
    },
    {
     "name": "stderr",
     "output_type": "stream",
     "text": [
      "100%|██████████| 190/190 [00:01<00:00, 173.19it/s]\n"
     ]
    },
    {
     "name": "stdout",
     "output_type": "stream",
     "text": [
      "{'ner': 45.208389534237845}\n"
     ]
    },
    {
     "name": "stderr",
     "output_type": "stream",
     "text": [
      "100%|██████████| 191/191 [00:01<00:00, 177.03it/s]\n"
     ]
    },
    {
     "name": "stdout",
     "output_type": "stream",
     "text": [
      "{'ner': 44.08084101394744}\n"
     ]
    },
    {
     "name": "stderr",
     "output_type": "stream",
     "text": [
      "100%|██████████| 192/192 [00:01<00:00, 170.88it/s]\n"
     ]
    },
    {
     "name": "stdout",
     "output_type": "stream",
     "text": [
      "{'ner': 45.062576861849784}\n"
     ]
    },
    {
     "name": "stderr",
     "output_type": "stream",
     "text": [
      "100%|██████████| 193/193 [00:01<00:00, 165.77it/s]\n"
     ]
    },
    {
     "name": "stdout",
     "output_type": "stream",
     "text": [
      "{'ner': 44.39638318787223}\n"
     ]
    },
    {
     "name": "stderr",
     "output_type": "stream",
     "text": [
      "100%|██████████| 194/194 [00:01<00:00, 171.40it/s]\n"
     ]
    },
    {
     "name": "stdout",
     "output_type": "stream",
     "text": [
      "{'ner': 44.49018602732379}\n"
     ]
    },
    {
     "name": "stderr",
     "output_type": "stream",
     "text": [
      "100%|██████████| 195/195 [00:01<00:00, 176.75it/s]\n"
     ]
    },
    {
     "name": "stdout",
     "output_type": "stream",
     "text": [
      "{'ner': 42.67373942590645}\n"
     ]
    },
    {
     "name": "stderr",
     "output_type": "stream",
     "text": [
      "100%|██████████| 196/196 [00:01<00:00, 171.67it/s]\n"
     ]
    },
    {
     "name": "stdout",
     "output_type": "stream",
     "text": [
      "{'ner': 44.545344361956104}\n"
     ]
    },
    {
     "name": "stderr",
     "output_type": "stream",
     "text": [
      "100%|██████████| 197/197 [00:01<00:00, 171.16it/s]\n"
     ]
    },
    {
     "name": "stdout",
     "output_type": "stream",
     "text": [
      "{'ner': 40.268149314139535}\n"
     ]
    },
    {
     "name": "stderr",
     "output_type": "stream",
     "text": [
      "100%|██████████| 198/198 [00:01<00:00, 167.77it/s]\n"
     ]
    },
    {
     "name": "stdout",
     "output_type": "stream",
     "text": [
      "{'ner': 44.48031498561872}\n"
     ]
    },
    {
     "name": "stderr",
     "output_type": "stream",
     "text": [
      "100%|██████████| 199/199 [00:01<00:00, 160.19it/s]\n"
     ]
    },
    {
     "name": "stdout",
     "output_type": "stream",
     "text": [
      "{'ner': 44.67019162446962}\n"
     ]
    },
    {
     "name": "stderr",
     "output_type": "stream",
     "text": [
      "100%|██████████| 200/200 [00:01<00:00, 164.63it/s]\n"
     ]
    },
    {
     "name": "stdout",
     "output_type": "stream",
     "text": [
      "{'ner': 46.35065308598733}\n"
     ]
    },
    {
     "name": "stderr",
     "output_type": "stream",
     "text": [
      "100%|██████████| 201/201 [00:01<00:00, 168.88it/s]\n"
     ]
    },
    {
     "name": "stdout",
     "output_type": "stream",
     "text": [
      "{'ner': 48.21855144571628}\n"
     ]
    },
    {
     "name": "stderr",
     "output_type": "stream",
     "text": [
      "100%|██████████| 202/202 [00:01<00:00, 159.33it/s]\n"
     ]
    },
    {
     "name": "stdout",
     "output_type": "stream",
     "text": [
      "{'ner': 45.61418059480435}\n"
     ]
    },
    {
     "name": "stderr",
     "output_type": "stream",
     "text": [
      "100%|██████████| 203/203 [00:01<00:00, 156.47it/s]\n"
     ]
    },
    {
     "name": "stdout",
     "output_type": "stream",
     "text": [
      "{'ner': 46.02451460641453}\n"
     ]
    },
    {
     "name": "stderr",
     "output_type": "stream",
     "text": [
      "100%|██████████| 204/204 [00:01<00:00, 162.21it/s]\n"
     ]
    },
    {
     "name": "stdout",
     "output_type": "stream",
     "text": [
      "{'ner': 46.94399272563713}\n"
     ]
    },
    {
     "name": "stderr",
     "output_type": "stream",
     "text": [
      "100%|██████████| 205/205 [00:01<00:00, 151.35it/s]\n"
     ]
    },
    {
     "name": "stdout",
     "output_type": "stream",
     "text": [
      "{'ner': 45.724704592368866}\n"
     ]
    },
    {
     "name": "stderr",
     "output_type": "stream",
     "text": [
      "100%|██████████| 206/206 [00:01<00:00, 141.38it/s]\n"
     ]
    },
    {
     "name": "stdout",
     "output_type": "stream",
     "text": [
      "{'ner': 42.63594730067373}\n"
     ]
    },
    {
     "name": "stderr",
     "output_type": "stream",
     "text": [
      "100%|██████████| 207/207 [00:01<00:00, 158.66it/s]\n"
     ]
    },
    {
     "name": "stdout",
     "output_type": "stream",
     "text": [
      "{'ner': 42.30443944019471}\n"
     ]
    },
    {
     "name": "stderr",
     "output_type": "stream",
     "text": [
      "100%|██████████| 208/208 [00:01<00:00, 159.37it/s]\n"
     ]
    },
    {
     "name": "stdout",
     "output_type": "stream",
     "text": [
      "{'ner': 48.40942261659173}\n"
     ]
    },
    {
     "name": "stderr",
     "output_type": "stream",
     "text": [
      "100%|██████████| 209/209 [00:01<00:00, 161.40it/s]\n"
     ]
    },
    {
     "name": "stdout",
     "output_type": "stream",
     "text": [
      "{'ner': 48.4936644067331}\n"
     ]
    },
    {
     "name": "stderr",
     "output_type": "stream",
     "text": [
      "100%|██████████| 210/210 [00:01<00:00, 155.70it/s]\n"
     ]
    },
    {
     "name": "stdout",
     "output_type": "stream",
     "text": [
      "{'ner': 41.74341970754345}\n"
     ]
    },
    {
     "name": "stderr",
     "output_type": "stream",
     "text": [
      "100%|██████████| 211/211 [00:01<00:00, 163.05it/s]\n"
     ]
    },
    {
     "name": "stdout",
     "output_type": "stream",
     "text": [
      "{'ner': 45.157085078111145}\n"
     ]
    },
    {
     "name": "stderr",
     "output_type": "stream",
     "text": [
      "100%|██████████| 212/212 [00:01<00:00, 169.56it/s]\n"
     ]
    },
    {
     "name": "stdout",
     "output_type": "stream",
     "text": [
      "{'ner': 48.2423195740235}\n"
     ]
    },
    {
     "name": "stderr",
     "output_type": "stream",
     "text": [
      "100%|██████████| 213/213 [00:01<00:00, 158.32it/s]\n"
     ]
    },
    {
     "name": "stdout",
     "output_type": "stream",
     "text": [
      "{'ner': 45.11062470738498}\n"
     ]
    },
    {
     "name": "stderr",
     "output_type": "stream",
     "text": [
      "100%|██████████| 214/214 [00:01<00:00, 164.46it/s]\n"
     ]
    },
    {
     "name": "stdout",
     "output_type": "stream",
     "text": [
      "{'ner': 46.081157938096965}\n"
     ]
    },
    {
     "name": "stderr",
     "output_type": "stream",
     "text": [
      "100%|██████████| 215/215 [00:01<00:00, 168.00it/s]\n"
     ]
    },
    {
     "name": "stdout",
     "output_type": "stream",
     "text": [
      "{'ner': 48.080454643076756}\n"
     ]
    },
    {
     "name": "stderr",
     "output_type": "stream",
     "text": [
      "100%|██████████| 216/216 [00:01<00:00, 157.49it/s]\n"
     ]
    },
    {
     "name": "stdout",
     "output_type": "stream",
     "text": [
      "{'ner': 48.578932652572796}\n"
     ]
    },
    {
     "name": "stderr",
     "output_type": "stream",
     "text": [
      "100%|██████████| 217/217 [00:01<00:00, 164.70it/s]\n"
     ]
    },
    {
     "name": "stdout",
     "output_type": "stream",
     "text": [
      "{'ner': 49.82375997362231}\n"
     ]
    },
    {
     "name": "stderr",
     "output_type": "stream",
     "text": [
      "100%|██████████| 218/218 [00:01<00:00, 145.17it/s]\n"
     ]
    },
    {
     "name": "stdout",
     "output_type": "stream",
     "text": [
      "{'ner': 48.33802088748721}\n"
     ]
    },
    {
     "name": "stderr",
     "output_type": "stream",
     "text": [
      "100%|██████████| 219/219 [00:01<00:00, 166.85it/s]\n"
     ]
    },
    {
     "name": "stdout",
     "output_type": "stream",
     "text": [
      "{'ner': 49.842162271528174}\n"
     ]
    },
    {
     "name": "stderr",
     "output_type": "stream",
     "text": [
      "100%|██████████| 220/220 [00:01<00:00, 152.67it/s]\n"
     ]
    },
    {
     "name": "stdout",
     "output_type": "stream",
     "text": [
      "{'ner': 51.10970410690971}\n"
     ]
    },
    {
     "name": "stderr",
     "output_type": "stream",
     "text": [
      "100%|██████████| 221/221 [00:01<00:00, 148.48it/s]\n"
     ]
    },
    {
     "name": "stdout",
     "output_type": "stream",
     "text": [
      "{'ner': 48.05116158616203}\n"
     ]
    },
    {
     "name": "stderr",
     "output_type": "stream",
     "text": [
      "100%|██████████| 222/222 [00:01<00:00, 157.76it/s]\n"
     ]
    },
    {
     "name": "stdout",
     "output_type": "stream",
     "text": [
      "{'ner': 47.62565427483918}\n"
     ]
    },
    {
     "name": "stderr",
     "output_type": "stream",
     "text": [
      "100%|██████████| 223/223 [00:01<00:00, 152.79it/s]\n"
     ]
    },
    {
     "name": "stdout",
     "output_type": "stream",
     "text": [
      "{'ner': 46.801524038460194}\n"
     ]
    },
    {
     "name": "stderr",
     "output_type": "stream",
     "text": [
      "100%|██████████| 224/224 [00:01<00:00, 159.27it/s]\n"
     ]
    },
    {
     "name": "stdout",
     "output_type": "stream",
     "text": [
      "{'ner': 46.79531686129832}\n"
     ]
    },
    {
     "name": "stderr",
     "output_type": "stream",
     "text": [
      "100%|██████████| 225/225 [00:01<00:00, 172.01it/s]\n"
     ]
    },
    {
     "name": "stdout",
     "output_type": "stream",
     "text": [
      "{'ner': 47.2232382832122}\n"
     ]
    },
    {
     "name": "stderr",
     "output_type": "stream",
     "text": [
      "100%|██████████| 226/226 [00:01<00:00, 168.28it/s]\n"
     ]
    },
    {
     "name": "stdout",
     "output_type": "stream",
     "text": [
      "{'ner': 45.26146579650618}\n"
     ]
    },
    {
     "name": "stderr",
     "output_type": "stream",
     "text": [
      "100%|██████████| 227/227 [00:01<00:00, 144.69it/s]\n"
     ]
    },
    {
     "name": "stdout",
     "output_type": "stream",
     "text": [
      "{'ner': 51.377090063261306}\n"
     ]
    },
    {
     "name": "stderr",
     "output_type": "stream",
     "text": [
      "100%|██████████| 228/228 [00:01<00:00, 143.80it/s]\n"
     ]
    },
    {
     "name": "stdout",
     "output_type": "stream",
     "text": [
      "{'ner': 48.654834321236905}\n"
     ]
    },
    {
     "name": "stderr",
     "output_type": "stream",
     "text": [
      "100%|██████████| 229/229 [00:01<00:00, 167.71it/s]\n"
     ]
    },
    {
     "name": "stdout",
     "output_type": "stream",
     "text": [
      "{'ner': 48.32777715210149}\n"
     ]
    },
    {
     "name": "stderr",
     "output_type": "stream",
     "text": [
      "100%|██████████| 230/230 [00:01<00:00, 165.65it/s]\n"
     ]
    },
    {
     "name": "stdout",
     "output_type": "stream",
     "text": [
      "{'ner': 47.45408154226004}\n"
     ]
    },
    {
     "name": "stderr",
     "output_type": "stream",
     "text": [
      "100%|██████████| 231/231 [00:01<00:00, 148.97it/s]\n"
     ]
    },
    {
     "name": "stdout",
     "output_type": "stream",
     "text": [
      "{'ner': 49.253215119986606}\n"
     ]
    },
    {
     "name": "stderr",
     "output_type": "stream",
     "text": [
      "100%|██████████| 232/232 [00:01<00:00, 151.08it/s]\n"
     ]
    },
    {
     "name": "stdout",
     "output_type": "stream",
     "text": [
      "{'ner': 48.94474444928895}\n"
     ]
    },
    {
     "name": "stderr",
     "output_type": "stream",
     "text": [
      "100%|██████████| 233/233 [00:01<00:00, 168.39it/s]\n"
     ]
    },
    {
     "name": "stdout",
     "output_type": "stream",
     "text": [
      "{'ner': 51.69684320046595}\n"
     ]
    },
    {
     "name": "stderr",
     "output_type": "stream",
     "text": [
      "100%|██████████| 234/234 [00:01<00:00, 167.67it/s]\n"
     ]
    },
    {
     "name": "stdout",
     "output_type": "stream",
     "text": [
      "{'ner': 50.20598280870752}\n"
     ]
    },
    {
     "name": "stderr",
     "output_type": "stream",
     "text": [
      "100%|██████████| 235/235 [00:01<00:00, 161.94it/s]\n"
     ]
    },
    {
     "name": "stdout",
     "output_type": "stream",
     "text": [
      "{'ner': 48.18377166313249}\n"
     ]
    },
    {
     "name": "stderr",
     "output_type": "stream",
     "text": [
      "100%|██████████| 236/236 [00:01<00:00, 161.30it/s]\n"
     ]
    },
    {
     "name": "stdout",
     "output_type": "stream",
     "text": [
      "{'ner': 46.972222952449314}\n"
     ]
    },
    {
     "name": "stderr",
     "output_type": "stream",
     "text": [
      "100%|██████████| 237/237 [00:01<00:00, 160.99it/s]\n"
     ]
    },
    {
     "name": "stdout",
     "output_type": "stream",
     "text": [
      "{'ner': 49.3458555311007}\n"
     ]
    },
    {
     "name": "stderr",
     "output_type": "stream",
     "text": [
      "100%|██████████| 238/238 [00:01<00:00, 154.47it/s]\n"
     ]
    },
    {
     "name": "stdout",
     "output_type": "stream",
     "text": [
      "{'ner': 45.56863995067134}\n"
     ]
    },
    {
     "name": "stderr",
     "output_type": "stream",
     "text": [
      "100%|██████████| 239/239 [00:01<00:00, 158.89it/s]\n"
     ]
    },
    {
     "name": "stdout",
     "output_type": "stream",
     "text": [
      "{'ner': 50.4293542006654}\n"
     ]
    },
    {
     "name": "stderr",
     "output_type": "stream",
     "text": [
      "100%|██████████| 240/240 [00:01<00:00, 161.40it/s]\n"
     ]
    },
    {
     "name": "stdout",
     "output_type": "stream",
     "text": [
      "{'ner': 42.504693667493704}\n"
     ]
    },
    {
     "name": "stderr",
     "output_type": "stream",
     "text": [
      "100%|██████████| 241/241 [00:01<00:00, 153.42it/s]\n"
     ]
    },
    {
     "name": "stdout",
     "output_type": "stream",
     "text": [
      "{'ner': 48.56545679465354}\n"
     ]
    },
    {
     "name": "stderr",
     "output_type": "stream",
     "text": [
      "100%|██████████| 242/242 [00:01<00:00, 163.69it/s]\n"
     ]
    },
    {
     "name": "stdout",
     "output_type": "stream",
     "text": [
      "{'ner': 46.107251700979745}\n"
     ]
    },
    {
     "name": "stderr",
     "output_type": "stream",
     "text": [
      "100%|██████████| 243/243 [00:01<00:00, 165.95it/s]\n"
     ]
    },
    {
     "name": "stdout",
     "output_type": "stream",
     "text": [
      "{'ner': 46.827035612515175}\n"
     ]
    },
    {
     "name": "stderr",
     "output_type": "stream",
     "text": [
      "100%|██████████| 244/244 [00:01<00:00, 152.06it/s]\n"
     ]
    },
    {
     "name": "stdout",
     "output_type": "stream",
     "text": [
      "{'ner': 50.89404404175637}\n"
     ]
    },
    {
     "name": "stderr",
     "output_type": "stream",
     "text": [
      "100%|██████████| 245/245 [00:01<00:00, 146.37it/s]\n"
     ]
    },
    {
     "name": "stdout",
     "output_type": "stream",
     "text": [
      "{'ner': 48.27437197284326}\n"
     ]
    },
    {
     "name": "stderr",
     "output_type": "stream",
     "text": [
      "100%|██████████| 246/246 [00:01<00:00, 163.26it/s]\n"
     ]
    },
    {
     "name": "stdout",
     "output_type": "stream",
     "text": [
      "{'ner': 51.33263424490839}\n"
     ]
    },
    {
     "name": "stderr",
     "output_type": "stream",
     "text": [
      "100%|██████████| 247/247 [00:01<00:00, 157.84it/s]\n"
     ]
    },
    {
     "name": "stdout",
     "output_type": "stream",
     "text": [
      "{'ner': 47.760328950812806}\n"
     ]
    },
    {
     "name": "stderr",
     "output_type": "stream",
     "text": [
      "100%|██████████| 248/248 [00:01<00:00, 163.97it/s]\n"
     ]
    },
    {
     "name": "stdout",
     "output_type": "stream",
     "text": [
      "{'ner': 51.40329317404685}\n"
     ]
    },
    {
     "name": "stderr",
     "output_type": "stream",
     "text": [
      "100%|██████████| 249/249 [00:01<00:00, 167.40it/s]\n"
     ]
    },
    {
     "name": "stdout",
     "output_type": "stream",
     "text": [
      "{'ner': 49.99682325653267}\n"
     ]
    },
    {
     "name": "stderr",
     "output_type": "stream",
     "text": [
      "100%|██████████| 250/250 [00:01<00:00, 156.03it/s]\n"
     ]
    },
    {
     "name": "stdout",
     "output_type": "stream",
     "text": [
      "{'ner': 51.51120263247001}\n"
     ]
    },
    {
     "name": "stderr",
     "output_type": "stream",
     "text": [
      "100%|██████████| 251/251 [00:01<00:00, 158.86it/s]\n"
     ]
    },
    {
     "name": "stdout",
     "output_type": "stream",
     "text": [
      "{'ner': 50.61940706003046}\n"
     ]
    },
    {
     "name": "stderr",
     "output_type": "stream",
     "text": [
      "100%|██████████| 252/252 [00:01<00:00, 163.15it/s]\n"
     ]
    },
    {
     "name": "stdout",
     "output_type": "stream",
     "text": [
      "{'ner': 49.05509044074668}\n"
     ]
    },
    {
     "name": "stderr",
     "output_type": "stream",
     "text": [
      "100%|██████████| 253/253 [00:01<00:00, 171.18it/s]\n"
     ]
    },
    {
     "name": "stdout",
     "output_type": "stream",
     "text": [
      "{'ner': 50.872024489496354}\n"
     ]
    },
    {
     "name": "stderr",
     "output_type": "stream",
     "text": [
      "100%|██████████| 254/254 [00:01<00:00, 161.59it/s]\n"
     ]
    },
    {
     "name": "stdout",
     "output_type": "stream",
     "text": [
      "{'ner': 51.61828977729833}\n"
     ]
    },
    {
     "name": "stderr",
     "output_type": "stream",
     "text": [
      "100%|██████████| 255/255 [00:01<00:00, 168.54it/s]\n"
     ]
    },
    {
     "name": "stdout",
     "output_type": "stream",
     "text": [
      "{'ner': 50.73465255145236}\n"
     ]
    },
    {
     "name": "stderr",
     "output_type": "stream",
     "text": [
      "100%|██████████| 256/256 [00:01<00:00, 154.05it/s]\n"
     ]
    },
    {
     "name": "stdout",
     "output_type": "stream",
     "text": [
      "{'ner': 52.253041210466165}\n"
     ]
    },
    {
     "name": "stderr",
     "output_type": "stream",
     "text": [
      "100%|██████████| 257/257 [00:01<00:00, 157.56it/s]\n"
     ]
    },
    {
     "name": "stdout",
     "output_type": "stream",
     "text": [
      "{'ner': 47.266299456088525}\n"
     ]
    },
    {
     "name": "stderr",
     "output_type": "stream",
     "text": [
      "100%|██████████| 258/258 [00:01<00:00, 163.09it/s]\n"
     ]
    },
    {
     "name": "stdout",
     "output_type": "stream",
     "text": [
      "{'ner': 44.98022112985042}\n"
     ]
    },
    {
     "name": "stderr",
     "output_type": "stream",
     "text": [
      "100%|██████████| 259/259 [00:01<00:00, 164.53it/s]\n"
     ]
    },
    {
     "name": "stdout",
     "output_type": "stream",
     "text": [
      "{'ner': 48.294435615908526}\n"
     ]
    },
    {
     "name": "stderr",
     "output_type": "stream",
     "text": [
      "100%|██████████| 260/260 [00:01<00:00, 161.48it/s]\n"
     ]
    },
    {
     "name": "stdout",
     "output_type": "stream",
     "text": [
      "{'ner': 48.028725726144934}\n"
     ]
    },
    {
     "name": "stderr",
     "output_type": "stream",
     "text": [
      "100%|██████████| 261/261 [00:01<00:00, 165.00it/s]\n"
     ]
    },
    {
     "name": "stdout",
     "output_type": "stream",
     "text": [
      "{'ner': 52.34916792624707}\n"
     ]
    },
    {
     "name": "stderr",
     "output_type": "stream",
     "text": [
      "100%|██████████| 262/262 [00:01<00:00, 148.38it/s]\n"
     ]
    },
    {
     "name": "stdout",
     "output_type": "stream",
     "text": [
      "{'ner': 48.83980320717713}\n"
     ]
    },
    {
     "name": "stderr",
     "output_type": "stream",
     "text": [
      "100%|██████████| 263/263 [00:01<00:00, 162.65it/s]\n"
     ]
    },
    {
     "name": "stdout",
     "output_type": "stream",
     "text": [
      "{'ner': 49.881995327520904}\n"
     ]
    },
    {
     "name": "stderr",
     "output_type": "stream",
     "text": [
      "100%|██████████| 264/264 [00:01<00:00, 161.24it/s]\n"
     ]
    },
    {
     "name": "stdout",
     "output_type": "stream",
     "text": [
      "{'ner': 52.031225053529425}\n"
     ]
    },
    {
     "name": "stderr",
     "output_type": "stream",
     "text": [
      "100%|██████████| 265/265 [00:01<00:00, 171.41it/s]\n"
     ]
    },
    {
     "name": "stdout",
     "output_type": "stream",
     "text": [
      "{'ner': 46.7937114881705}\n"
     ]
    },
    {
     "name": "stderr",
     "output_type": "stream",
     "text": [
      "100%|██████████| 266/266 [00:01<00:00, 169.61it/s]\n"
     ]
    },
    {
     "name": "stdout",
     "output_type": "stream",
     "text": [
      "{'ner': 49.313301253380736}\n"
     ]
    },
    {
     "name": "stderr",
     "output_type": "stream",
     "text": [
      "100%|██████████| 267/267 [00:01<00:00, 171.43it/s]\n"
     ]
    },
    {
     "name": "stdout",
     "output_type": "stream",
     "text": [
      "{'ner': 50.58594724484168}\n"
     ]
    },
    {
     "name": "stderr",
     "output_type": "stream",
     "text": [
      "100%|██████████| 268/268 [00:01<00:00, 167.33it/s]\n"
     ]
    },
    {
     "name": "stdout",
     "output_type": "stream",
     "text": [
      "{'ner': 48.13834640619845}\n"
     ]
    },
    {
     "name": "stderr",
     "output_type": "stream",
     "text": [
      "100%|██████████| 269/269 [00:01<00:00, 150.72it/s]\n"
     ]
    },
    {
     "name": "stdout",
     "output_type": "stream",
     "text": [
      "{'ner': 50.669950191598566}\n"
     ]
    },
    {
     "name": "stderr",
     "output_type": "stream",
     "text": [
      "100%|██████████| 270/270 [00:01<00:00, 162.90it/s]\n"
     ]
    },
    {
     "name": "stdout",
     "output_type": "stream",
     "text": [
      "{'ner': 46.29337074702978}\n"
     ]
    },
    {
     "name": "stderr",
     "output_type": "stream",
     "text": [
      "100%|██████████| 271/271 [00:01<00:00, 156.73it/s]\n"
     ]
    },
    {
     "name": "stdout",
     "output_type": "stream",
     "text": [
      "{'ner': 49.27826355243725}\n"
     ]
    },
    {
     "name": "stderr",
     "output_type": "stream",
     "text": [
      "100%|██████████| 272/272 [00:01<00:00, 149.52it/s]\n"
     ]
    },
    {
     "name": "stdout",
     "output_type": "stream",
     "text": [
      "{'ner': 48.99561780825775}\n"
     ]
    },
    {
     "name": "stderr",
     "output_type": "stream",
     "text": [
      "100%|██████████| 273/273 [00:01<00:00, 159.88it/s]\n"
     ]
    },
    {
     "name": "stdout",
     "output_type": "stream",
     "text": [
      "{'ner': 50.877964550897055}\n"
     ]
    },
    {
     "name": "stderr",
     "output_type": "stream",
     "text": [
      "100%|██████████| 274/274 [00:01<00:00, 160.57it/s]\n"
     ]
    },
    {
     "name": "stdout",
     "output_type": "stream",
     "text": [
      "{'ner': 46.3048503843761}\n"
     ]
    },
    {
     "name": "stderr",
     "output_type": "stream",
     "text": [
      "100%|██████████| 275/275 [00:01<00:00, 156.10it/s]\n"
     ]
    },
    {
     "name": "stdout",
     "output_type": "stream",
     "text": [
      "{'ner': 48.229716735623434}\n"
     ]
    },
    {
     "name": "stderr",
     "output_type": "stream",
     "text": [
      "100%|██████████| 276/276 [00:01<00:00, 175.59it/s]\n"
     ]
    },
    {
     "name": "stdout",
     "output_type": "stream",
     "text": [
      "{'ner': 52.74502135620365}\n"
     ]
    },
    {
     "name": "stderr",
     "output_type": "stream",
     "text": [
      "100%|██████████| 277/277 [00:01<00:00, 161.89it/s]\n"
     ]
    },
    {
     "name": "stdout",
     "output_type": "stream",
     "text": [
      "{'ner': 50.12940315589067}\n"
     ]
    },
    {
     "name": "stderr",
     "output_type": "stream",
     "text": [
      "100%|██████████| 278/278 [00:01<00:00, 167.77it/s]\n"
     ]
    },
    {
     "name": "stdout",
     "output_type": "stream",
     "text": [
      "{'ner': 52.57210325851958}\n"
     ]
    },
    {
     "name": "stderr",
     "output_type": "stream",
     "text": [
      "100%|██████████| 279/279 [00:01<00:00, 158.39it/s]\n"
     ]
    },
    {
     "name": "stdout",
     "output_type": "stream",
     "text": [
      "{'ner': 49.300023082141706}\n"
     ]
    },
    {
     "name": "stderr",
     "output_type": "stream",
     "text": [
      "100%|██████████| 280/280 [00:01<00:00, 151.48it/s]\n"
     ]
    },
    {
     "name": "stdout",
     "output_type": "stream",
     "text": [
      "{'ner': 49.67827048221056}\n"
     ]
    },
    {
     "name": "stderr",
     "output_type": "stream",
     "text": [
      "100%|██████████| 281/281 [00:01<00:00, 158.92it/s]\n"
     ]
    },
    {
     "name": "stdout",
     "output_type": "stream",
     "text": [
      "{'ner': 51.352766912636824}\n"
     ]
    },
    {
     "name": "stderr",
     "output_type": "stream",
     "text": [
      "100%|██████████| 282/282 [00:01<00:00, 154.45it/s]\n"
     ]
    },
    {
     "name": "stdout",
     "output_type": "stream",
     "text": [
      "{'ner': 49.98004990017287}\n"
     ]
    },
    {
     "name": "stderr",
     "output_type": "stream",
     "text": [
      "100%|██████████| 283/283 [00:01<00:00, 159.23it/s]\n"
     ]
    },
    {
     "name": "stdout",
     "output_type": "stream",
     "text": [
      "{'ner': 51.15285177667024}\n"
     ]
    },
    {
     "name": "stderr",
     "output_type": "stream",
     "text": [
      "100%|██████████| 284/284 [00:01<00:00, 161.04it/s]\n"
     ]
    },
    {
     "name": "stdout",
     "output_type": "stream",
     "text": [
      "{'ner': 48.163581029449055}\n"
     ]
    },
    {
     "name": "stderr",
     "output_type": "stream",
     "text": [
      "100%|██████████| 285/285 [00:01<00:00, 168.29it/s]\n"
     ]
    },
    {
     "name": "stdout",
     "output_type": "stream",
     "text": [
      "{'ner': 52.84771825013353}\n"
     ]
    },
    {
     "name": "stderr",
     "output_type": "stream",
     "text": [
      "100%|██████████| 286/286 [00:01<00:00, 168.76it/s]\n"
     ]
    },
    {
     "name": "stdout",
     "output_type": "stream",
     "text": [
      "{'ner': 51.39685261238043}\n"
     ]
    },
    {
     "name": "stderr",
     "output_type": "stream",
     "text": [
      "100%|██████████| 287/287 [00:01<00:00, 164.31it/s]\n"
     ]
    },
    {
     "name": "stdout",
     "output_type": "stream",
     "text": [
      "{'ner': 47.49756410254609}\n"
     ]
    },
    {
     "name": "stderr",
     "output_type": "stream",
     "text": [
      "100%|██████████| 288/288 [00:01<00:00, 165.36it/s]\n"
     ]
    },
    {
     "name": "stdout",
     "output_type": "stream",
     "text": [
      "{'ner': 53.11312153787484}\n"
     ]
    },
    {
     "name": "stderr",
     "output_type": "stream",
     "text": [
      "100%|██████████| 289/289 [00:01<00:00, 165.92it/s]\n"
     ]
    },
    {
     "name": "stdout",
     "output_type": "stream",
     "text": [
      "{'ner': 56.45556901111585}\n"
     ]
    },
    {
     "name": "stderr",
     "output_type": "stream",
     "text": [
      "100%|██████████| 290/290 [00:01<00:00, 172.64it/s]\n"
     ]
    },
    {
     "name": "stdout",
     "output_type": "stream",
     "text": [
      "{'ner': 58.648113250475056}\n"
     ]
    },
    {
     "name": "stderr",
     "output_type": "stream",
     "text": [
      "100%|██████████| 291/291 [00:01<00:00, 169.12it/s]\n"
     ]
    },
    {
     "name": "stdout",
     "output_type": "stream",
     "text": [
      "{'ner': 61.97520624092637}\n"
     ]
    },
    {
     "name": "stderr",
     "output_type": "stream",
     "text": [
      "100%|██████████| 292/292 [00:01<00:00, 178.34it/s]\n"
     ]
    },
    {
     "name": "stdout",
     "output_type": "stream",
     "text": [
      "{'ner': 60.448342768276156}\n"
     ]
    },
    {
     "name": "stderr",
     "output_type": "stream",
     "text": [
      "100%|██████████| 293/293 [00:01<00:00, 165.77it/s]\n"
     ]
    },
    {
     "name": "stdout",
     "output_type": "stream",
     "text": [
      "{'ner': 61.67070515060337}\n"
     ]
    },
    {
     "name": "stderr",
     "output_type": "stream",
     "text": [
      "100%|██████████| 294/294 [00:01<00:00, 169.68it/s]\n"
     ]
    },
    {
     "name": "stdout",
     "output_type": "stream",
     "text": [
      "{'ner': 67.11102675238574}\n"
     ]
    },
    {
     "name": "stderr",
     "output_type": "stream",
     "text": [
      "100%|██████████| 295/295 [00:01<00:00, 164.61it/s]\n"
     ]
    },
    {
     "name": "stdout",
     "output_type": "stream",
     "text": [
      "{'ner': 65.23224575657707}\n"
     ]
    },
    {
     "name": "stderr",
     "output_type": "stream",
     "text": [
      "100%|██████████| 296/296 [00:01<00:00, 163.65it/s]\n"
     ]
    },
    {
     "name": "stdout",
     "output_type": "stream",
     "text": [
      "{'ner': 69.42718545174564}\n"
     ]
    },
    {
     "name": "stderr",
     "output_type": "stream",
     "text": [
      "100%|██████████| 297/297 [00:01<00:00, 165.94it/s]\n"
     ]
    },
    {
     "name": "stdout",
     "output_type": "stream",
     "text": [
      "{'ner': 73.67978242727042}\n"
     ]
    },
    {
     "name": "stderr",
     "output_type": "stream",
     "text": [
      "100%|██████████| 298/298 [00:01<00:00, 166.29it/s]\n"
     ]
    },
    {
     "name": "stdout",
     "output_type": "stream",
     "text": [
      "{'ner': 69.6011351182778}\n"
     ]
    },
    {
     "name": "stderr",
     "output_type": "stream",
     "text": [
      "100%|██████████| 299/299 [00:01<00:00, 161.42it/s]\n"
     ]
    },
    {
     "name": "stdout",
     "output_type": "stream",
     "text": [
      "{'ner': 73.42770203595376}\n"
     ]
    },
    {
     "name": "stderr",
     "output_type": "stream",
     "text": [
      "100%|██████████| 300/300 [00:01<00:00, 165.67it/s]\n"
     ]
    },
    {
     "name": "stdout",
     "output_type": "stream",
     "text": [
      "{'ner': 71.40720231431364}\n"
     ]
    },
    {
     "name": "stderr",
     "output_type": "stream",
     "text": [
      "100%|██████████| 301/301 [00:01<00:00, 166.56it/s]\n"
     ]
    },
    {
     "name": "stdout",
     "output_type": "stream",
     "text": [
      "{'ner': 68.92123132035476}\n"
     ]
    },
    {
     "name": "stderr",
     "output_type": "stream",
     "text": [
      "100%|██████████| 302/302 [00:01<00:00, 168.71it/s]\n"
     ]
    },
    {
     "name": "stdout",
     "output_type": "stream",
     "text": [
      "{'ner': 73.78263170062812}\n"
     ]
    },
    {
     "name": "stderr",
     "output_type": "stream",
     "text": [
      "100%|██████████| 303/303 [00:01<00:00, 170.22it/s]\n"
     ]
    },
    {
     "name": "stdout",
     "output_type": "stream",
     "text": [
      "{'ner': 73.25710569221137}\n"
     ]
    },
    {
     "name": "stderr",
     "output_type": "stream",
     "text": [
      "100%|██████████| 304/304 [00:01<00:00, 168.35it/s]\n"
     ]
    },
    {
     "name": "stdout",
     "output_type": "stream",
     "text": [
      "{'ner': 74.8973656847348}\n"
     ]
    },
    {
     "name": "stderr",
     "output_type": "stream",
     "text": [
      "100%|██████████| 305/305 [00:01<00:00, 163.75it/s]\n"
     ]
    },
    {
     "name": "stdout",
     "output_type": "stream",
     "text": [
      "{'ner': 77.10998815210479}\n"
     ]
    },
    {
     "name": "stderr",
     "output_type": "stream",
     "text": [
      "100%|██████████| 306/306 [00:01<00:00, 165.45it/s]\n"
     ]
    },
    {
     "name": "stdout",
     "output_type": "stream",
     "text": [
      "{'ner': 70.26289435590579}\n"
     ]
    },
    {
     "name": "stderr",
     "output_type": "stream",
     "text": [
      "100%|██████████| 307/307 [00:01<00:00, 167.55it/s]\n"
     ]
    },
    {
     "name": "stdout",
     "output_type": "stream",
     "text": [
      "{'ner': 76.44752379374788}\n"
     ]
    },
    {
     "name": "stderr",
     "output_type": "stream",
     "text": [
      "100%|██████████| 308/308 [00:01<00:00, 169.39it/s]\n"
     ]
    },
    {
     "name": "stdout",
     "output_type": "stream",
     "text": [
      "{'ner': 79.84556929284284}\n"
     ]
    },
    {
     "name": "stderr",
     "output_type": "stream",
     "text": [
      "100%|██████████| 309/309 [00:01<00:00, 164.41it/s]\n"
     ]
    },
    {
     "name": "stdout",
     "output_type": "stream",
     "text": [
      "{'ner': 80.27507236087783}\n"
     ]
    },
    {
     "name": "stderr",
     "output_type": "stream",
     "text": [
      "100%|██████████| 310/310 [00:01<00:00, 173.22it/s]\n"
     ]
    },
    {
     "name": "stdout",
     "output_type": "stream",
     "text": [
      "{'ner': 72.0137941833179}\n"
     ]
    },
    {
     "name": "stderr",
     "output_type": "stream",
     "text": [
      "100%|██████████| 311/311 [00:02<00:00, 150.79it/s]\n"
     ]
    },
    {
     "name": "stdout",
     "output_type": "stream",
     "text": [
      "{'ner': 77.60958692906948}\n"
     ]
    },
    {
     "name": "stderr",
     "output_type": "stream",
     "text": [
      "100%|██████████| 312/312 [00:01<00:00, 168.46it/s]\n"
     ]
    },
    {
     "name": "stdout",
     "output_type": "stream",
     "text": [
      "{'ner': 75.91743282804592}\n"
     ]
    },
    {
     "name": "stderr",
     "output_type": "stream",
     "text": [
      "100%|██████████| 313/313 [00:02<00:00, 154.33it/s]\n"
     ]
    },
    {
     "name": "stdout",
     "output_type": "stream",
     "text": [
      "{'ner': 72.63522710338489}\n"
     ]
    },
    {
     "name": "stderr",
     "output_type": "stream",
     "text": [
      "100%|██████████| 314/314 [00:02<00:00, 156.61it/s]\n"
     ]
    },
    {
     "name": "stdout",
     "output_type": "stream",
     "text": [
      "{'ner': 76.59061583358523}\n"
     ]
    },
    {
     "name": "stderr",
     "output_type": "stream",
     "text": [
      "100%|██████████| 315/315 [00:02<00:00, 156.63it/s]\n"
     ]
    },
    {
     "name": "stdout",
     "output_type": "stream",
     "text": [
      "{'ner': 71.834304447447}\n"
     ]
    },
    {
     "name": "stderr",
     "output_type": "stream",
     "text": [
      "100%|██████████| 316/316 [00:01<00:00, 164.87it/s]\n"
     ]
    },
    {
     "name": "stdout",
     "output_type": "stream",
     "text": [
      "{'ner': 73.87597725365228}\n"
     ]
    },
    {
     "name": "stderr",
     "output_type": "stream",
     "text": [
      "100%|██████████| 317/317 [00:01<00:00, 163.82it/s]\n"
     ]
    },
    {
     "name": "stdout",
     "output_type": "stream",
     "text": [
      "{'ner': 79.16874843640957}\n"
     ]
    },
    {
     "name": "stderr",
     "output_type": "stream",
     "text": [
      "100%|██████████| 318/318 [00:01<00:00, 172.28it/s]\n"
     ]
    },
    {
     "name": "stdout",
     "output_type": "stream",
     "text": [
      "{'ner': 75.82604439235371}\n"
     ]
    },
    {
     "name": "stderr",
     "output_type": "stream",
     "text": [
      "100%|██████████| 319/319 [00:01<00:00, 167.16it/s]\n"
     ]
    },
    {
     "name": "stdout",
     "output_type": "stream",
     "text": [
      "{'ner': 71.68586191715391}\n"
     ]
    },
    {
     "name": "stderr",
     "output_type": "stream",
     "text": [
      "100%|██████████| 320/320 [00:01<00:00, 162.76it/s]\n"
     ]
    },
    {
     "name": "stdout",
     "output_type": "stream",
     "text": [
      "{'ner': 74.04161929491202}\n"
     ]
    },
    {
     "name": "stderr",
     "output_type": "stream",
     "text": [
      "100%|██████████| 321/321 [00:02<00:00, 155.42it/s]\n"
     ]
    },
    {
     "name": "stdout",
     "output_type": "stream",
     "text": [
      "{'ner': 81.15077731810746}\n"
     ]
    },
    {
     "name": "stderr",
     "output_type": "stream",
     "text": [
      "100%|██████████| 322/322 [00:02<00:00, 159.21it/s]\n"
     ]
    },
    {
     "name": "stdout",
     "output_type": "stream",
     "text": [
      "{'ner': 74.49581390945885}\n"
     ]
    },
    {
     "name": "stderr",
     "output_type": "stream",
     "text": [
      "100%|██████████| 323/323 [00:02<00:00, 159.35it/s]\n"
     ]
    },
    {
     "name": "stdout",
     "output_type": "stream",
     "text": [
      "{'ner': 72.15126993354966}\n"
     ]
    },
    {
     "name": "stderr",
     "output_type": "stream",
     "text": [
      "100%|██████████| 324/324 [00:01<00:00, 165.85it/s]\n"
     ]
    },
    {
     "name": "stdout",
     "output_type": "stream",
     "text": [
      "{'ner': 79.08360362915796}\n"
     ]
    },
    {
     "name": "stderr",
     "output_type": "stream",
     "text": [
      "100%|██████████| 325/325 [00:01<00:00, 164.76it/s]\n"
     ]
    },
    {
     "name": "stdout",
     "output_type": "stream",
     "text": [
      "{'ner': 85.96312767779527}\n"
     ]
    },
    {
     "name": "stderr",
     "output_type": "stream",
     "text": [
      "100%|██████████| 326/326 [00:01<00:00, 169.56it/s]\n"
     ]
    },
    {
     "name": "stdout",
     "output_type": "stream",
     "text": [
      "{'ner': 85.7750523315338}\n"
     ]
    },
    {
     "name": "stderr",
     "output_type": "stream",
     "text": [
      "100%|██████████| 327/327 [00:01<00:00, 171.47it/s]\n"
     ]
    },
    {
     "name": "stdout",
     "output_type": "stream",
     "text": [
      "{'ner': 88.4417124169507}\n"
     ]
    },
    {
     "name": "stderr",
     "output_type": "stream",
     "text": [
      "100%|██████████| 328/328 [00:01<00:00, 168.00it/s]\n"
     ]
    },
    {
     "name": "stdout",
     "output_type": "stream",
     "text": [
      "{'ner': 93.12742257220654}\n"
     ]
    },
    {
     "name": "stderr",
     "output_type": "stream",
     "text": [
      "100%|██████████| 329/329 [00:01<00:00, 170.27it/s]\n"
     ]
    },
    {
     "name": "stdout",
     "output_type": "stream",
     "text": [
      "{'ner': 97.81694305315564}\n"
     ]
    },
    {
     "name": "stderr",
     "output_type": "stream",
     "text": [
      "100%|██████████| 330/330 [00:02<00:00, 161.10it/s]\n"
     ]
    },
    {
     "name": "stdout",
     "output_type": "stream",
     "text": [
      "{'ner': 96.96389671388415}\n"
     ]
    },
    {
     "name": "stderr",
     "output_type": "stream",
     "text": [
      "100%|██████████| 331/331 [00:02<00:00, 146.04it/s]\n"
     ]
    },
    {
     "name": "stdout",
     "output_type": "stream",
     "text": [
      "{'ner': 91.2578795333933}\n"
     ]
    },
    {
     "name": "stderr",
     "output_type": "stream",
     "text": [
      "100%|██████████| 332/332 [00:02<00:00, 159.93it/s]\n"
     ]
    },
    {
     "name": "stdout",
     "output_type": "stream",
     "text": [
      "{'ner': 96.1672017622715}\n"
     ]
    },
    {
     "name": "stderr",
     "output_type": "stream",
     "text": [
      "100%|██████████| 333/333 [00:01<00:00, 168.59it/s]\n"
     ]
    },
    {
     "name": "stdout",
     "output_type": "stream",
     "text": [
      "{'ner': 88.84352647363852}\n"
     ]
    },
    {
     "name": "stderr",
     "output_type": "stream",
     "text": [
      "100%|██████████| 334/334 [00:02<00:00, 146.83it/s]\n"
     ]
    },
    {
     "name": "stdout",
     "output_type": "stream",
     "text": [
      "{'ner': 92.44173263714985}\n"
     ]
    },
    {
     "name": "stderr",
     "output_type": "stream",
     "text": [
      "100%|██████████| 335/335 [00:02<00:00, 157.04it/s]\n"
     ]
    },
    {
     "name": "stdout",
     "output_type": "stream",
     "text": [
      "{'ner': 93.1930662871776}\n"
     ]
    },
    {
     "name": "stderr",
     "output_type": "stream",
     "text": [
      "100%|██████████| 336/336 [00:02<00:00, 162.82it/s]\n"
     ]
    },
    {
     "name": "stdout",
     "output_type": "stream",
     "text": [
      "{'ner': 92.11448278502564}\n"
     ]
    },
    {
     "name": "stderr",
     "output_type": "stream",
     "text": [
      "100%|██████████| 337/337 [00:02<00:00, 160.93it/s]\n"
     ]
    },
    {
     "name": "stdout",
     "output_type": "stream",
     "text": [
      "{'ner': 100.76959964997708}\n"
     ]
    },
    {
     "name": "stderr",
     "output_type": "stream",
     "text": [
      "100%|██████████| 338/338 [00:01<00:00, 172.39it/s]\n"
     ]
    },
    {
     "name": "stdout",
     "output_type": "stream",
     "text": [
      "{'ner': 97.32558551658309}\n"
     ]
    },
    {
     "name": "stderr",
     "output_type": "stream",
     "text": [
      "100%|██████████| 339/339 [00:02<00:00, 165.48it/s]\n"
     ]
    },
    {
     "name": "stdout",
     "output_type": "stream",
     "text": [
      "{'ner': 99.83451671842512}\n"
     ]
    },
    {
     "name": "stderr",
     "output_type": "stream",
     "text": [
      "100%|██████████| 340/340 [00:02<00:00, 156.16it/s]\n"
     ]
    },
    {
     "name": "stdout",
     "output_type": "stream",
     "text": [
      "{'ner': 98.06453161821703}\n"
     ]
    },
    {
     "name": "stderr",
     "output_type": "stream",
     "text": [
      "100%|██████████| 341/341 [00:02<00:00, 161.57it/s]\n"
     ]
    },
    {
     "name": "stdout",
     "output_type": "stream",
     "text": [
      "{'ner': 90.31221740458967}\n"
     ]
    },
    {
     "name": "stderr",
     "output_type": "stream",
     "text": [
      "100%|██████████| 342/342 [00:02<00:00, 156.22it/s]\n"
     ]
    },
    {
     "name": "stdout",
     "output_type": "stream",
     "text": [
      "{'ner': 97.2927839888254}\n"
     ]
    },
    {
     "name": "stderr",
     "output_type": "stream",
     "text": [
      " 66%|██████▋   | 228/343 [00:01<00:00, 162.89it/s]\n"
     ]
    },
    {
     "ename": "KeyboardInterrupt",
     "evalue": "",
     "output_type": "error",
     "traceback": [
      "\u001b[0;31m---------------------------------------------------------------------------\u001b[0m",
      "\u001b[0;31mKeyboardInterrupt\u001b[0m                         Traceback (most recent call last)",
      "\u001b[1;32m/Users/test/Documents/Ner/spacy.ipynb Ячейка 24\u001b[0m line \u001b[0;36m1\n\u001b[1;32m     <a href='vscode-notebook-cell:/Users/test/Documents/Ner/spacy.ipynb#X26sZmlsZQ%3D%3D?line=12'>13</a>\u001b[0m losses \u001b[39m=\u001b[39m {}\n\u001b[1;32m     <a href='vscode-notebook-cell:/Users/test/Documents/Ner/spacy.ipynb#X26sZmlsZQ%3D%3D?line=13'>14</a>\u001b[0m \u001b[39mfor\u001b[39;00m example \u001b[39min\u001b[39;00m tqdm(examples):\n\u001b[0;32m---> <a href='vscode-notebook-cell:/Users/test/Documents/Ner/spacy.ipynb#X26sZmlsZQ%3D%3D?line=14'>15</a>\u001b[0m     nlp\u001b[39m.\u001b[39;49mupdate(\n\u001b[1;32m     <a href='vscode-notebook-cell:/Users/test/Documents/Ner/spacy.ipynb#X26sZmlsZQ%3D%3D?line=15'>16</a>\u001b[0m         [example],  \n\u001b[1;32m     <a href='vscode-notebook-cell:/Users/test/Documents/Ner/spacy.ipynb#X26sZmlsZQ%3D%3D?line=16'>17</a>\u001b[0m         drop\u001b[39m=\u001b[39;49m\u001b[39m0.5\u001b[39;49m,  \n\u001b[1;32m     <a href='vscode-notebook-cell:/Users/test/Documents/Ner/spacy.ipynb#X26sZmlsZQ%3D%3D?line=17'>18</a>\u001b[0m         losses\u001b[39m=\u001b[39;49mlosses)\n\u001b[1;32m     <a href='vscode-notebook-cell:/Users/test/Documents/Ner/spacy.ipynb#X26sZmlsZQ%3D%3D?line=18'>19</a>\u001b[0m \u001b[39mprint\u001b[39m(losses)\n",
      "File \u001b[0;32m~/Documents/Ner/.venv/lib/python3.9/site-packages/spacy/language.py:1193\u001b[0m, in \u001b[0;36mLanguage.update\u001b[0;34m(self, examples, _, drop, sgd, losses, component_cfg, exclude, annotates)\u001b[0m\n\u001b[1;32m   1190\u001b[0m \u001b[39mfor\u001b[39;00m name, proc \u001b[39min\u001b[39;00m \u001b[39mself\u001b[39m\u001b[39m.\u001b[39mpipeline:\n\u001b[1;32m   1191\u001b[0m     \u001b[39m# ignore statements are used here because mypy ignores hasattr\u001b[39;00m\n\u001b[1;32m   1192\u001b[0m     \u001b[39mif\u001b[39;00m name \u001b[39mnot\u001b[39;00m \u001b[39min\u001b[39;00m exclude \u001b[39mand\u001b[39;00m \u001b[39mhasattr\u001b[39m(proc, \u001b[39m\"\u001b[39m\u001b[39mupdate\u001b[39m\u001b[39m\"\u001b[39m):\n\u001b[0;32m-> 1193\u001b[0m         proc\u001b[39m.\u001b[39;49mupdate(examples, sgd\u001b[39m=\u001b[39;49m\u001b[39mNone\u001b[39;49;00m, losses\u001b[39m=\u001b[39;49mlosses, \u001b[39m*\u001b[39;49m\u001b[39m*\u001b[39;49mcomponent_cfg[name])  \u001b[39m# type: ignore\u001b[39;00m\n\u001b[1;32m   1194\u001b[0m     \u001b[39mif\u001b[39;00m sgd \u001b[39mnot\u001b[39;00m \u001b[39min\u001b[39;00m (\u001b[39mNone\u001b[39;00m, \u001b[39mFalse\u001b[39;00m):\n\u001b[1;32m   1195\u001b[0m         \u001b[39mif\u001b[39;00m (\n\u001b[1;32m   1196\u001b[0m             name \u001b[39mnot\u001b[39;00m \u001b[39min\u001b[39;00m exclude\n\u001b[1;32m   1197\u001b[0m             \u001b[39mand\u001b[39;00m \u001b[39misinstance\u001b[39m(proc, ty\u001b[39m.\u001b[39mTrainableComponent)\n\u001b[1;32m   1198\u001b[0m             \u001b[39mand\u001b[39;00m proc\u001b[39m.\u001b[39mis_trainable\n\u001b[1;32m   1199\u001b[0m             \u001b[39mand\u001b[39;00m proc\u001b[39m.\u001b[39mmodel \u001b[39mnot\u001b[39;00m \u001b[39min\u001b[39;00m (\u001b[39mTrue\u001b[39;00m, \u001b[39mFalse\u001b[39;00m, \u001b[39mNone\u001b[39;00m)\n\u001b[1;32m   1200\u001b[0m         ):\n",
      "File \u001b[0;32m~/Documents/Ner/.venv/lib/python3.9/site-packages/spacy/pipeline/transition_parser.pyx:439\u001b[0m, in \u001b[0;36mspacy.pipeline.transition_parser.Parser.update\u001b[0;34m()\u001b[0m\n",
      "File \u001b[0;32m~/Documents/Ner/.venv/lib/python3.9/site-packages/spacy/ml/parser_model.pyx:334\u001b[0m, in \u001b[0;36mspacy.ml.parser_model.ParserStepModel.finish_steps\u001b[0;34m()\u001b[0m\n",
      "File \u001b[0;32m~/Documents/Ner/.venv/lib/python3.9/site-packages/thinc/layers/chain.py:60\u001b[0m, in \u001b[0;36mforward.<locals>.backprop\u001b[0;34m(dY)\u001b[0m\n\u001b[1;32m     58\u001b[0m \u001b[39mdef\u001b[39;00m \u001b[39mbackprop\u001b[39m(dY: OutT) \u001b[39m-\u001b[39m\u001b[39m>\u001b[39m InT:\n\u001b[1;32m     59\u001b[0m     \u001b[39mfor\u001b[39;00m callback \u001b[39min\u001b[39;00m \u001b[39mreversed\u001b[39m(callbacks):\n\u001b[0;32m---> 60\u001b[0m         dX \u001b[39m=\u001b[39m callback(dY)\n\u001b[1;32m     61\u001b[0m         dY \u001b[39m=\u001b[39m dX\n\u001b[1;32m     62\u001b[0m     \u001b[39mreturn\u001b[39;00m dX\n",
      "File \u001b[0;32m~/Documents/Ner/.venv/lib/python3.9/site-packages/thinc/layers/chain.py:60\u001b[0m, in \u001b[0;36mforward.<locals>.backprop\u001b[0;34m(dY)\u001b[0m\n\u001b[1;32m     58\u001b[0m \u001b[39mdef\u001b[39;00m \u001b[39mbackprop\u001b[39m(dY: OutT) \u001b[39m-\u001b[39m\u001b[39m>\u001b[39m InT:\n\u001b[1;32m     59\u001b[0m     \u001b[39mfor\u001b[39;00m callback \u001b[39min\u001b[39;00m \u001b[39mreversed\u001b[39m(callbacks):\n\u001b[0;32m---> 60\u001b[0m         dX \u001b[39m=\u001b[39m callback(dY)\n\u001b[1;32m     61\u001b[0m         dY \u001b[39m=\u001b[39m dX\n\u001b[1;32m     62\u001b[0m     \u001b[39mreturn\u001b[39;00m dX\n",
      "File \u001b[0;32m~/Documents/Ner/.venv/lib/python3.9/site-packages/thinc/layers/with_array.py:81\u001b[0m, in \u001b[0;36m_list_forward.<locals>.backprop\u001b[0;34m(dYs)\u001b[0m\n\u001b[1;32m     79\u001b[0m \u001b[39mdef\u001b[39;00m \u001b[39mbackprop\u001b[39m(dYs: ListXd) \u001b[39m-\u001b[39m\u001b[39m>\u001b[39m ListXd:\n\u001b[1;32m     80\u001b[0m     dYf \u001b[39m=\u001b[39m layer\u001b[39m.\u001b[39mops\u001b[39m.\u001b[39mflatten(dYs, pad\u001b[39m=\u001b[39mpad)\n\u001b[0;32m---> 81\u001b[0m     dXf \u001b[39m=\u001b[39m get_dXf(dYf)\n\u001b[1;32m     82\u001b[0m     \u001b[39mreturn\u001b[39;00m layer\u001b[39m.\u001b[39mops\u001b[39m.\u001b[39munflatten(dXf, lengths, pad\u001b[39m=\u001b[39mpad)\n",
      "File \u001b[0;32m~/Documents/Ner/.venv/lib/python3.9/site-packages/thinc/layers/chain.py:60\u001b[0m, in \u001b[0;36mforward.<locals>.backprop\u001b[0;34m(dY)\u001b[0m\n\u001b[1;32m     58\u001b[0m \u001b[39mdef\u001b[39;00m \u001b[39mbackprop\u001b[39m(dY: OutT) \u001b[39m-\u001b[39m\u001b[39m>\u001b[39m InT:\n\u001b[1;32m     59\u001b[0m     \u001b[39mfor\u001b[39;00m callback \u001b[39min\u001b[39;00m \u001b[39mreversed\u001b[39m(callbacks):\n\u001b[0;32m---> 60\u001b[0m         dX \u001b[39m=\u001b[39m callback(dY)\n\u001b[1;32m     61\u001b[0m         dY \u001b[39m=\u001b[39m dX\n\u001b[1;32m     62\u001b[0m     \u001b[39mreturn\u001b[39;00m dX\n",
      "File \u001b[0;32m~/Documents/Ner/.venv/lib/python3.9/site-packages/thinc/layers/residual.py:30\u001b[0m, in \u001b[0;36mforward.<locals>.backprop\u001b[0;34m(d_output)\u001b[0m\n\u001b[1;32m     29\u001b[0m \u001b[39mdef\u001b[39;00m \u001b[39mbackprop\u001b[39m(d_output: InT) \u001b[39m-\u001b[39m\u001b[39m>\u001b[39m InT:\n\u001b[0;32m---> 30\u001b[0m     dX \u001b[39m=\u001b[39m backprop_layer(d_output)\n\u001b[1;32m     31\u001b[0m     \u001b[39mif\u001b[39;00m \u001b[39misinstance\u001b[39m(d_output, \u001b[39mlist\u001b[39m):\n\u001b[1;32m     32\u001b[0m         \u001b[39mreturn\u001b[39;00m [d_output[i] \u001b[39m+\u001b[39m dX[i] \u001b[39mfor\u001b[39;00m i \u001b[39min\u001b[39;00m \u001b[39mrange\u001b[39m(\u001b[39mlen\u001b[39m(d_output))]\n",
      "File \u001b[0;32m~/Documents/Ner/.venv/lib/python3.9/site-packages/thinc/layers/chain.py:60\u001b[0m, in \u001b[0;36mforward.<locals>.backprop\u001b[0;34m(dY)\u001b[0m\n\u001b[1;32m     58\u001b[0m \u001b[39mdef\u001b[39;00m \u001b[39mbackprop\u001b[39m(dY: OutT) \u001b[39m-\u001b[39m\u001b[39m>\u001b[39m InT:\n\u001b[1;32m     59\u001b[0m     \u001b[39mfor\u001b[39;00m callback \u001b[39min\u001b[39;00m \u001b[39mreversed\u001b[39m(callbacks):\n\u001b[0;32m---> 60\u001b[0m         dX \u001b[39m=\u001b[39m callback(dY)\n\u001b[1;32m     61\u001b[0m         dY \u001b[39m=\u001b[39m dX\n\u001b[1;32m     62\u001b[0m     \u001b[39mreturn\u001b[39;00m dX\n",
      "File \u001b[0;32m~/Documents/Ner/.venv/lib/python3.9/site-packages/thinc/layers/chain.py:60\u001b[0m, in \u001b[0;36mforward.<locals>.backprop\u001b[0;34m(dY)\u001b[0m\n\u001b[1;32m     58\u001b[0m \u001b[39mdef\u001b[39;00m \u001b[39mbackprop\u001b[39m(dY: OutT) \u001b[39m-\u001b[39m\u001b[39m>\u001b[39m InT:\n\u001b[1;32m     59\u001b[0m     \u001b[39mfor\u001b[39;00m callback \u001b[39min\u001b[39;00m \u001b[39mreversed\u001b[39m(callbacks):\n\u001b[0;32m---> 60\u001b[0m         dX \u001b[39m=\u001b[39m callback(dY)\n\u001b[1;32m     61\u001b[0m         dY \u001b[39m=\u001b[39m dX\n\u001b[1;32m     62\u001b[0m     \u001b[39mreturn\u001b[39;00m dX\n",
      "File \u001b[0;32m~/Documents/Ner/.venv/lib/python3.9/site-packages/thinc/layers/chain.py:60\u001b[0m, in \u001b[0;36mforward.<locals>.backprop\u001b[0;34m(dY)\u001b[0m\n\u001b[1;32m     58\u001b[0m \u001b[39mdef\u001b[39;00m \u001b[39mbackprop\u001b[39m(dY: OutT) \u001b[39m-\u001b[39m\u001b[39m>\u001b[39m InT:\n\u001b[1;32m     59\u001b[0m     \u001b[39mfor\u001b[39;00m callback \u001b[39min\u001b[39;00m \u001b[39mreversed\u001b[39m(callbacks):\n\u001b[0;32m---> 60\u001b[0m         dX \u001b[39m=\u001b[39m callback(dY)\n\u001b[1;32m     61\u001b[0m         dY \u001b[39m=\u001b[39m dX\n\u001b[1;32m     62\u001b[0m     \u001b[39mreturn\u001b[39;00m dX\n",
      "File \u001b[0;32m~/Documents/Ner/.venv/lib/python3.9/site-packages/thinc/layers/maxout.py:64\u001b[0m, in \u001b[0;36mforward.<locals>.backprop\u001b[0;34m(d_best)\u001b[0m\n\u001b[1;32m     62\u001b[0m dW \u001b[39m=\u001b[39m model\u001b[39m.\u001b[39mops\u001b[39m.\u001b[39mreshape3f(model\u001b[39m.\u001b[39mops\u001b[39m.\u001b[39mgemm(dY, X, trans1\u001b[39m=\u001b[39m\u001b[39mTrue\u001b[39;00m), nO, nP, nI)\n\u001b[1;32m     63\u001b[0m model\u001b[39m.\u001b[39minc_grad(\u001b[39m\"\u001b[39m\u001b[39mW\u001b[39m\u001b[39m\"\u001b[39m, dW)\n\u001b[0;32m---> 64\u001b[0m \u001b[39mreturn\u001b[39;00m model\u001b[39m.\u001b[39;49mops\u001b[39m.\u001b[39;49mgemm(dY, model\u001b[39m.\u001b[39;49mops\u001b[39m.\u001b[39;49mreshape2f(W, nO \u001b[39m*\u001b[39;49m nP, nI))\n",
      "\u001b[0;31mKeyboardInterrupt\u001b[0m: "
     ]
    }
   ],
   "source": [
    "from spacy.training.example import Example\n",
    "\n",
    "\n",
    "examples = []\n",
    "for text, annotations in data:\n",
    "    example = Example.from_dict(nlp.make_doc(text), annotations)\n",
    "    examples.append(example)\n",
    "    other_pipes = [pipe for pipe in nlp.pipe_names if pipe != 'ner']\n",
    "    with nlp.disable_pipes(*other_pipes):  # Только обучение NER\n",
    "      optimizer = nlp.begin_training()\n",
    "      for itn in range(n_iter):\n",
    "        random.shuffle(examples)\n",
    "        losses = {}\n",
    "        for example in tqdm(examples):\n",
    "            nlp.update(\n",
    "                [example],  \n",
    "                drop=0.5,  \n",
    "                losses=losses)\n",
    "        print(losses)\n"
   ]
  },
  {
   "cell_type": "markdown",
   "metadata": {},
   "source": [
    "Ищем именованные сущности"
   ]
  },
  {
   "cell_type": "code",
   "execution_count": null,
   "metadata": {},
   "outputs": [],
   "source": [
    "for text, _ in data:\n",
    "    doc = nlp(text)\n",
    "    print('Entities', [(ent.text, ent.label_) for ent in doc.ents])"
   ]
  },
  {
   "cell_type": "markdown",
   "metadata": {},
   "source": [
    "Сохраняем нашу модельку"
   ]
  },
  {
   "cell_type": "code",
   "execution_count": null,
   "metadata": {},
   "outputs": [],
   "source": [
    "if output_dir is not None:\n",
    "    output_dir = Path(output_dir)\n",
    "    if not output_dir.exists():\n",
    "        output_dir.mkdir()\n",
    "    nlp.to_disk(output_dir)\n",
    "    print(\"Saved model to\", output_dir)"
   ]
  },
  {
   "cell_type": "markdown",
   "metadata": {},
   "source": [
    "Загружаем"
   ]
  },
  {
   "cell_type": "code",
   "execution_count": null,
   "metadata": {},
   "outputs": [],
   "source": [
    "model = spacy.load('model_name')"
   ]
  }
 ],
 "metadata": {
  "kernelspec": {
   "display_name": ".venv",
   "language": "python",
   "name": "python3"
  },
  "language_info": {
   "codemirror_mode": {
    "name": "ipython",
    "version": 3
   },
   "file_extension": ".py",
   "mimetype": "text/x-python",
   "name": "python",
   "nbconvert_exporter": "python",
   "pygments_lexer": "ipython3",
   "version": "3.9.6"
  }
 },
 "nbformat": 4,
 "nbformat_minor": 2
}
